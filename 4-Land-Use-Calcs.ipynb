{
 "cells": [
  {
   "cell_type": "code",
   "execution_count": 257,
   "metadata": {},
   "outputs": [],
   "source": [
    "import os\n",
    "import numpy as np\n",
    "import pandas as pd\n",
    "import geopandas as gpd\n",
    "import _config\n",
    "import importlib"
   ]
  },
  {
   "cell_type": "code",
   "execution_count": 258,
   "metadata": {},
   "outputs": [
    {
     "data": {
      "text/plain": [
       "<module '_config' from 'e:\\\\GitHub\\\\Wasatch-Choice-Land-Use-And-Transit-Scenario\\\\_config.py'>"
      ]
     },
     "execution_count": 258,
     "metadata": {},
     "output_type": "execute_result"
    }
   ],
   "source": [
    "importlib.reload(_config)"
   ]
  },
  {
   "cell_type": "code",
   "execution_count": 259,
   "metadata": {},
   "outputs": [],
   "source": [
    "input_taz_shapefile_folder    = _config.input_taz_shapefile_folder\n",
    "taz_shapefile                 = _config.taz_shapefile\n",
    "se_years                      = _config.se_years\n",
    "input_model_se_folder         = _config.input_model_se_folder\n",
    "se_base_year                  = _config.se_base_year\n",
    "df_centers                    = _config.df_centers\n",
    "df_projects                   = _config.df_projects\n",
    "hh_factor                     = _config.hh_factor\n",
    "df_centers_county_multipliers = _config.df_centers_county_multipliers\n",
    "use_county_multiplier         = _config.use_county_multiplier\n",
    "lookup_county                 = _config.lookup_county"
   ]
  },
  {
   "cell_type": "markdown",
   "metadata": {},
   "source": [
    "# Read in data from previous notebooks"
   ]
  },
  {
   "cell_type": "code",
   "execution_count": 260,
   "metadata": {},
   "outputs": [
    {
     "data": {
      "text/html": [
       "<div>\n",
       "<style scoped>\n",
       "    .dataframe tbody tr th:only-of-type {\n",
       "        vertical-align: middle;\n",
       "    }\n",
       "\n",
       "    .dataframe tbody tr th {\n",
       "        vertical-align: top;\n",
       "    }\n",
       "\n",
       "    .dataframe thead th {\n",
       "        text-align: right;\n",
       "    }\n",
       "</style>\n",
       "<table border=\"1\" class=\"dataframe\">\n",
       "  <thead>\n",
       "    <tr style=\"text-align: right;\">\n",
       "      <th></th>\n",
       "      <th>AreaName</th>\n",
       "      <th>AreaType</th>\n",
       "      <th>Area</th>\n",
       "      <th>TAZID</th>\n",
       "      <th>CO_FIPS</th>\n",
       "      <th>TAZACRES</th>\n",
       "      <th>sqm</th>\n",
       "      <th>acres</th>\n",
       "      <th>geometry</th>\n",
       "    </tr>\n",
       "  </thead>\n",
       "  <tbody>\n",
       "    <tr>\n",
       "      <th>0</th>\n",
       "      <td>Crossroads</td>\n",
       "      <td>City Center</td>\n",
       "      <td>Utah County</td>\n",
       "      <td>2496</td>\n",
       "      <td>49</td>\n",
       "      <td>165.490872</td>\n",
       "      <td>306078.979084</td>\n",
       "      <td>75.633763</td>\n",
       "      <td>POLYGON ((421958.924 4468475.185, 421704.024 4...</td>\n",
       "    </tr>\n",
       "    <tr>\n",
       "      <th>1</th>\n",
       "      <td>Crossroads</td>\n",
       "      <td>City Center</td>\n",
       "      <td>Utah County</td>\n",
       "      <td>2503</td>\n",
       "      <td>49</td>\n",
       "      <td>85.734122</td>\n",
       "      <td>185231.805669</td>\n",
       "      <td>45.771776</td>\n",
       "      <td>POLYGON ((422468.715 4468706.905, 422213.825 4...</td>\n",
       "    </tr>\n",
       "    <tr>\n",
       "      <th>2</th>\n",
       "      <td>Crossroads</td>\n",
       "      <td>City Center</td>\n",
       "      <td>Utah County</td>\n",
       "      <td>2504</td>\n",
       "      <td>49</td>\n",
       "      <td>146.410140</td>\n",
       "      <td>82.317025</td>\n",
       "      <td>0.020341</td>\n",
       "      <td>POLYGON ((422640.942 4469115.927, 422641.047 4...</td>\n",
       "    </tr>\n",
       "    <tr>\n",
       "      <th>3</th>\n",
       "      <td>Crossroads</td>\n",
       "      <td>City Center</td>\n",
       "      <td>Utah County</td>\n",
       "      <td>2505</td>\n",
       "      <td>49</td>\n",
       "      <td>76.823967</td>\n",
       "      <td>167718.011467</td>\n",
       "      <td>41.444023</td>\n",
       "      <td>POLYGON ((422654.105 4469147.185, 422649.306 4...</td>\n",
       "    </tr>\n",
       "    <tr>\n",
       "      <th>4</th>\n",
       "      <td>Crossroads</td>\n",
       "      <td>City Center</td>\n",
       "      <td>Utah County</td>\n",
       "      <td>2498</td>\n",
       "      <td>49</td>\n",
       "      <td>112.631810</td>\n",
       "      <td>268457.440292</td>\n",
       "      <td>66.337278</td>\n",
       "      <td>POLYGON ((421588.154 4469911.650, 421669.151 4...</td>\n",
       "    </tr>\n",
       "    <tr>\n",
       "      <th>...</th>\n",
       "      <td>...</td>\n",
       "      <td>...</td>\n",
       "      <td>...</td>\n",
       "      <td>...</td>\n",
       "      <td>...</td>\n",
       "      <td>...</td>\n",
       "      <td>...</td>\n",
       "      <td>...</td>\n",
       "      <td>...</td>\n",
       "    </tr>\n",
       "    <tr>\n",
       "      <th>1224</th>\n",
       "      <td>Meadowbrook Station</td>\n",
       "      <td>City Center</td>\n",
       "      <td>WFRC MPO</td>\n",
       "      <td>1492</td>\n",
       "      <td>35</td>\n",
       "      <td>45.728115</td>\n",
       "      <td>149005.282516</td>\n",
       "      <td>36.820007</td>\n",
       "      <td>POLYGON ((424235.616 4505014.079, 424269.116 4...</td>\n",
       "    </tr>\n",
       "    <tr>\n",
       "      <th>1225</th>\n",
       "      <td>Meadowbrook Station</td>\n",
       "      <td>City Center</td>\n",
       "      <td>WFRC MPO</td>\n",
       "      <td>1493</td>\n",
       "      <td>35</td>\n",
       "      <td>50.633831</td>\n",
       "      <td>109626.735660</td>\n",
       "      <td>27.089356</td>\n",
       "      <td>MULTIPOLYGON (((424462.516 4504848.479, 424705...</td>\n",
       "    </tr>\n",
       "    <tr>\n",
       "      <th>1226</th>\n",
       "      <td>Meadowbrook Station</td>\n",
       "      <td>City Center</td>\n",
       "      <td>WFRC MPO</td>\n",
       "      <td>1494</td>\n",
       "      <td>35</td>\n",
       "      <td>50.381448</td>\n",
       "      <td>108708.827297</td>\n",
       "      <td>26.862536</td>\n",
       "      <td>POLYGON ((424715.708 4504846.582, 424945.987 4...</td>\n",
       "    </tr>\n",
       "    <tr>\n",
       "      <th>1227</th>\n",
       "      <td>Meadowbrook Station</td>\n",
       "      <td>City Center</td>\n",
       "      <td>WFRC MPO</td>\n",
       "      <td>1495</td>\n",
       "      <td>35</td>\n",
       "      <td>88.369280</td>\n",
       "      <td>93800.997173</td>\n",
       "      <td>23.178731</td>\n",
       "      <td>POLYGON ((424961.771 4504845.920, 424963.041 4...</td>\n",
       "    </tr>\n",
       "    <tr>\n",
       "      <th>1228</th>\n",
       "      <td>Meadowbrook Station</td>\n",
       "      <td>City Center</td>\n",
       "      <td>WFRC MPO</td>\n",
       "      <td>1536</td>\n",
       "      <td>35</td>\n",
       "      <td>91.121896</td>\n",
       "      <td>197953.429630</td>\n",
       "      <td>48.915358</td>\n",
       "      <td>POLYGON ((425168.804 4504395.069, 425182.939 4...</td>\n",
       "    </tr>\n",
       "  </tbody>\n",
       "</table>\n",
       "<p>1229 rows × 9 columns</p>\n",
       "</div>"
      ],
      "text/plain": [
       "                 AreaName     AreaType         Area  TAZID  CO_FIPS  \\\n",
       "0              Crossroads  City Center  Utah County   2496       49   \n",
       "1              Crossroads  City Center  Utah County   2503       49   \n",
       "2              Crossroads  City Center  Utah County   2504       49   \n",
       "3              Crossroads  City Center  Utah County   2505       49   \n",
       "4              Crossroads  City Center  Utah County   2498       49   \n",
       "...                   ...          ...          ...    ...      ...   \n",
       "1224  Meadowbrook Station  City Center     WFRC MPO   1492       35   \n",
       "1225  Meadowbrook Station  City Center     WFRC MPO   1493       35   \n",
       "1226  Meadowbrook Station  City Center     WFRC MPO   1494       35   \n",
       "1227  Meadowbrook Station  City Center     WFRC MPO   1495       35   \n",
       "1228  Meadowbrook Station  City Center     WFRC MPO   1536       35   \n",
       "\n",
       "        TAZACRES            sqm      acres  \\\n",
       "0     165.490872  306078.979084  75.633763   \n",
       "1      85.734122  185231.805669  45.771776   \n",
       "2     146.410140      82.317025   0.020341   \n",
       "3      76.823967  167718.011467  41.444023   \n",
       "4     112.631810  268457.440292  66.337278   \n",
       "...          ...            ...        ...   \n",
       "1224   45.728115  149005.282516  36.820007   \n",
       "1225   50.633831  109626.735660  27.089356   \n",
       "1226   50.381448  108708.827297  26.862536   \n",
       "1227   88.369280   93800.997173  23.178731   \n",
       "1228   91.121896  197953.429630  48.915358   \n",
       "\n",
       "                                               geometry  \n",
       "0     POLYGON ((421958.924 4468475.185, 421704.024 4...  \n",
       "1     POLYGON ((422468.715 4468706.905, 422213.825 4...  \n",
       "2     POLYGON ((422640.942 4469115.927, 422641.047 4...  \n",
       "3     POLYGON ((422654.105 4469147.185, 422649.306 4...  \n",
       "4     POLYGON ((421588.154 4469911.650, 421669.151 4...  \n",
       "...                                                 ...  \n",
       "1224  POLYGON ((424235.616 4505014.079, 424269.116 4...  \n",
       "1225  MULTIPOLYGON (((424462.516 4504848.479, 424705...  \n",
       "1226  POLYGON ((424715.708 4504846.582, 424945.987 4...  \n",
       "1227  POLYGON ((424961.771 4504845.920, 424963.041 4...  \n",
       "1228  POLYGON ((425168.804 4504395.069, 425182.939 4...  \n",
       "\n",
       "[1229 rows x 9 columns]"
      ]
     },
     "metadata": {},
     "output_type": "display_data"
    },
    {
     "data": {
      "text/plain": [
       "<AxesSubplot:>"
      ]
     },
     "execution_count": 260,
     "metadata": {},
     "output_type": "execute_result"
    },
    {
     "data": {
      "image/png": "[encoded data removed]",
      "text/plain": [
       "<Figure size 640x480 with 1 Axes>"
      ]
     },
     "metadata": {},
     "output_type": "display_data"
    }
   ],
   "source": [
    "centers_taz_gdf = gpd.read_file(\"intermediate/centers-taz.geojson\")\n",
    "display(centers_taz_gdf)\n",
    "centers_taz_gdf.plot()"
   ]
  },
  {
   "cell_type": "code",
   "execution_count": 261,
   "metadata": {},
   "outputs": [
    {
     "data": {
      "text/plain": [
       "array([49, 11, 35, 57,  3], dtype=int64)"
      ]
     },
     "execution_count": 261,
     "metadata": {},
     "output_type": "execute_result"
    }
   ],
   "source": [
    "centers_taz_gdf['CO_FIPS'].unique()"
   ]
  },
  {
   "cell_type": "code",
   "execution_count": 262,
   "metadata": {},
   "outputs": [
    {
     "data": {
      "text/html": [
       "<div>\n",
       "<style scoped>\n",
       "    .dataframe tbody tr th:only-of-type {\n",
       "        vertical-align: middle;\n",
       "    }\n",
       "\n",
       "    .dataframe tbody tr th {\n",
       "        vertical-align: top;\n",
       "    }\n",
       "\n",
       "    .dataframe thead th {\n",
       "        text-align: right;\n",
       "    }\n",
       "</style>\n",
       "<table border=\"1\" class=\"dataframe\">\n",
       "  <thead>\n",
       "    <tr style=\"text-align: right;\">\n",
       "      <th></th>\n",
       "      <th>TAZID</th>\n",
       "      <th>AreaName</th>\n",
       "      <th>AreaType</th>\n",
       "      <th>pctu_ch</th>\n",
       "    </tr>\n",
       "  </thead>\n",
       "  <tbody>\n",
       "    <tr>\n",
       "      <th>0</th>\n",
       "      <td>170.0</td>\n",
       "      <td>West Warren Center</td>\n",
       "      <td>Neighborhood Center</td>\n",
       "      <td>0.000000</td>\n",
       "    </tr>\n",
       "    <tr>\n",
       "      <th>1</th>\n",
       "      <td>171.0</td>\n",
       "      <td>West Warren Center</td>\n",
       "      <td>Neighborhood Center</td>\n",
       "      <td>0.000000</td>\n",
       "    </tr>\n",
       "    <tr>\n",
       "      <th>2</th>\n",
       "      <td>174.0</td>\n",
       "      <td>West Weber</td>\n",
       "      <td>Neighborhood Center</td>\n",
       "      <td>1.000000</td>\n",
       "    </tr>\n",
       "    <tr>\n",
       "      <th>3</th>\n",
       "      <td>175.0</td>\n",
       "      <td>West Weber</td>\n",
       "      <td>Neighborhood Center</td>\n",
       "      <td>0.747799</td>\n",
       "    </tr>\n",
       "    <tr>\n",
       "      <th>4</th>\n",
       "      <td>176.0</td>\n",
       "      <td>West 12th Street</td>\n",
       "      <td>Neighborhood Center</td>\n",
       "      <td>0.000000</td>\n",
       "    </tr>\n",
       "    <tr>\n",
       "      <th>...</th>\n",
       "      <td>...</td>\n",
       "      <td>...</td>\n",
       "      <td>...</td>\n",
       "      <td>...</td>\n",
       "    </tr>\n",
       "    <tr>\n",
       "      <th>1133</th>\n",
       "      <td>3388.0</td>\n",
       "      <td>Salem</td>\n",
       "      <td>Neighborhood Center</td>\n",
       "      <td>0.000000</td>\n",
       "    </tr>\n",
       "    <tr>\n",
       "      <th>1134</th>\n",
       "      <td>3394.0</td>\n",
       "      <td>Salem</td>\n",
       "      <td>Neighborhood Center</td>\n",
       "      <td>0.000000</td>\n",
       "    </tr>\n",
       "    <tr>\n",
       "      <th>1135</th>\n",
       "      <td>3405.0</td>\n",
       "      <td>Salem</td>\n",
       "      <td>Neighborhood Center</td>\n",
       "      <td>0.000000</td>\n",
       "    </tr>\n",
       "    <tr>\n",
       "      <th>1136</th>\n",
       "      <td>3406.0</td>\n",
       "      <td>Salem</td>\n",
       "      <td>Neighborhood Center</td>\n",
       "      <td>0.000000</td>\n",
       "    </tr>\n",
       "    <tr>\n",
       "      <th>1137</th>\n",
       "      <td>3407.0</td>\n",
       "      <td>Salem</td>\n",
       "      <td>Neighborhood Center</td>\n",
       "      <td>0.000000</td>\n",
       "    </tr>\n",
       "  </tbody>\n",
       "</table>\n",
       "<p>1138 rows × 4 columns</p>\n",
       "</div>"
      ],
      "text/plain": [
       "       TAZID            AreaName             AreaType   pctu_ch\n",
       "0      170.0  West Warren Center  Neighborhood Center  0.000000\n",
       "1      171.0  West Warren Center  Neighborhood Center  0.000000\n",
       "2      174.0          West Weber  Neighborhood Center  1.000000\n",
       "3      175.0          West Weber  Neighborhood Center  0.747799\n",
       "4      176.0    West 12th Street  Neighborhood Center  0.000000\n",
       "...      ...                 ...                  ...       ...\n",
       "1133  3388.0               Salem  Neighborhood Center  0.000000\n",
       "1134  3394.0               Salem  Neighborhood Center  0.000000\n",
       "1135  3405.0               Salem  Neighborhood Center  0.000000\n",
       "1136  3406.0               Salem  Neighborhood Center  0.000000\n",
       "1137  3407.0               Salem  Neighborhood Center  0.000000\n",
       "\n",
       "[1138 rows x 4 columns]"
      ]
     },
     "metadata": {},
     "output_type": "display_data"
    },
    {
     "data": {
      "text/html": [
       "<div>\n",
       "<style scoped>\n",
       "    .dataframe tbody tr th:only-of-type {\n",
       "        vertical-align: middle;\n",
       "    }\n",
       "\n",
       "    .dataframe tbody tr th {\n",
       "        vertical-align: top;\n",
       "    }\n",
       "\n",
       "    .dataframe thead th {\n",
       "        text-align: right;\n",
       "    }\n",
       "</style>\n",
       "<table border=\"1\" class=\"dataframe\">\n",
       "  <thead>\n",
       "    <tr style=\"text-align: right;\">\n",
       "      <th></th>\n",
       "      <th>TAZID</th>\n",
       "      <th>AreaName</th>\n",
       "      <th>AreaType</th>\n",
       "      <th>TOTEMP</th>\n",
       "      <th>TOTHH</th>\n",
       "    </tr>\n",
       "  </thead>\n",
       "  <tbody>\n",
       "    <tr>\n",
       "      <th>0</th>\n",
       "      <td>170.0</td>\n",
       "      <td>West Warren Center</td>\n",
       "      <td>Neighborhood Center</td>\n",
       "      <td>0.033064</td>\n",
       "      <td>0.015085</td>\n",
       "    </tr>\n",
       "    <tr>\n",
       "      <th>1</th>\n",
       "      <td>171.0</td>\n",
       "      <td>West Warren Center</td>\n",
       "      <td>Neighborhood Center</td>\n",
       "      <td>1.000000</td>\n",
       "      <td>0.008553</td>\n",
       "    </tr>\n",
       "    <tr>\n",
       "      <th>2</th>\n",
       "      <td>174.0</td>\n",
       "      <td>West Weber</td>\n",
       "      <td>Neighborhood Center</td>\n",
       "      <td>0.812660</td>\n",
       "      <td>0.063838</td>\n",
       "    </tr>\n",
       "    <tr>\n",
       "      <th>3</th>\n",
       "      <td>175.0</td>\n",
       "      <td>West Weber</td>\n",
       "      <td>Neighborhood Center</td>\n",
       "      <td>0.679508</td>\n",
       "      <td>0.061880</td>\n",
       "    </tr>\n",
       "    <tr>\n",
       "      <th>4</th>\n",
       "      <td>176.0</td>\n",
       "      <td>West 12th Street</td>\n",
       "      <td>Neighborhood Center</td>\n",
       "      <td>0.725612</td>\n",
       "      <td>0.226521</td>\n",
       "    </tr>\n",
       "    <tr>\n",
       "      <th>...</th>\n",
       "      <td>...</td>\n",
       "      <td>...</td>\n",
       "      <td>...</td>\n",
       "      <td>...</td>\n",
       "      <td>...</td>\n",
       "    </tr>\n",
       "    <tr>\n",
       "      <th>1097</th>\n",
       "      <td>3388.0</td>\n",
       "      <td>Salem</td>\n",
       "      <td>Neighborhood Center</td>\n",
       "      <td>0.000000</td>\n",
       "      <td>0.053695</td>\n",
       "    </tr>\n",
       "    <tr>\n",
       "      <th>1098</th>\n",
       "      <td>3394.0</td>\n",
       "      <td>Salem</td>\n",
       "      <td>Neighborhood Center</td>\n",
       "      <td>0.000000</td>\n",
       "      <td>0.220781</td>\n",
       "    </tr>\n",
       "    <tr>\n",
       "      <th>1099</th>\n",
       "      <td>3405.0</td>\n",
       "      <td>Salem</td>\n",
       "      <td>Neighborhood Center</td>\n",
       "      <td>0.000000</td>\n",
       "      <td>0.094746</td>\n",
       "    </tr>\n",
       "    <tr>\n",
       "      <th>1100</th>\n",
       "      <td>3406.0</td>\n",
       "      <td>Salem</td>\n",
       "      <td>Neighborhood Center</td>\n",
       "      <td>0.000000</td>\n",
       "      <td>0.168630</td>\n",
       "    </tr>\n",
       "    <tr>\n",
       "      <th>1101</th>\n",
       "      <td>3407.0</td>\n",
       "      <td>Salem</td>\n",
       "      <td>Neighborhood Center</td>\n",
       "      <td>0.000000</td>\n",
       "      <td>0.017241</td>\n",
       "    </tr>\n",
       "  </tbody>\n",
       "</table>\n",
       "<p>1102 rows × 5 columns</p>\n",
       "</div>"
      ],
      "text/plain": [
       "       TAZID            AreaName             AreaType    TOTEMP     TOTHH\n",
       "0      170.0  West Warren Center  Neighborhood Center  0.033064  0.015085\n",
       "1      171.0  West Warren Center  Neighborhood Center  1.000000  0.008553\n",
       "2      174.0          West Weber  Neighborhood Center  0.812660  0.063838\n",
       "3      175.0          West Weber  Neighborhood Center  0.679508  0.061880\n",
       "4      176.0    West 12th Street  Neighborhood Center  0.725612  0.226521\n",
       "...      ...                 ...                  ...       ...       ...\n",
       "1097  3388.0               Salem  Neighborhood Center  0.000000  0.053695\n",
       "1098  3394.0               Salem  Neighborhood Center  0.000000  0.220781\n",
       "1099  3405.0               Salem  Neighborhood Center  0.000000  0.094746\n",
       "1100  3406.0               Salem  Neighborhood Center  0.000000  0.168630\n",
       "1101  3407.0               Salem  Neighborhood Center  0.000000  0.017241\n",
       "\n",
       "[1102 rows x 5 columns]"
      ]
     },
     "metadata": {},
     "output_type": "display_data"
    }
   ],
   "source": [
    "# read proportions from REMM data\n",
    "df_percent_changeable = pd.read_csv('intermediate/percent-changeable.csv')\n",
    "display(df_percent_changeable)\n",
    "df_area_ratio_of_taz = pd.read_csv('intermediate/parameter-area-ratio-of-taz.csv')\n",
    "display(df_area_ratio_of_taz)"
   ]
  },
  {
   "cell_type": "code",
   "execution_count": 263,
   "metadata": {},
   "outputs": [
    {
     "data": {
      "text/html": [
       "<div>\n",
       "<style scoped>\n",
       "    .dataframe tbody tr th:only-of-type {\n",
       "        vertical-align: middle;\n",
       "    }\n",
       "\n",
       "    .dataframe tbody tr th {\n",
       "        vertical-align: top;\n",
       "    }\n",
       "\n",
       "    .dataframe thead th {\n",
       "        text-align: right;\n",
       "    }\n",
       "</style>\n",
       "<table border=\"1\" class=\"dataframe\">\n",
       "  <thead>\n",
       "    <tr style=\"text-align: right;\">\n",
       "      <th></th>\n",
       "      <th>AreaName</th>\n",
       "      <th>AreaType</th>\n",
       "      <th>TAZID</th>\n",
       "      <th>TAZACRES</th>\n",
       "      <th>CO_FIPS</th>\n",
       "      <th>sqm</th>\n",
       "      <th>acres</th>\n",
       "      <th>geometry</th>\n",
       "      <th>pctu_ch</th>\n",
       "      <th>parameter</th>\n",
       "      <th>taz_ratio</th>\n",
       "    </tr>\n",
       "  </thead>\n",
       "  <tbody>\n",
       "    <tr>\n",
       "      <th>0</th>\n",
       "      <td>Crossroads</td>\n",
       "      <td>City Center</td>\n",
       "      <td>2496</td>\n",
       "      <td>165.490872</td>\n",
       "      <td>49</td>\n",
       "      <td>306078.979084</td>\n",
       "      <td>75.633763</td>\n",
       "      <td>POLYGON ((421958.924 4468475.185, 421704.024 4...</td>\n",
       "      <td>0.869309</td>\n",
       "      <td>Area</td>\n",
       "      <td>Utah County</td>\n",
       "    </tr>\n",
       "    <tr>\n",
       "      <th>1</th>\n",
       "      <td>Crossroads</td>\n",
       "      <td>City Center</td>\n",
       "      <td>2503</td>\n",
       "      <td>85.734122</td>\n",
       "      <td>49</td>\n",
       "      <td>185231.805669</td>\n",
       "      <td>45.771776</td>\n",
       "      <td>POLYGON ((422468.715 4468706.905, 422213.825 4...</td>\n",
       "      <td>1.000000</td>\n",
       "      <td>Area</td>\n",
       "      <td>Utah County</td>\n",
       "    </tr>\n",
       "    <tr>\n",
       "      <th>2</th>\n",
       "      <td>Crossroads</td>\n",
       "      <td>City Center</td>\n",
       "      <td>2504</td>\n",
       "      <td>146.410140</td>\n",
       "      <td>49</td>\n",
       "      <td>82.317025</td>\n",
       "      <td>0.020341</td>\n",
       "      <td>POLYGON ((422640.942 4469115.927, 422641.047 4...</td>\n",
       "      <td>1.000000</td>\n",
       "      <td>Area</td>\n",
       "      <td>Utah County</td>\n",
       "    </tr>\n",
       "    <tr>\n",
       "      <th>3</th>\n",
       "      <td>Crossroads</td>\n",
       "      <td>City Center</td>\n",
       "      <td>2505</td>\n",
       "      <td>76.823967</td>\n",
       "      <td>49</td>\n",
       "      <td>167718.011467</td>\n",
       "      <td>41.444023</td>\n",
       "      <td>POLYGON ((422654.105 4469147.185, 422649.306 4...</td>\n",
       "      <td>1.000000</td>\n",
       "      <td>Area</td>\n",
       "      <td>Utah County</td>\n",
       "    </tr>\n",
       "    <tr>\n",
       "      <th>4</th>\n",
       "      <td>Crossroads</td>\n",
       "      <td>City Center</td>\n",
       "      <td>2498</td>\n",
       "      <td>112.631810</td>\n",
       "      <td>49</td>\n",
       "      <td>268457.440292</td>\n",
       "      <td>66.337278</td>\n",
       "      <td>POLYGON ((421588.154 4469911.650, 421669.151 4...</td>\n",
       "      <td>0.533183</td>\n",
       "      <td>Area</td>\n",
       "      <td>Utah County</td>\n",
       "    </tr>\n",
       "    <tr>\n",
       "      <th>...</th>\n",
       "      <td>...</td>\n",
       "      <td>...</td>\n",
       "      <td>...</td>\n",
       "      <td>...</td>\n",
       "      <td>...</td>\n",
       "      <td>...</td>\n",
       "      <td>...</td>\n",
       "      <td>...</td>\n",
       "      <td>...</td>\n",
       "      <td>...</td>\n",
       "      <td>...</td>\n",
       "    </tr>\n",
       "    <tr>\n",
       "      <th>3682</th>\n",
       "      <td>Meadowbrook Station</td>\n",
       "      <td>City Center</td>\n",
       "      <td>1492</td>\n",
       "      <td>45.728115</td>\n",
       "      <td>35</td>\n",
       "      <td>149005.282516</td>\n",
       "      <td>36.820007</td>\n",
       "      <td>POLYGON ((424235.616 4505014.079, 424269.116 4...</td>\n",
       "      <td>0.196032</td>\n",
       "      <td>TOTHH</td>\n",
       "      <td>1.0</td>\n",
       "    </tr>\n",
       "    <tr>\n",
       "      <th>3683</th>\n",
       "      <td>Meadowbrook Station</td>\n",
       "      <td>City Center</td>\n",
       "      <td>1493</td>\n",
       "      <td>50.633831</td>\n",
       "      <td>35</td>\n",
       "      <td>109626.735660</td>\n",
       "      <td>27.089356</td>\n",
       "      <td>MULTIPOLYGON (((424462.516 4504848.479, 424705...</td>\n",
       "      <td>0.403233</td>\n",
       "      <td>TOTHH</td>\n",
       "      <td>1.0</td>\n",
       "    </tr>\n",
       "    <tr>\n",
       "      <th>3684</th>\n",
       "      <td>Meadowbrook Station</td>\n",
       "      <td>City Center</td>\n",
       "      <td>1494</td>\n",
       "      <td>50.381448</td>\n",
       "      <td>35</td>\n",
       "      <td>108708.827297</td>\n",
       "      <td>26.862536</td>\n",
       "      <td>POLYGON ((424715.708 4504846.582, 424945.987 4...</td>\n",
       "      <td>0.867869</td>\n",
       "      <td>TOTHH</td>\n",
       "      <td>1.0</td>\n",
       "    </tr>\n",
       "    <tr>\n",
       "      <th>3685</th>\n",
       "      <td>Meadowbrook Station</td>\n",
       "      <td>City Center</td>\n",
       "      <td>1495</td>\n",
       "      <td>88.369280</td>\n",
       "      <td>35</td>\n",
       "      <td>93800.997173</td>\n",
       "      <td>23.178731</td>\n",
       "      <td>POLYGON ((424961.771 4504845.920, 424963.041 4...</td>\n",
       "      <td>0.980478</td>\n",
       "      <td>TOTHH</td>\n",
       "      <td>0.357651</td>\n",
       "    </tr>\n",
       "    <tr>\n",
       "      <th>3686</th>\n",
       "      <td>Meadowbrook Station</td>\n",
       "      <td>City Center</td>\n",
       "      <td>1536</td>\n",
       "      <td>91.121896</td>\n",
       "      <td>35</td>\n",
       "      <td>197953.429630</td>\n",
       "      <td>48.915358</td>\n",
       "      <td>POLYGON ((425168.804 4504395.069, 425182.939 4...</td>\n",
       "      <td>0.931875</td>\n",
       "      <td>TOTHH</td>\n",
       "      <td>0.782782</td>\n",
       "    </tr>\n",
       "  </tbody>\n",
       "</table>\n",
       "<p>3687 rows × 11 columns</p>\n",
       "</div>"
      ],
      "text/plain": [
       "                 AreaName     AreaType  TAZID    TAZACRES  CO_FIPS  \\\n",
       "0              Crossroads  City Center   2496  165.490872       49   \n",
       "1              Crossroads  City Center   2503   85.734122       49   \n",
       "2              Crossroads  City Center   2504  146.410140       49   \n",
       "3              Crossroads  City Center   2505   76.823967       49   \n",
       "4              Crossroads  City Center   2498  112.631810       49   \n",
       "...                   ...          ...    ...         ...      ...   \n",
       "3682  Meadowbrook Station  City Center   1492   45.728115       35   \n",
       "3683  Meadowbrook Station  City Center   1493   50.633831       35   \n",
       "3684  Meadowbrook Station  City Center   1494   50.381448       35   \n",
       "3685  Meadowbrook Station  City Center   1495   88.369280       35   \n",
       "3686  Meadowbrook Station  City Center   1536   91.121896       35   \n",
       "\n",
       "                sqm      acres  \\\n",
       "0     306078.979084  75.633763   \n",
       "1     185231.805669  45.771776   \n",
       "2         82.317025   0.020341   \n",
       "3     167718.011467  41.444023   \n",
       "4     268457.440292  66.337278   \n",
       "...             ...        ...   \n",
       "3682  149005.282516  36.820007   \n",
       "3683  109626.735660  27.089356   \n",
       "3684  108708.827297  26.862536   \n",
       "3685   93800.997173  23.178731   \n",
       "3686  197953.429630  48.915358   \n",
       "\n",
       "                                               geometry   pctu_ch parameter  \\\n",
       "0     POLYGON ((421958.924 4468475.185, 421704.024 4...  0.869309      Area   \n",
       "1     POLYGON ((422468.715 4468706.905, 422213.825 4...  1.000000      Area   \n",
       "2     POLYGON ((422640.942 4469115.927, 422641.047 4...  1.000000      Area   \n",
       "3     POLYGON ((422654.105 4469147.185, 422649.306 4...  1.000000      Area   \n",
       "4     POLYGON ((421588.154 4469911.650, 421669.151 4...  0.533183      Area   \n",
       "...                                                 ...       ...       ...   \n",
       "3682  POLYGON ((424235.616 4505014.079, 424269.116 4...  0.196032     TOTHH   \n",
       "3683  MULTIPOLYGON (((424462.516 4504848.479, 424705...  0.403233     TOTHH   \n",
       "3684  POLYGON ((424715.708 4504846.582, 424945.987 4...  0.867869     TOTHH   \n",
       "3685  POLYGON ((424961.771 4504845.920, 424963.041 4...  0.980478     TOTHH   \n",
       "3686  POLYGON ((425168.804 4504395.069, 425182.939 4...  0.931875     TOTHH   \n",
       "\n",
       "        taz_ratio  \n",
       "0     Utah County  \n",
       "1     Utah County  \n",
       "2     Utah County  \n",
       "3     Utah County  \n",
       "4     Utah County  \n",
       "...           ...  \n",
       "3682          1.0  \n",
       "3683          1.0  \n",
       "3684          1.0  \n",
       "3685     0.357651  \n",
       "3686     0.782782  \n",
       "\n",
       "[3687 rows x 11 columns]"
      ]
     },
     "execution_count": 263,
     "metadata": {},
     "output_type": "execute_result"
    }
   ],
   "source": [
    "# join tables\n",
    "centers_taz_gdf_changeable = pd.merge(centers_taz_gdf, df_percent_changeable, on=['AreaName','AreaType','TAZID'], how='left')\n",
    "centers_taz_gdf_changeable_ratios = pd.merge(centers_taz_gdf_changeable, df_area_ratio_of_taz, on=['TAZID', 'AreaName', 'AreaType'], how='left')\n",
    "centers_taz_gdf_changeable_ratios.fillna(0, inplace=True)\n",
    "centers_taz_gdf_changeable_ratios = centers_taz_gdf_changeable_ratios.melt(id_vars=['AreaName','AreaType','TAZID','TAZACRES','CO_FIPS','sqm','acres','geometry','pctu_ch'],var_name='parameter',value_name='taz_ratio')\n",
    "centers_taz_gdf_changeable_ratios"
   ]
  },
  {
   "cell_type": "code",
   "execution_count": 264,
   "metadata": {},
   "outputs": [
    {
     "data": {
      "text/plain": [
       "array([49, 11, 35, 57,  3], dtype=int64)"
      ]
     },
     "execution_count": 264,
     "metadata": {},
     "output_type": "execute_result"
    }
   ],
   "source": [
    "centers_taz_gdf_changeable_ratios['CO_FIPS'].unique()"
   ]
  },
  {
   "cell_type": "markdown",
   "metadata": {},
   "source": [
    "# Prep socioeconomic data"
   ]
  },
  {
   "cell_type": "code",
   "execution_count": 265,
   "metadata": {},
   "outputs": [
    {
     "data": {
      "text/html": [
       "<div>\n",
       "<style scoped>\n",
       "    .dataframe tbody tr th:only-of-type {\n",
       "        vertical-align: middle;\n",
       "    }\n",
       "\n",
       "    .dataframe tbody tr th {\n",
       "        vertical-align: top;\n",
       "    }\n",
       "\n",
       "    .dataframe thead th {\n",
       "        text-align: right;\n",
       "    }\n",
       "</style>\n",
       "<table border=\"1\" class=\"dataframe\">\n",
       "  <thead>\n",
       "    <tr style=\"text-align: right;\">\n",
       "      <th></th>\n",
       "      <th>TAZID</th>\n",
       "      <th>CO_FIPS</th>\n",
       "      <th>parameter</th>\n",
       "      <th>value_B</th>\n",
       "      <th>se_year_B</th>\n",
       "    </tr>\n",
       "  </thead>\n",
       "  <tbody>\n",
       "    <tr>\n",
       "      <th>0</th>\n",
       "      <td>1</td>\n",
       "      <td>3</td>\n",
       "      <td>CO_TAZID</td>\n",
       "      <td>30001.0</td>\n",
       "      <td>2023</td>\n",
       "    </tr>\n",
       "    <tr>\n",
       "      <th>1</th>\n",
       "      <td>2</td>\n",
       "      <td>3</td>\n",
       "      <td>CO_TAZID</td>\n",
       "      <td>30002.0</td>\n",
       "      <td>2023</td>\n",
       "    </tr>\n",
       "    <tr>\n",
       "      <th>2</th>\n",
       "      <td>3</td>\n",
       "      <td>3</td>\n",
       "      <td>CO_TAZID</td>\n",
       "      <td>30003.0</td>\n",
       "      <td>2023</td>\n",
       "    </tr>\n",
       "    <tr>\n",
       "      <th>3</th>\n",
       "      <td>4</td>\n",
       "      <td>3</td>\n",
       "      <td>CO_TAZID</td>\n",
       "      <td>30004.0</td>\n",
       "      <td>2023</td>\n",
       "    </tr>\n",
       "    <tr>\n",
       "      <th>4</th>\n",
       "      <td>5</td>\n",
       "      <td>3</td>\n",
       "      <td>CO_TAZID</td>\n",
       "      <td>30005.0</td>\n",
       "      <td>2023</td>\n",
       "    </tr>\n",
       "    <tr>\n",
       "      <th>...</th>\n",
       "      <td>...</td>\n",
       "      <td>...</td>\n",
       "      <td>...</td>\n",
       "      <td>...</td>\n",
       "      <td>...</td>\n",
       "    </tr>\n",
       "    <tr>\n",
       "      <th>88645</th>\n",
       "      <td>3542</td>\n",
       "      <td>49</td>\n",
       "      <td>Enrol_High</td>\n",
       "      <td>0.0</td>\n",
       "      <td>2023</td>\n",
       "    </tr>\n",
       "    <tr>\n",
       "      <th>88646</th>\n",
       "      <td>3543</td>\n",
       "      <td>49</td>\n",
       "      <td>Enrol_High</td>\n",
       "      <td>0.0</td>\n",
       "      <td>2023</td>\n",
       "    </tr>\n",
       "    <tr>\n",
       "      <th>88647</th>\n",
       "      <td>3544</td>\n",
       "      <td>49</td>\n",
       "      <td>Enrol_High</td>\n",
       "      <td>0.0</td>\n",
       "      <td>2023</td>\n",
       "    </tr>\n",
       "    <tr>\n",
       "      <th>88648</th>\n",
       "      <td>3545</td>\n",
       "      <td>49</td>\n",
       "      <td>Enrol_High</td>\n",
       "      <td>0.0</td>\n",
       "      <td>2023</td>\n",
       "    </tr>\n",
       "    <tr>\n",
       "      <th>88649</th>\n",
       "      <td>3546</td>\n",
       "      <td>49</td>\n",
       "      <td>Enrol_High</td>\n",
       "      <td>0.0</td>\n",
       "      <td>2023</td>\n",
       "    </tr>\n",
       "  </tbody>\n",
       "</table>\n",
       "<p>88650 rows × 5 columns</p>\n",
       "</div>"
      ],
      "text/plain": [
       "       TAZID  CO_FIPS   parameter  value_B  se_year_B\n",
       "0          1        3    CO_TAZID  30001.0       2023\n",
       "1          2        3    CO_TAZID  30002.0       2023\n",
       "2          3        3    CO_TAZID  30003.0       2023\n",
       "3          4        3    CO_TAZID  30004.0       2023\n",
       "4          5        3    CO_TAZID  30005.0       2023\n",
       "...      ...      ...         ...      ...        ...\n",
       "88645   3542       49  Enrol_High      0.0       2023\n",
       "88646   3543       49  Enrol_High      0.0       2023\n",
       "88647   3544       49  Enrol_High      0.0       2023\n",
       "88648   3545       49  Enrol_High      0.0       2023\n",
       "88649   3546       49  Enrol_High      0.0       2023\n",
       "\n",
       "[88650 rows x 5 columns]"
      ]
     },
     "metadata": {},
     "output_type": "display_data"
    },
    {
     "data": {
      "text/html": [
       "<div>\n",
       "<style scoped>\n",
       "    .dataframe tbody tr th:only-of-type {\n",
       "        vertical-align: middle;\n",
       "    }\n",
       "\n",
       "    .dataframe tbody tr th {\n",
       "        vertical-align: top;\n",
       "    }\n",
       "\n",
       "    .dataframe thead th {\n",
       "        text-align: right;\n",
       "    }\n",
       "</style>\n",
       "<table border=\"1\" class=\"dataframe\">\n",
       "  <thead>\n",
       "    <tr style=\"text-align: right;\">\n",
       "      <th></th>\n",
       "      <th>TAZID</th>\n",
       "      <th>CO_FIPS</th>\n",
       "      <th>parameter</th>\n",
       "      <th>value_F</th>\n",
       "      <th>se_year_F</th>\n",
       "    </tr>\n",
       "  </thead>\n",
       "  <tbody>\n",
       "    <tr>\n",
       "      <th>0</th>\n",
       "      <td>1</td>\n",
       "      <td>3</td>\n",
       "      <td>CO_TAZID</td>\n",
       "      <td>30001.0</td>\n",
       "      <td>2032</td>\n",
       "    </tr>\n",
       "    <tr>\n",
       "      <th>1</th>\n",
       "      <td>2</td>\n",
       "      <td>3</td>\n",
       "      <td>CO_TAZID</td>\n",
       "      <td>30002.0</td>\n",
       "      <td>2032</td>\n",
       "    </tr>\n",
       "    <tr>\n",
       "      <th>2</th>\n",
       "      <td>3</td>\n",
       "      <td>3</td>\n",
       "      <td>CO_TAZID</td>\n",
       "      <td>30003.0</td>\n",
       "      <td>2032</td>\n",
       "    </tr>\n",
       "    <tr>\n",
       "      <th>3</th>\n",
       "      <td>4</td>\n",
       "      <td>3</td>\n",
       "      <td>CO_TAZID</td>\n",
       "      <td>30004.0</td>\n",
       "      <td>2032</td>\n",
       "    </tr>\n",
       "    <tr>\n",
       "      <th>4</th>\n",
       "      <td>5</td>\n",
       "      <td>3</td>\n",
       "      <td>CO_TAZID</td>\n",
       "      <td>30005.0</td>\n",
       "      <td>2032</td>\n",
       "    </tr>\n",
       "    <tr>\n",
       "      <th>...</th>\n",
       "      <td>...</td>\n",
       "      <td>...</td>\n",
       "      <td>...</td>\n",
       "      <td>...</td>\n",
       "      <td>...</td>\n",
       "    </tr>\n",
       "    <tr>\n",
       "      <th>88645</th>\n",
       "      <td>3542</td>\n",
       "      <td>49</td>\n",
       "      <td>Enrol_High</td>\n",
       "      <td>0.0</td>\n",
       "      <td>2050</td>\n",
       "    </tr>\n",
       "    <tr>\n",
       "      <th>88646</th>\n",
       "      <td>3543</td>\n",
       "      <td>49</td>\n",
       "      <td>Enrol_High</td>\n",
       "      <td>0.0</td>\n",
       "      <td>2050</td>\n",
       "    </tr>\n",
       "    <tr>\n",
       "      <th>88647</th>\n",
       "      <td>3544</td>\n",
       "      <td>49</td>\n",
       "      <td>Enrol_High</td>\n",
       "      <td>0.0</td>\n",
       "      <td>2050</td>\n",
       "    </tr>\n",
       "    <tr>\n",
       "      <th>88648</th>\n",
       "      <td>3545</td>\n",
       "      <td>49</td>\n",
       "      <td>Enrol_High</td>\n",
       "      <td>0.0</td>\n",
       "      <td>2050</td>\n",
       "    </tr>\n",
       "    <tr>\n",
       "      <th>88649</th>\n",
       "      <td>3546</td>\n",
       "      <td>49</td>\n",
       "      <td>Enrol_High</td>\n",
       "      <td>0.0</td>\n",
       "      <td>2050</td>\n",
       "    </tr>\n",
       "  </tbody>\n",
       "</table>\n",
       "<p>265950 rows × 5 columns</p>\n",
       "</div>"
      ],
      "text/plain": [
       "       TAZID  CO_FIPS   parameter  value_F  se_year_F\n",
       "0          1        3    CO_TAZID  30001.0       2032\n",
       "1          2        3    CO_TAZID  30002.0       2032\n",
       "2          3        3    CO_TAZID  30003.0       2032\n",
       "3          4        3    CO_TAZID  30004.0       2032\n",
       "4          5        3    CO_TAZID  30005.0       2032\n",
       "...      ...      ...         ...      ...        ...\n",
       "88645   3542       49  Enrol_High      0.0       2050\n",
       "88646   3543       49  Enrol_High      0.0       2050\n",
       "88647   3544       49  Enrol_High      0.0       2050\n",
       "88648   3545       49  Enrol_High      0.0       2050\n",
       "88649   3546       49  Enrol_High      0.0       2050\n",
       "\n",
       "[265950 rows x 5 columns]"
      ]
     },
     "metadata": {},
     "output_type": "display_data"
    }
   ],
   "source": [
    "# get SE data\n",
    "df_se_data = pd.DataFrame()\n",
    "\n",
    "for se_year in se_years:\n",
    "    file = \"SE_\" + str(se_year) + '.csv'\n",
    "    se_file = os.path.join(input_model_se_folder, file)\n",
    "\n",
    "    _dbf = pd.read_csv(se_file)\n",
    "\n",
    "    # Identify non-numeric columns\n",
    "    non_numeric_columns = _dbf.select_dtypes(include=[int, float]).columns.tolist()\n",
    "    non_numeric_columns.remove(';TAZID')  # Keep 'TAZID' as identifier variable\n",
    "\n",
    "    _df_pivot = _dbf.melt(id_vars=[';TAZID','CO_FIPS'], value_vars=non_numeric_columns)\n",
    "\n",
    "    _df_pivot['se_year'] = se_year\n",
    "\n",
    "    if se_year==se_base_year:\n",
    "        df_se_data_base = _df_pivot\n",
    "    else:\n",
    "        df_se_data = pd.concat([df_se_data,_df_pivot])\n",
    "\n",
    "df_se_data_base.columns = df_se_data_base.columns + '_B'\n",
    "df_se_data.columns = df_se_data.columns + '_F'\n",
    "\n",
    "df_se_data_base.rename(columns={';TAZID_B':'TAZID','CO_FIPS_B':'CO_FIPS','variable_B':'parameter'}, inplace=True)\n",
    "df_se_data.rename(columns={';TAZID_F':'TAZID','CO_FIPS_F':'CO_FIPS','variable_F':'parameter'}, inplace=True)\n",
    "\n",
    "display(df_se_data_base)\n",
    "display(df_se_data)"
   ]
  },
  {
   "cell_type": "code",
   "execution_count": 266,
   "metadata": {},
   "outputs": [
    {
     "data": {
      "text/html": [
       "<div>\n",
       "<style scoped>\n",
       "    .dataframe tbody tr th:only-of-type {\n",
       "        vertical-align: middle;\n",
       "    }\n",
       "\n",
       "    .dataframe tbody tr th {\n",
       "        vertical-align: top;\n",
       "    }\n",
       "\n",
       "    .dataframe thead th {\n",
       "        text-align: right;\n",
       "    }\n",
       "</style>\n",
       "<table border=\"1\" class=\"dataframe\">\n",
       "  <thead>\n",
       "    <tr style=\"text-align: right;\">\n",
       "      <th></th>\n",
       "      <th>TAZID</th>\n",
       "      <th>CO_FIPS</th>\n",
       "      <th>parameter</th>\n",
       "      <th>value_F</th>\n",
       "      <th>se_year_F</th>\n",
       "      <th>value_B</th>\n",
       "      <th>se_year_B</th>\n",
       "      <th>growth</th>\n",
       "    </tr>\n",
       "  </thead>\n",
       "  <tbody>\n",
       "    <tr>\n",
       "      <th>10638</th>\n",
       "      <td>1</td>\n",
       "      <td>3</td>\n",
       "      <td>TOTHH</td>\n",
       "      <td>0.0</td>\n",
       "      <td>2032</td>\n",
       "      <td>0.0</td>\n",
       "      <td>2023</td>\n",
       "      <td>0.0</td>\n",
       "    </tr>\n",
       "    <tr>\n",
       "      <th>10639</th>\n",
       "      <td>1</td>\n",
       "      <td>3</td>\n",
       "      <td>TOTHH</td>\n",
       "      <td>0.0</td>\n",
       "      <td>2042</td>\n",
       "      <td>0.0</td>\n",
       "      <td>2023</td>\n",
       "      <td>0.0</td>\n",
       "    </tr>\n",
       "    <tr>\n",
       "      <th>10640</th>\n",
       "      <td>1</td>\n",
       "      <td>3</td>\n",
       "      <td>TOTHH</td>\n",
       "      <td>0.0</td>\n",
       "      <td>2050</td>\n",
       "      <td>0.0</td>\n",
       "      <td>2023</td>\n",
       "      <td>0.0</td>\n",
       "    </tr>\n",
       "    <tr>\n",
       "      <th>10641</th>\n",
       "      <td>2</td>\n",
       "      <td>3</td>\n",
       "      <td>TOTHH</td>\n",
       "      <td>17.4</td>\n",
       "      <td>2032</td>\n",
       "      <td>13.0</td>\n",
       "      <td>2023</td>\n",
       "      <td>4.4</td>\n",
       "    </tr>\n",
       "    <tr>\n",
       "      <th>10642</th>\n",
       "      <td>2</td>\n",
       "      <td>3</td>\n",
       "      <td>TOTHH</td>\n",
       "      <td>29.8</td>\n",
       "      <td>2042</td>\n",
       "      <td>13.0</td>\n",
       "      <td>2023</td>\n",
       "      <td>16.8</td>\n",
       "    </tr>\n",
       "    <tr>\n",
       "      <th>...</th>\n",
       "      <td>...</td>\n",
       "      <td>...</td>\n",
       "      <td>...</td>\n",
       "      <td>...</td>\n",
       "      <td>...</td>\n",
       "      <td>...</td>\n",
       "      <td>...</td>\n",
       "      <td>...</td>\n",
       "    </tr>\n",
       "    <tr>\n",
       "      <th>53185</th>\n",
       "      <td>3545</td>\n",
       "      <td>49</td>\n",
       "      <td>TOTEMP</td>\n",
       "      <td>0.0</td>\n",
       "      <td>2042</td>\n",
       "      <td>0.0</td>\n",
       "      <td>2023</td>\n",
       "      <td>0.0</td>\n",
       "    </tr>\n",
       "    <tr>\n",
       "      <th>53186</th>\n",
       "      <td>3545</td>\n",
       "      <td>49</td>\n",
       "      <td>TOTEMP</td>\n",
       "      <td>0.0</td>\n",
       "      <td>2050</td>\n",
       "      <td>0.0</td>\n",
       "      <td>2023</td>\n",
       "      <td>0.0</td>\n",
       "    </tr>\n",
       "    <tr>\n",
       "      <th>53187</th>\n",
       "      <td>3546</td>\n",
       "      <td>49</td>\n",
       "      <td>TOTEMP</td>\n",
       "      <td>0.0</td>\n",
       "      <td>2032</td>\n",
       "      <td>0.0</td>\n",
       "      <td>2023</td>\n",
       "      <td>0.0</td>\n",
       "    </tr>\n",
       "    <tr>\n",
       "      <th>53188</th>\n",
       "      <td>3546</td>\n",
       "      <td>49</td>\n",
       "      <td>TOTEMP</td>\n",
       "      <td>0.0</td>\n",
       "      <td>2042</td>\n",
       "      <td>0.0</td>\n",
       "      <td>2023</td>\n",
       "      <td>0.0</td>\n",
       "    </tr>\n",
       "    <tr>\n",
       "      <th>53189</th>\n",
       "      <td>3546</td>\n",
       "      <td>49</td>\n",
       "      <td>TOTEMP</td>\n",
       "      <td>0.0</td>\n",
       "      <td>2050</td>\n",
       "      <td>0.0</td>\n",
       "      <td>2023</td>\n",
       "      <td>0.0</td>\n",
       "    </tr>\n",
       "  </tbody>\n",
       "</table>\n",
       "<p>21276 rows × 8 columns</p>\n",
       "</div>"
      ],
      "text/plain": [
       "       TAZID  CO_FIPS parameter  value_F  se_year_F  value_B  se_year_B  \\\n",
       "10638      1        3     TOTHH      0.0       2032      0.0       2023   \n",
       "10639      1        3     TOTHH      0.0       2042      0.0       2023   \n",
       "10640      1        3     TOTHH      0.0       2050      0.0       2023   \n",
       "10641      2        3     TOTHH     17.4       2032     13.0       2023   \n",
       "10642      2        3     TOTHH     29.8       2042     13.0       2023   \n",
       "...      ...      ...       ...      ...        ...      ...        ...   \n",
       "53185   3545       49    TOTEMP      0.0       2042      0.0       2023   \n",
       "53186   3545       49    TOTEMP      0.0       2050      0.0       2023   \n",
       "53187   3546       49    TOTEMP      0.0       2032      0.0       2023   \n",
       "53188   3546       49    TOTEMP      0.0       2042      0.0       2023   \n",
       "53189   3546       49    TOTEMP      0.0       2050      0.0       2023   \n",
       "\n",
       "       growth  \n",
       "10638     0.0  \n",
       "10639     0.0  \n",
       "10640     0.0  \n",
       "10641     4.4  \n",
       "10642    16.8  \n",
       "...       ...  \n",
       "53185     0.0  \n",
       "53186     0.0  \n",
       "53187     0.0  \n",
       "53188     0.0  \n",
       "53189     0.0  \n",
       "\n",
       "[21276 rows x 8 columns]"
      ]
     },
     "execution_count": 266,
     "metadata": {},
     "output_type": "execute_result"
    }
   ],
   "source": [
    "df_se_growth = pd.merge(df_se_data, df_se_data_base, on=['TAZID','CO_FIPS','parameter'])\n",
    "df_se_growth['growth'] = df_se_growth['value_F'] - df_se_growth['value_B']\n",
    "df_se_growth_hhemp = df_se_growth[df_se_growth['parameter'].isin(['TOTHH','TOTEMP'])]\n",
    "df_se_growth_hhemp"
   ]
  },
  {
   "cell_type": "code",
   "execution_count": 267,
   "metadata": {},
   "outputs": [],
   "source": [
    "df_se_growth.to_csv('intermediate/se_growth.csv', index=False)"
   ]
  },
  {
   "cell_type": "markdown",
   "metadata": {},
   "source": [
    "# Get max densities by center type"
   ]
  },
  {
   "cell_type": "code",
   "execution_count": 268,
   "metadata": {},
   "outputs": [
    {
     "data": {
      "text/html": [
       "<div>\n",
       "<style scoped>\n",
       "    .dataframe tbody tr th:only-of-type {\n",
       "        vertical-align: middle;\n",
       "    }\n",
       "\n",
       "    .dataframe tbody tr th {\n",
       "        vertical-align: top;\n",
       "    }\n",
       "\n",
       "    .dataframe thead th {\n",
       "        text-align: right;\n",
       "    }\n",
       "</style>\n",
       "<table border=\"1\" class=\"dataframe\">\n",
       "  <thead>\n",
       "    <tr style=\"text-align: right;\">\n",
       "      <th></th>\n",
       "      <th>center_type</th>\n",
       "      <th>final_units_per_acre</th>\n",
       "      <th>final_emps_per_acre</th>\n",
       "      <th>household_size</th>\n",
       "      <th>office_retail_ind_split</th>\n",
       "    </tr>\n",
       "  </thead>\n",
       "  <tbody>\n",
       "    <tr>\n",
       "      <th>0</th>\n",
       "      <td>Neighborhood Center</td>\n",
       "      <td>4</td>\n",
       "      <td>7</td>\n",
       "      <td>1.62</td>\n",
       "      <td>35/65/0</td>\n",
       "    </tr>\n",
       "    <tr>\n",
       "      <th>1</th>\n",
       "      <td>City Center</td>\n",
       "      <td>8</td>\n",
       "      <td>10</td>\n",
       "      <td>1.62</td>\n",
       "      <td>65/35/0</td>\n",
       "    </tr>\n",
       "    <tr>\n",
       "      <th>2</th>\n",
       "      <td>Urban Center</td>\n",
       "      <td>10</td>\n",
       "      <td>30</td>\n",
       "      <td>1.62</td>\n",
       "      <td>75/15/10</td>\n",
       "    </tr>\n",
       "    <tr>\n",
       "      <th>3</th>\n",
       "      <td>Metropolitan Center</td>\n",
       "      <td>11</td>\n",
       "      <td>60</td>\n",
       "      <td>1.62</td>\n",
       "      <td>80/10/10</td>\n",
       "    </tr>\n",
       "  </tbody>\n",
       "</table>\n",
       "</div>"
      ],
      "text/plain": [
       "           center_type final_units_per_acre final_emps_per_acre  \\\n",
       "0  Neighborhood Center                    4                   7   \n",
       "1          City Center                    8                  10   \n",
       "2         Urban Center                   10                  30   \n",
       "3  Metropolitan Center                   11                  60   \n",
       "\n",
       "  household_size office_retail_ind_split  \n",
       "0           1.62                 35/65/0  \n",
       "1           1.62                 65/35/0  \n",
       "2           1.62                75/15/10  \n",
       "3           1.62                80/10/10  "
      ]
     },
     "execution_count": 268,
     "metadata": {},
     "output_type": "execute_result"
    }
   ],
   "source": [
    "df_centers"
   ]
  },
  {
   "cell_type": "code",
   "execution_count": 269,
   "metadata": {},
   "outputs": [
    {
     "data": {
      "text/html": [
       "<div>\n",
       "<style scoped>\n",
       "    .dataframe tbody tr th:only-of-type {\n",
       "        vertical-align: middle;\n",
       "    }\n",
       "\n",
       "    .dataframe tbody tr th {\n",
       "        vertical-align: top;\n",
       "    }\n",
       "\n",
       "    .dataframe thead th {\n",
       "        text-align: right;\n",
       "    }\n",
       "</style>\n",
       "<table border=\"1\" class=\"dataframe\">\n",
       "  <thead>\n",
       "    <tr style=\"text-align: right;\">\n",
       "      <th></th>\n",
       "      <th>center_type</th>\n",
       "      <th>parameter</th>\n",
       "      <th>perac_ch</th>\n",
       "    </tr>\n",
       "  </thead>\n",
       "  <tbody>\n",
       "    <tr>\n",
       "      <th>0</th>\n",
       "      <td>Neighborhood Center</td>\n",
       "      <td>TOTHH</td>\n",
       "      <td>4</td>\n",
       "    </tr>\n",
       "    <tr>\n",
       "      <th>1</th>\n",
       "      <td>City Center</td>\n",
       "      <td>TOTHH</td>\n",
       "      <td>8</td>\n",
       "    </tr>\n",
       "    <tr>\n",
       "      <th>2</th>\n",
       "      <td>Urban Center</td>\n",
       "      <td>TOTHH</td>\n",
       "      <td>10</td>\n",
       "    </tr>\n",
       "    <tr>\n",
       "      <th>3</th>\n",
       "      <td>Metropolitan Center</td>\n",
       "      <td>TOTHH</td>\n",
       "      <td>11</td>\n",
       "    </tr>\n",
       "    <tr>\n",
       "      <th>4</th>\n",
       "      <td>Neighborhood Center</td>\n",
       "      <td>TOTEMP</td>\n",
       "      <td>7</td>\n",
       "    </tr>\n",
       "    <tr>\n",
       "      <th>5</th>\n",
       "      <td>City Center</td>\n",
       "      <td>TOTEMP</td>\n",
       "      <td>10</td>\n",
       "    </tr>\n",
       "    <tr>\n",
       "      <th>6</th>\n",
       "      <td>Urban Center</td>\n",
       "      <td>TOTEMP</td>\n",
       "      <td>30</td>\n",
       "    </tr>\n",
       "    <tr>\n",
       "      <th>7</th>\n",
       "      <td>Metropolitan Center</td>\n",
       "      <td>TOTEMP</td>\n",
       "      <td>60</td>\n",
       "    </tr>\n",
       "  </tbody>\n",
       "</table>\n",
       "</div>"
      ],
      "text/plain": [
       "           center_type parameter  perac_ch\n",
       "0  Neighborhood Center     TOTHH         4\n",
       "1          City Center     TOTHH         8\n",
       "2         Urban Center     TOTHH        10\n",
       "3  Metropolitan Center     TOTHH        11\n",
       "4  Neighborhood Center    TOTEMP         7\n",
       "5          City Center    TOTEMP        10\n",
       "6         Urban Center    TOTEMP        30\n",
       "7  Metropolitan Center    TOTEMP        60"
      ]
     },
     "execution_count": 269,
     "metadata": {},
     "output_type": "execute_result"
    }
   ],
   "source": [
    "# units are TOTHH and emps are TOTEMP\n",
    "_df = df_centers.copy()\n",
    "_df.rename(columns={'final_units_per_acre':'TOTHH','final_emps_per_acre':'TOTEMP'}, inplace=True)\n",
    "df_centers_max_per_acre = _df.melt(id_vars='center_type',var_name='parameter', value_vars=['TOTHH','TOTEMP'], value_name='perac_ch')\n",
    "df_centers_max_per_acre['perac_ch'] = df_centers_max_per_acre['perac_ch'].astype(int)\n",
    "df_centers_max_per_acre"
   ]
  },
  {
   "cell_type": "markdown",
   "metadata": {},
   "source": [
    "# Calculate additional hh/emp"
   ]
  },
  {
   "cell_type": "code",
   "execution_count": 270,
   "metadata": {},
   "outputs": [],
   "source": [
    "gdf_center_taz_calcs = pd.merge(centers_taz_gdf_changeable_ratios, df_centers_max_per_acre, left_on=('AreaType', 'parameter'), right_on=('center_type','parameter'))\n",
    "gdf_center_taz_calcs_se = pd.merge(gdf_center_taz_calcs, df_se_growth, on=['TAZID','CO_FIPS','parameter'])"
   ]
  },
  {
   "cell_type": "code",
   "execution_count": 271,
   "metadata": {},
   "outputs": [
    {
     "name": "stdout",
     "output_type": "stream",
     "text": [
      "!!!!!!!!!!!!!!!\n",
      "Multiplier Used\n",
      "!!!!!!!!!!!!!!!\n",
      "!!!!!!!!!!!!!!!\n",
      "!!!!!!!!!!!!!!!\n",
      "!!!!!!!!!!!!!!!\n",
      "!!!!!!!!!!!!!!!\n",
      "!!!!!!!!!!!!!!!\n",
      "!!!!!!!!!!!!!!!\n",
      "!!!!!!!!!!!!!!!\n",
      "!!!!!!!!!!!!!!!\n"
     ]
    },
    {
     "data": {
      "text/html": [
       "<div>\n",
       "<style scoped>\n",
       "    .dataframe tbody tr th:only-of-type {\n",
       "        vertical-align: middle;\n",
       "    }\n",
       "\n",
       "    .dataframe tbody tr th {\n",
       "        vertical-align: top;\n",
       "    }\n",
       "\n",
       "    .dataframe thead th {\n",
       "        text-align: right;\n",
       "    }\n",
       "</style>\n",
       "<table border=\"1\" class=\"dataframe\">\n",
       "  <thead>\n",
       "    <tr style=\"text-align: right;\">\n",
       "      <th></th>\n",
       "      <th>AreaName</th>\n",
       "      <th>AreaType</th>\n",
       "      <th>TAZID</th>\n",
       "      <th>TAZACRES</th>\n",
       "      <th>CO_FIPS</th>\n",
       "      <th>sqm</th>\n",
       "      <th>acres</th>\n",
       "      <th>geometry</th>\n",
       "      <th>pctu_ch</th>\n",
       "      <th>parameter</th>\n",
       "      <th>...</th>\n",
       "      <th>multiplier</th>\n",
       "      <th>s_ch</th>\n",
       "      <th>s_tot</th>\n",
       "      <th>s_diff</th>\n",
       "      <th>s_grow</th>\n",
       "      <th>b_tot_den</th>\n",
       "      <th>f_tot_den</th>\n",
       "      <th>s_tot_den</th>\n",
       "      <th>s_grow_den</th>\n",
       "      <th>s_diff_den</th>\n",
       "    </tr>\n",
       "  </thead>\n",
       "  <tbody>\n",
       "    <tr>\n",
       "      <th>0</th>\n",
       "      <td>Crossroads</td>\n",
       "      <td>City Center</td>\n",
       "      <td>2496</td>\n",
       "      <td>165.490872</td>\n",
       "      <td>49</td>\n",
       "      <td>306078.979084</td>\n",
       "      <td>75.633763</td>\n",
       "      <td>POLYGON ((421958.924 4468475.185, 421704.024 4...</td>\n",
       "      <td>0.869309</td>\n",
       "      <td>TOTEMP</td>\n",
       "      <td>...</td>\n",
       "      <td>1.25</td>\n",
       "      <td>788.989366</td>\n",
       "      <td>822.935022</td>\n",
       "      <td>563.195125</td>\n",
       "      <td>629.899266</td>\n",
       "      <td>2.552243</td>\n",
       "      <td>3.434179</td>\n",
       "      <td>10.880525</td>\n",
       "      <td>8.328281</td>\n",
       "      <td>7.446345</td>\n",
       "    </tr>\n",
       "    <tr>\n",
       "      <th>1</th>\n",
       "      <td>Crossroads</td>\n",
       "      <td>City Center</td>\n",
       "      <td>2496</td>\n",
       "      <td>165.490872</td>\n",
       "      <td>49</td>\n",
       "      <td>306078.979084</td>\n",
       "      <td>75.633763</td>\n",
       "      <td>POLYGON ((421958.924 4468475.185, 421704.024 4...</td>\n",
       "      <td>0.869309</td>\n",
       "      <td>TOTEMP</td>\n",
       "      <td>...</td>\n",
       "      <td>1.25</td>\n",
       "      <td>788.989366</td>\n",
       "      <td>857.103330</td>\n",
       "      <td>335.919893</td>\n",
       "      <td>664.067574</td>\n",
       "      <td>2.552243</td>\n",
       "      <td>6.890883</td>\n",
       "      <td>11.332285</td>\n",
       "      <td>8.780041</td>\n",
       "      <td>4.441401</td>\n",
       "    </tr>\n",
       "    <tr>\n",
       "      <th>2</th>\n",
       "      <td>Crossroads</td>\n",
       "      <td>City Center</td>\n",
       "      <td>2496</td>\n",
       "      <td>165.490872</td>\n",
       "      <td>49</td>\n",
       "      <td>306078.979084</td>\n",
       "      <td>75.633763</td>\n",
       "      <td>POLYGON ((421958.924 4468475.185, 421704.024 4...</td>\n",
       "      <td>0.869309</td>\n",
       "      <td>TOTEMP</td>\n",
       "      <td>...</td>\n",
       "      <td>1.25</td>\n",
       "      <td>788.989366</td>\n",
       "      <td>885.260070</td>\n",
       "      <td>148.631432</td>\n",
       "      <td>692.224314</td>\n",
       "      <td>2.552243</td>\n",
       "      <td>9.739415</td>\n",
       "      <td>11.704562</td>\n",
       "      <td>9.152319</td>\n",
       "      <td>1.965147</td>\n",
       "    </tr>\n",
       "    <tr>\n",
       "      <th>3</th>\n",
       "      <td>Crossroads</td>\n",
       "      <td>City Center</td>\n",
       "      <td>2503</td>\n",
       "      <td>85.734122</td>\n",
       "      <td>49</td>\n",
       "      <td>185231.805669</td>\n",
       "      <td>45.771776</td>\n",
       "      <td>POLYGON ((422468.715 4468706.905, 422213.825 4...</td>\n",
       "      <td>1.000000</td>\n",
       "      <td>TOTEMP</td>\n",
       "      <td>...</td>\n",
       "      <td>1.25</td>\n",
       "      <td>549.261312</td>\n",
       "      <td>549.261312</td>\n",
       "      <td>473.726250</td>\n",
       "      <td>540.512412</td>\n",
       "      <td>0.191142</td>\n",
       "      <td>1.650254</td>\n",
       "      <td>12.000000</td>\n",
       "      <td>11.808858</td>\n",
       "      <td>10.349746</td>\n",
       "    </tr>\n",
       "    <tr>\n",
       "      <th>4</th>\n",
       "      <td>Crossroads</td>\n",
       "      <td>City Center</td>\n",
       "      <td>2503</td>\n",
       "      <td>85.734122</td>\n",
       "      <td>49</td>\n",
       "      <td>185231.805669</td>\n",
       "      <td>45.771776</td>\n",
       "      <td>POLYGON ((422468.715 4468706.905, 422213.825 4...</td>\n",
       "      <td>1.000000</td>\n",
       "      <td>TOTEMP</td>\n",
       "      <td>...</td>\n",
       "      <td>1.25</td>\n",
       "      <td>549.261312</td>\n",
       "      <td>549.261312</td>\n",
       "      <td>56.464331</td>\n",
       "      <td>540.512412</td>\n",
       "      <td>0.191142</td>\n",
       "      <td>10.766394</td>\n",
       "      <td>12.000000</td>\n",
       "      <td>11.808858</td>\n",
       "      <td>1.233606</td>\n",
       "    </tr>\n",
       "    <tr>\n",
       "      <th>...</th>\n",
       "      <td>...</td>\n",
       "      <td>...</td>\n",
       "      <td>...</td>\n",
       "      <td>...</td>\n",
       "      <td>...</td>\n",
       "      <td>...</td>\n",
       "      <td>...</td>\n",
       "      <td>...</td>\n",
       "      <td>...</td>\n",
       "      <td>...</td>\n",
       "      <td>...</td>\n",
       "      <td>...</td>\n",
       "      <td>...</td>\n",
       "      <td>...</td>\n",
       "      <td>...</td>\n",
       "      <td>...</td>\n",
       "      <td>...</td>\n",
       "      <td>...</td>\n",
       "      <td>...</td>\n",
       "      <td>...</td>\n",
       "      <td>...</td>\n",
       "    </tr>\n",
       "    <tr>\n",
       "      <th>7369</th>\n",
       "      <td>Salt Lake City CBD</td>\n",
       "      <td>Metropolitan Center</td>\n",
       "      <td>1146</td>\n",
       "      <td>14.425497</td>\n",
       "      <td>35</td>\n",
       "      <td>49178.791380</td>\n",
       "      <td>12.152344</td>\n",
       "      <td>POLYGON ((425486.225 4512100.312, 425264.903 4...</td>\n",
       "      <td>0.506845</td>\n",
       "      <td>TOTHH</td>\n",
       "      <td>...</td>\n",
       "      <td>1.50</td>\n",
       "      <td>98.549694</td>\n",
       "      <td>290.873895</td>\n",
       "      <td>-99.113503</td>\n",
       "      <td>-9.383351</td>\n",
       "      <td>24.707764</td>\n",
       "      <td>32.091537</td>\n",
       "      <td>23.935621</td>\n",
       "      <td>-0.772143</td>\n",
       "      <td>-8.155916</td>\n",
       "    </tr>\n",
       "    <tr>\n",
       "      <th>7370</th>\n",
       "      <td>Salt Lake City CBD</td>\n",
       "      <td>Metropolitan Center</td>\n",
       "      <td>1146</td>\n",
       "      <td>14.425497</td>\n",
       "      <td>35</td>\n",
       "      <td>49178.791380</td>\n",
       "      <td>12.152344</td>\n",
       "      <td>POLYGON ((425486.225 4512100.312, 425264.903 4...</td>\n",
       "      <td>0.506845</td>\n",
       "      <td>TOTHH</td>\n",
       "      <td>...</td>\n",
       "      <td>1.50</td>\n",
       "      <td>98.549694</td>\n",
       "      <td>283.865471</td>\n",
       "      <td>-91.910522</td>\n",
       "      <td>-16.391776</td>\n",
       "      <td>24.707764</td>\n",
       "      <td>30.922100</td>\n",
       "      <td>23.358907</td>\n",
       "      <td>-1.348857</td>\n",
       "      <td>-7.563193</td>\n",
       "    </tr>\n",
       "    <tr>\n",
       "      <th>7371</th>\n",
       "      <td>Salt Lake City CBD</td>\n",
       "      <td>Metropolitan Center</td>\n",
       "      <td>1147</td>\n",
       "      <td>14.418102</td>\n",
       "      <td>35</td>\n",
       "      <td>53612.855140</td>\n",
       "      <td>13.248025</td>\n",
       "      <td>POLYGON ((425489.373 4512341.571, 425489.118 4...</td>\n",
       "      <td>0.000000</td>\n",
       "      <td>TOTHH</td>\n",
       "      <td>...</td>\n",
       "      <td>1.50</td>\n",
       "      <td>0.000000</td>\n",
       "      <td>0.000000</td>\n",
       "      <td>0.000000</td>\n",
       "      <td>0.000000</td>\n",
       "      <td>0.000000</td>\n",
       "      <td>0.000000</td>\n",
       "      <td>0.000000</td>\n",
       "      <td>0.000000</td>\n",
       "      <td>0.000000</td>\n",
       "    </tr>\n",
       "    <tr>\n",
       "      <th>7372</th>\n",
       "      <td>Salt Lake City CBD</td>\n",
       "      <td>Metropolitan Center</td>\n",
       "      <td>1147</td>\n",
       "      <td>14.418102</td>\n",
       "      <td>35</td>\n",
       "      <td>53612.855140</td>\n",
       "      <td>13.248025</td>\n",
       "      <td>POLYGON ((425489.373 4512341.571, 425489.118 4...</td>\n",
       "      <td>0.000000</td>\n",
       "      <td>TOTHH</td>\n",
       "      <td>...</td>\n",
       "      <td>1.50</td>\n",
       "      <td>0.000000</td>\n",
       "      <td>0.000000</td>\n",
       "      <td>0.000000</td>\n",
       "      <td>0.000000</td>\n",
       "      <td>0.000000</td>\n",
       "      <td>0.000000</td>\n",
       "      <td>0.000000</td>\n",
       "      <td>0.000000</td>\n",
       "      <td>0.000000</td>\n",
       "    </tr>\n",
       "    <tr>\n",
       "      <th>7373</th>\n",
       "      <td>Salt Lake City CBD</td>\n",
       "      <td>Metropolitan Center</td>\n",
       "      <td>1147</td>\n",
       "      <td>14.418102</td>\n",
       "      <td>35</td>\n",
       "      <td>53612.855140</td>\n",
       "      <td>13.248025</td>\n",
       "      <td>POLYGON ((425489.373 4512341.571, 425489.118 4...</td>\n",
       "      <td>0.000000</td>\n",
       "      <td>TOTHH</td>\n",
       "      <td>...</td>\n",
       "      <td>1.50</td>\n",
       "      <td>0.000000</td>\n",
       "      <td>0.000000</td>\n",
       "      <td>0.000000</td>\n",
       "      <td>0.000000</td>\n",
       "      <td>0.000000</td>\n",
       "      <td>0.000000</td>\n",
       "      <td>0.000000</td>\n",
       "      <td>0.000000</td>\n",
       "      <td>0.000000</td>\n",
       "    </tr>\n",
       "  </tbody>\n",
       "</table>\n",
       "<p>7374 rows × 33 columns</p>\n",
       "</div>"
      ],
      "text/plain": [
       "                AreaName             AreaType  TAZID    TAZACRES  CO_FIPS  \\\n",
       "0             Crossroads          City Center   2496  165.490872       49   \n",
       "1             Crossroads          City Center   2496  165.490872       49   \n",
       "2             Crossroads          City Center   2496  165.490872       49   \n",
       "3             Crossroads          City Center   2503   85.734122       49   \n",
       "4             Crossroads          City Center   2503   85.734122       49   \n",
       "...                  ...                  ...    ...         ...      ...   \n",
       "7369  Salt Lake City CBD  Metropolitan Center   1146   14.425497       35   \n",
       "7370  Salt Lake City CBD  Metropolitan Center   1146   14.425497       35   \n",
       "7371  Salt Lake City CBD  Metropolitan Center   1147   14.418102       35   \n",
       "7372  Salt Lake City CBD  Metropolitan Center   1147   14.418102       35   \n",
       "7373  Salt Lake City CBD  Metropolitan Center   1147   14.418102       35   \n",
       "\n",
       "                sqm      acres  \\\n",
       "0     306078.979084  75.633763   \n",
       "1     306078.979084  75.633763   \n",
       "2     306078.979084  75.633763   \n",
       "3     185231.805669  45.771776   \n",
       "4     185231.805669  45.771776   \n",
       "...             ...        ...   \n",
       "7369   49178.791380  12.152344   \n",
       "7370   49178.791380  12.152344   \n",
       "7371   53612.855140  13.248025   \n",
       "7372   53612.855140  13.248025   \n",
       "7373   53612.855140  13.248025   \n",
       "\n",
       "                                               geometry   pctu_ch parameter  \\\n",
       "0     POLYGON ((421958.924 4468475.185, 421704.024 4...  0.869309    TOTEMP   \n",
       "1     POLYGON ((421958.924 4468475.185, 421704.024 4...  0.869309    TOTEMP   \n",
       "2     POLYGON ((421958.924 4468475.185, 421704.024 4...  0.869309    TOTEMP   \n",
       "3     POLYGON ((422468.715 4468706.905, 422213.825 4...  1.000000    TOTEMP   \n",
       "4     POLYGON ((422468.715 4468706.905, 422213.825 4...  1.000000    TOTEMP   \n",
       "...                                                 ...       ...       ...   \n",
       "7369  POLYGON ((425486.225 4512100.312, 425264.903 4...  0.506845     TOTHH   \n",
       "7370  POLYGON ((425486.225 4512100.312, 425264.903 4...  0.506845     TOTHH   \n",
       "7371  POLYGON ((425489.373 4512341.571, 425489.118 4...  0.000000     TOTHH   \n",
       "7372  POLYGON ((425489.373 4512341.571, 425489.118 4...  0.000000     TOTHH   \n",
       "7373  POLYGON ((425489.373 4512341.571, 425489.118 4...  0.000000     TOTHH   \n",
       "\n",
       "      ...  multiplier        s_ch       s_tot      s_diff      s_grow  \\\n",
       "0     ...        1.25  788.989366  822.935022  563.195125  629.899266   \n",
       "1     ...        1.25  788.989366  857.103330  335.919893  664.067574   \n",
       "2     ...        1.25  788.989366  885.260070  148.631432  692.224314   \n",
       "3     ...        1.25  549.261312  549.261312  473.726250  540.512412   \n",
       "4     ...        1.25  549.261312  549.261312   56.464331  540.512412   \n",
       "...   ...         ...         ...         ...         ...         ...   \n",
       "7369  ...        1.50   98.549694  290.873895  -99.113503   -9.383351   \n",
       "7370  ...        1.50   98.549694  283.865471  -91.910522  -16.391776   \n",
       "7371  ...        1.50    0.000000    0.000000    0.000000    0.000000   \n",
       "7372  ...        1.50    0.000000    0.000000    0.000000    0.000000   \n",
       "7373  ...        1.50    0.000000    0.000000    0.000000    0.000000   \n",
       "\n",
       "      b_tot_den  f_tot_den  s_tot_den  s_grow_den  s_diff_den  \n",
       "0      2.552243   3.434179  10.880525    8.328281    7.446345  \n",
       "1      2.552243   6.890883  11.332285    8.780041    4.441401  \n",
       "2      2.552243   9.739415  11.704562    9.152319    1.965147  \n",
       "3      0.191142   1.650254  12.000000   11.808858   10.349746  \n",
       "4      0.191142  10.766394  12.000000   11.808858    1.233606  \n",
       "...         ...        ...        ...         ...         ...  \n",
       "7369  24.707764  32.091537  23.935621   -0.772143   -8.155916  \n",
       "7370  24.707764  30.922100  23.358907   -1.348857   -7.563193  \n",
       "7371   0.000000   0.000000   0.000000    0.000000    0.000000  \n",
       "7372   0.000000   0.000000   0.000000    0.000000    0.000000  \n",
       "7373   0.000000   0.000000   0.000000    0.000000    0.000000  \n",
       "\n",
       "[7374 rows x 33 columns]"
      ]
     },
     "execution_count": 271,
     "metadata": {},
     "output_type": "execute_result"
    }
   ],
   "source": [
    "_gdf = gdf_center_taz_calcs_se.copy()\n",
    "\n",
    "# Calculate expected growth for given polygon area\n",
    "# taz_ratio is ratio of parcels allowing hh/emp growth compared to rest of TAZ\n",
    "# value_B, value_F are base/future TAZ values\n",
    "\n",
    "# total base and future\n",
    "_gdf['b_tot'] = _gdf['taz_ratio'] * _gdf['value_B']\n",
    "_gdf['f_tot'] = _gdf['taz_ratio'] * _gdf['value_F']\n",
    "\n",
    "# changeable base and future\n",
    "_gdf['b_ch'] = _gdf['b_tot'] * _gdf['pctu_ch']\n",
    "_gdf['f_ch'] = _gdf['f_tot'] * _gdf['pctu_ch']\n",
    "\n",
    "# changeable acres\n",
    "_gdf['acres_ch'] = _gdf['acres'] * _gdf['pctu_ch']\n",
    "\n",
    "\n",
    "if use_county_multiplier:\n",
    "    print('!!!!!!!!!!!!!!!')\n",
    "    print('Multiplier Used')\n",
    "    print('!!!!!!!!!!!!!!!')\n",
    "    print('!!!!!!!!!!!!!!!')\n",
    "    print('!!!!!!!!!!!!!!!')\n",
    "    print('!!!!!!!!!!!!!!!')\n",
    "    print('!!!!!!!!!!!!!!!')\n",
    "    print('!!!!!!!!!!!!!!!')\n",
    "    print('!!!!!!!!!!!!!!!')\n",
    "    print('!!!!!!!!!!!!!!!')\n",
    "    print('!!!!!!!!!!!!!!!')\n",
    "    _gdf = _gdf.merge(df_centers_county_multipliers, on=['CO_FIPS','center_type','parameter'], how='left')\n",
    "    _gdf['multiplier'] = _gdf['multiplier'].fillna(1)\n",
    "    _gdf['perac_ch'] = (_gdf['perac_ch'] * _gdf['multiplier']).round()\n",
    "\n",
    "\n",
    "# changeable is the acres changeable multiplied by max per acre density\n",
    "_gdf['s_ch'] = _gdf['acres_ch'] * _gdf['perac_ch']\n",
    "\n",
    "# scenario total is forecast total - forecast changeable + scenario changeable\n",
    "_gdf['s_tot'] = _gdf['f_tot'] - _gdf['f_ch'] + _gdf['s_ch']\n",
    "\n",
    "# additional for scenario is the difference\n",
    "_gdf['s_diff'] = _gdf['s_tot'] - _gdf['f_tot']\n",
    "\n",
    "# growth from base\n",
    "_gdf['s_grow'] = _gdf['s_tot'] - _gdf['b_tot']\n",
    "\n",
    "# calculate per acre densities for polygon area\n",
    "_gdf['b_tot_den'] = _gdf['b_tot'] / _gdf['acres']\n",
    "_gdf['f_tot_den'] = _gdf['f_tot'] / _gdf['acres']\n",
    "_gdf['s_tot_den'] = _gdf['s_tot'] / _gdf['acres']\n",
    "\n",
    "_gdf['s_grow_den'] = (_gdf['s_tot'] - _gdf['b_tot']) / _gdf['acres']\n",
    "_gdf['s_diff_den'] = (_gdf['s_tot'] - _gdf['f_tot']) / _gdf['acres']\n",
    "\n",
    "_gdf['b_tot_den'] = (_gdf['taz_ratio'] * _gdf['value_B' ]) / _gdf['acres']\n",
    "_gdf['f_tot_den'] = (_gdf['taz_ratio'] * _gdf['value_F' ]) / _gdf['acres']\n",
    "\n",
    "gdf_se_calcs = _gdf\n",
    "\n",
    "gdf_se_calcs = gdf_se_calcs.fillna(0)\n",
    "gdf_se_calcs"
   ]
  },
  {
   "cell_type": "code",
   "execution_count": 272,
   "metadata": {},
   "outputs": [
    {
     "data": {
      "text/html": [
       "<div>\n",
       "<style scoped>\n",
       "    .dataframe tbody tr th:only-of-type {\n",
       "        vertical-align: middle;\n",
       "    }\n",
       "\n",
       "    .dataframe tbody tr th {\n",
       "        vertical-align: top;\n",
       "    }\n",
       "\n",
       "    .dataframe thead th {\n",
       "        text-align: right;\n",
       "    }\n",
       "</style>\n",
       "<table border=\"1\" class=\"dataframe\">\n",
       "  <thead>\n",
       "    <tr style=\"text-align: right;\">\n",
       "      <th></th>\n",
       "      <th>AreaName</th>\n",
       "      <th>AreaType</th>\n",
       "      <th>TAZID</th>\n",
       "      <th>TAZACRES</th>\n",
       "      <th>CO_FIPS</th>\n",
       "      <th>sqm</th>\n",
       "      <th>acres</th>\n",
       "      <th>geometry</th>\n",
       "      <th>pctu_ch</th>\n",
       "      <th>parameter</th>\n",
       "      <th>...</th>\n",
       "      <th>multiplier</th>\n",
       "      <th>s_ch</th>\n",
       "      <th>s_tot</th>\n",
       "      <th>s_diff</th>\n",
       "      <th>s_grow</th>\n",
       "      <th>b_tot_den</th>\n",
       "      <th>f_tot_den</th>\n",
       "      <th>s_tot_den</th>\n",
       "      <th>s_grow_den</th>\n",
       "      <th>s_diff_den</th>\n",
       "    </tr>\n",
       "  </thead>\n",
       "  <tbody>\n",
       "    <tr>\n",
       "      <th>2475</th>\n",
       "      <td>Fairbourne Station</td>\n",
       "      <td>Urban Center</td>\n",
       "      <td>1384</td>\n",
       "      <td>96.889876</td>\n",
       "      <td>35</td>\n",
       "      <td>331540.63668</td>\n",
       "      <td>81.925476</td>\n",
       "      <td>POLYGON ((419262.725 4505498.753, 419265.163 4...</td>\n",
       "      <td>0.923551</td>\n",
       "      <td>TOTEMP</td>\n",
       "      <td>...</td>\n",
       "      <td>1.65</td>\n",
       "      <td>3783.119346</td>\n",
       "      <td>3915.560546</td>\n",
       "      <td>2183.139220</td>\n",
       "      <td>2223.281499</td>\n",
       "      <td>20.656323</td>\n",
       "      <td>21.146308</td>\n",
       "      <td>47.794175</td>\n",
       "      <td>27.137853</td>\n",
       "      <td>26.647868</td>\n",
       "    </tr>\n",
       "    <tr>\n",
       "      <th>2476</th>\n",
       "      <td>Fairbourne Station</td>\n",
       "      <td>Urban Center</td>\n",
       "      <td>1384</td>\n",
       "      <td>96.889876</td>\n",
       "      <td>35</td>\n",
       "      <td>331540.63668</td>\n",
       "      <td>81.925476</td>\n",
       "      <td>POLYGON ((419262.725 4505498.753, 419265.163 4...</td>\n",
       "      <td>0.923551</td>\n",
       "      <td>TOTEMP</td>\n",
       "      <td>...</td>\n",
       "      <td>1.65</td>\n",
       "      <td>3783.119346</td>\n",
       "      <td>3917.310535</td>\n",
       "      <td>2161.998158</td>\n",
       "      <td>2225.031488</td>\n",
       "      <td>20.656323</td>\n",
       "      <td>21.425721</td>\n",
       "      <td>47.815536</td>\n",
       "      <td>27.159214</td>\n",
       "      <td>26.389815</td>\n",
       "    </tr>\n",
       "    <tr>\n",
       "      <th>2477</th>\n",
       "      <td>Fairbourne Station</td>\n",
       "      <td>Urban Center</td>\n",
       "      <td>1384</td>\n",
       "      <td>96.889876</td>\n",
       "      <td>35</td>\n",
       "      <td>331540.63668</td>\n",
       "      <td>81.925476</td>\n",
       "      <td>POLYGON ((419262.725 4505498.753, 419265.163 4...</td>\n",
       "      <td>0.923551</td>\n",
       "      <td>TOTEMP</td>\n",
       "      <td>...</td>\n",
       "      <td>1.65</td>\n",
       "      <td>3783.119346</td>\n",
       "      <td>3916.486265</td>\n",
       "      <td>2171.955905</td>\n",
       "      <td>2224.207218</td>\n",
       "      <td>20.656323</td>\n",
       "      <td>21.294113</td>\n",
       "      <td>47.805475</td>\n",
       "      <td>27.149152</td>\n",
       "      <td>26.511362</td>\n",
       "    </tr>\n",
       "    <tr>\n",
       "      <th>6162</th>\n",
       "      <td>Fairbourne Station</td>\n",
       "      <td>Urban Center</td>\n",
       "      <td>1384</td>\n",
       "      <td>96.889876</td>\n",
       "      <td>35</td>\n",
       "      <td>331540.63668</td>\n",
       "      <td>81.925476</td>\n",
       "      <td>POLYGON ((419262.725 4505498.753, 419265.163 4...</td>\n",
       "      <td>0.923551</td>\n",
       "      <td>TOTHH</td>\n",
       "      <td>...</td>\n",
       "      <td>1.35</td>\n",
       "      <td>1059.273417</td>\n",
       "      <td>1079.043843</td>\n",
       "      <td>820.433169</td>\n",
       "      <td>1064.104844</td>\n",
       "      <td>0.182349</td>\n",
       "      <td>3.156658</td>\n",
       "      <td>13.171042</td>\n",
       "      <td>12.988693</td>\n",
       "      <td>10.014384</td>\n",
       "    </tr>\n",
       "    <tr>\n",
       "      <th>6163</th>\n",
       "      <td>Fairbourne Station</td>\n",
       "      <td>Urban Center</td>\n",
       "      <td>1384</td>\n",
       "      <td>96.889876</td>\n",
       "      <td>35</td>\n",
       "      <td>331540.63668</td>\n",
       "      <td>81.925476</td>\n",
       "      <td>POLYGON ((419262.725 4505498.753, 419265.163 4...</td>\n",
       "      <td>0.923551</td>\n",
       "      <td>TOTHH</td>\n",
       "      <td>...</td>\n",
       "      <td>1.35</td>\n",
       "      <td>1059.273417</td>\n",
       "      <td>1083.599416</td>\n",
       "      <td>765.398735</td>\n",
       "      <td>1068.660417</td>\n",
       "      <td>0.182349</td>\n",
       "      <td>3.884026</td>\n",
       "      <td>13.226648</td>\n",
       "      <td>13.044299</td>\n",
       "      <td>9.342622</td>\n",
       "    </tr>\n",
       "    <tr>\n",
       "      <th>6164</th>\n",
       "      <td>Fairbourne Station</td>\n",
       "      <td>Urban Center</td>\n",
       "      <td>1384</td>\n",
       "      <td>96.889876</td>\n",
       "      <td>35</td>\n",
       "      <td>331540.63668</td>\n",
       "      <td>81.925476</td>\n",
       "      <td>POLYGON ((419262.725 4505498.753, 419265.163 4...</td>\n",
       "      <td>0.923551</td>\n",
       "      <td>TOTHH</td>\n",
       "      <td>...</td>\n",
       "      <td>1.35</td>\n",
       "      <td>1059.273417</td>\n",
       "      <td>1085.046033</td>\n",
       "      <td>747.922619</td>\n",
       "      <td>1070.107034</td>\n",
       "      <td>0.182349</td>\n",
       "      <td>4.115001</td>\n",
       "      <td>13.244306</td>\n",
       "      <td>13.061957</td>\n",
       "      <td>9.129305</td>\n",
       "    </tr>\n",
       "  </tbody>\n",
       "</table>\n",
       "<p>6 rows × 33 columns</p>\n",
       "</div>"
      ],
      "text/plain": [
       "                AreaName      AreaType  TAZID   TAZACRES  CO_FIPS  \\\n",
       "2475  Fairbourne Station  Urban Center   1384  96.889876       35   \n",
       "2476  Fairbourne Station  Urban Center   1384  96.889876       35   \n",
       "2477  Fairbourne Station  Urban Center   1384  96.889876       35   \n",
       "6162  Fairbourne Station  Urban Center   1384  96.889876       35   \n",
       "6163  Fairbourne Station  Urban Center   1384  96.889876       35   \n",
       "6164  Fairbourne Station  Urban Center   1384  96.889876       35   \n",
       "\n",
       "               sqm      acres  \\\n",
       "2475  331540.63668  81.925476   \n",
       "2476  331540.63668  81.925476   \n",
       "2477  331540.63668  81.925476   \n",
       "6162  331540.63668  81.925476   \n",
       "6163  331540.63668  81.925476   \n",
       "6164  331540.63668  81.925476   \n",
       "\n",
       "                                               geometry   pctu_ch parameter  \\\n",
       "2475  POLYGON ((419262.725 4505498.753, 419265.163 4...  0.923551    TOTEMP   \n",
       "2476  POLYGON ((419262.725 4505498.753, 419265.163 4...  0.923551    TOTEMP   \n",
       "2477  POLYGON ((419262.725 4505498.753, 419265.163 4...  0.923551    TOTEMP   \n",
       "6162  POLYGON ((419262.725 4505498.753, 419265.163 4...  0.923551     TOTHH   \n",
       "6163  POLYGON ((419262.725 4505498.753, 419265.163 4...  0.923551     TOTHH   \n",
       "6164  POLYGON ((419262.725 4505498.753, 419265.163 4...  0.923551     TOTHH   \n",
       "\n",
       "      ...  multiplier         s_ch        s_tot       s_diff       s_grow  \\\n",
       "2475  ...        1.65  3783.119346  3915.560546  2183.139220  2223.281499   \n",
       "2476  ...        1.65  3783.119346  3917.310535  2161.998158  2225.031488   \n",
       "2477  ...        1.65  3783.119346  3916.486265  2171.955905  2224.207218   \n",
       "6162  ...        1.35  1059.273417  1079.043843   820.433169  1064.104844   \n",
       "6163  ...        1.35  1059.273417  1083.599416   765.398735  1068.660417   \n",
       "6164  ...        1.35  1059.273417  1085.046033   747.922619  1070.107034   \n",
       "\n",
       "      b_tot_den  f_tot_den  s_tot_den  s_grow_den  s_diff_den  \n",
       "2475  20.656323  21.146308  47.794175   27.137853   26.647868  \n",
       "2476  20.656323  21.425721  47.815536   27.159214   26.389815  \n",
       "2477  20.656323  21.294113  47.805475   27.149152   26.511362  \n",
       "6162   0.182349   3.156658  13.171042   12.988693   10.014384  \n",
       "6163   0.182349   3.884026  13.226648   13.044299    9.342622  \n",
       "6164   0.182349   4.115001  13.244306   13.061957    9.129305  \n",
       "\n",
       "[6 rows x 33 columns]"
      ]
     },
     "execution_count": 272,
     "metadata": {},
     "output_type": "execute_result"
    }
   ],
   "source": [
    "gdf_1384 = gdf_se_calcs[(gdf_se_calcs['TAZID']==1384)]\n",
    "df_1384 = pd.DataFrame(gdf_1384)\n",
    "df_1384"
   ]
  },
  {
   "cell_type": "code",
   "execution_count": 273,
   "metadata": {},
   "outputs": [],
   "source": [
    "import geopandas as gpd\n",
    "\n",
    "# Assuming gdf_se_calcs is your existing GeoDataFrame\n",
    "\n",
    "# Step 1: Filter rows where parameter is TOTHH\n",
    "gdf_tothh = gdf_se_calcs[gdf_se_calcs['parameter'] == 'TOTHH'].copy()\n",
    "\n",
    "# Step 2: Identify numeric columns that don't contain 'pct' or 'acres'\n",
    "columns_to_multiply = [col for col in gdf_tothh.columns if col not in ['parameter','project_id','AreaType','CO_FIPS','TAZID','TAZACRES','taz_ratio','sqm','geometry','N'] and 'year' not in col and 'pct' not in col and 'acres' not in col and gdf_tothh[col].dtype != 'object']\n",
    "\n",
    "# Step 3: Multiply selected columns by 1.8\n",
    "gdf_tothh[columns_to_multiply] *= hh_factor\n",
    "\n",
    "# Step 4: Filter rows where parameter is TOTEMP\n",
    "gdf_totemp = gdf_se_calcs[gdf_se_calcs['parameter'] == 'TOTEMP'].copy()\n",
    "\n",
    "# Step 5: Ensure the indices match for correct addition\n",
    "gdf_tothh.index = gdf_totemp.index\n",
    "\n",
    "# Step 6: Create a new DataFrame for the sum of TOTHH * 1.8 and TOTEMP\n",
    "gdf_tothhemp = gdf_totemp.copy()\n",
    "gdf_tothhemp[columns_to_multiply] += gdf_tothh[columns_to_multiply]\n",
    "gdf_tothhemp['parameter'] = 'TOTHHEMP'\n",
    "\n",
    "# Step 7: Append the new rows to the original GeoDataFrame\n",
    "gdf_se_calcs2 = pd.concat([gdf_se_calcs, gdf_tothhemp], ignore_index=True)\n",
    "\n",
    "# Now gdf_se_calcs should have the new TOTHHEMP rows added\n"
   ]
  },
  {
   "cell_type": "code",
   "execution_count": 274,
   "metadata": {},
   "outputs": [
    {
     "data": {
      "text/html": [
       "<div>\n",
       "<style scoped>\n",
       "    .dataframe tbody tr th:only-of-type {\n",
       "        vertical-align: middle;\n",
       "    }\n",
       "\n",
       "    .dataframe tbody tr th {\n",
       "        vertical-align: top;\n",
       "    }\n",
       "\n",
       "    .dataframe thead th {\n",
       "        text-align: right;\n",
       "    }\n",
       "</style>\n",
       "<table border=\"1\" class=\"dataframe\">\n",
       "  <thead>\n",
       "    <tr style=\"text-align: right;\">\n",
       "      <th></th>\n",
       "      <th>AreaName</th>\n",
       "      <th>AreaType</th>\n",
       "      <th>TAZID</th>\n",
       "      <th>TAZACRES</th>\n",
       "      <th>CO_FIPS</th>\n",
       "      <th>sqm</th>\n",
       "      <th>acres</th>\n",
       "      <th>geometry</th>\n",
       "      <th>pctu_ch</th>\n",
       "      <th>parameter</th>\n",
       "      <th>...</th>\n",
       "      <th>multiplier</th>\n",
       "      <th>s_ch</th>\n",
       "      <th>s_tot</th>\n",
       "      <th>s_diff</th>\n",
       "      <th>s_grow</th>\n",
       "      <th>b_tot_den</th>\n",
       "      <th>f_tot_den</th>\n",
       "      <th>s_tot_den</th>\n",
       "      <th>s_grow_den</th>\n",
       "      <th>s_diff_den</th>\n",
       "    </tr>\n",
       "  </thead>\n",
       "  <tbody>\n",
       "    <tr>\n",
       "      <th>0</th>\n",
       "      <td>Crossroads</td>\n",
       "      <td>City Center</td>\n",
       "      <td>2496</td>\n",
       "      <td>165.490872</td>\n",
       "      <td>49</td>\n",
       "      <td>306078.979084</td>\n",
       "      <td>75.633763</td>\n",
       "      <td>POLYGON ((421958.924 4468475.185, 421704.024 4...</td>\n",
       "      <td>0.869309</td>\n",
       "      <td>TOTEMP</td>\n",
       "      <td>...</td>\n",
       "      <td>1.25</td>\n",
       "      <td>788.989366</td>\n",
       "      <td>822.935022</td>\n",
       "      <td>563.195125</td>\n",
       "      <td>629.899266</td>\n",
       "      <td>2.552243</td>\n",
       "      <td>3.434179</td>\n",
       "      <td>10.880525</td>\n",
       "      <td>8.328281</td>\n",
       "      <td>7.446345</td>\n",
       "    </tr>\n",
       "    <tr>\n",
       "      <th>1</th>\n",
       "      <td>Crossroads</td>\n",
       "      <td>City Center</td>\n",
       "      <td>2496</td>\n",
       "      <td>165.490872</td>\n",
       "      <td>49</td>\n",
       "      <td>306078.979084</td>\n",
       "      <td>75.633763</td>\n",
       "      <td>POLYGON ((421958.924 4468475.185, 421704.024 4...</td>\n",
       "      <td>0.869309</td>\n",
       "      <td>TOTEMP</td>\n",
       "      <td>...</td>\n",
       "      <td>1.25</td>\n",
       "      <td>788.989366</td>\n",
       "      <td>857.103330</td>\n",
       "      <td>335.919893</td>\n",
       "      <td>664.067574</td>\n",
       "      <td>2.552243</td>\n",
       "      <td>6.890883</td>\n",
       "      <td>11.332285</td>\n",
       "      <td>8.780041</td>\n",
       "      <td>4.441401</td>\n",
       "    </tr>\n",
       "    <tr>\n",
       "      <th>2</th>\n",
       "      <td>Crossroads</td>\n",
       "      <td>City Center</td>\n",
       "      <td>2496</td>\n",
       "      <td>165.490872</td>\n",
       "      <td>49</td>\n",
       "      <td>306078.979084</td>\n",
       "      <td>75.633763</td>\n",
       "      <td>POLYGON ((421958.924 4468475.185, 421704.024 4...</td>\n",
       "      <td>0.869309</td>\n",
       "      <td>TOTEMP</td>\n",
       "      <td>...</td>\n",
       "      <td>1.25</td>\n",
       "      <td>788.989366</td>\n",
       "      <td>885.260070</td>\n",
       "      <td>148.631432</td>\n",
       "      <td>692.224314</td>\n",
       "      <td>2.552243</td>\n",
       "      <td>9.739415</td>\n",
       "      <td>11.704562</td>\n",
       "      <td>9.152319</td>\n",
       "      <td>1.965147</td>\n",
       "    </tr>\n",
       "    <tr>\n",
       "      <th>3</th>\n",
       "      <td>Crossroads</td>\n",
       "      <td>City Center</td>\n",
       "      <td>2503</td>\n",
       "      <td>85.734122</td>\n",
       "      <td>49</td>\n",
       "      <td>185231.805669</td>\n",
       "      <td>45.771776</td>\n",
       "      <td>POLYGON ((422468.715 4468706.905, 422213.825 4...</td>\n",
       "      <td>1.000000</td>\n",
       "      <td>TOTEMP</td>\n",
       "      <td>...</td>\n",
       "      <td>1.25</td>\n",
       "      <td>549.261312</td>\n",
       "      <td>549.261312</td>\n",
       "      <td>473.726250</td>\n",
       "      <td>540.512412</td>\n",
       "      <td>0.191142</td>\n",
       "      <td>1.650254</td>\n",
       "      <td>12.000000</td>\n",
       "      <td>11.808858</td>\n",
       "      <td>10.349746</td>\n",
       "    </tr>\n",
       "    <tr>\n",
       "      <th>4</th>\n",
       "      <td>Crossroads</td>\n",
       "      <td>City Center</td>\n",
       "      <td>2503</td>\n",
       "      <td>85.734122</td>\n",
       "      <td>49</td>\n",
       "      <td>185231.805669</td>\n",
       "      <td>45.771776</td>\n",
       "      <td>POLYGON ((422468.715 4468706.905, 422213.825 4...</td>\n",
       "      <td>1.000000</td>\n",
       "      <td>TOTEMP</td>\n",
       "      <td>...</td>\n",
       "      <td>1.25</td>\n",
       "      <td>549.261312</td>\n",
       "      <td>549.261312</td>\n",
       "      <td>56.464331</td>\n",
       "      <td>540.512412</td>\n",
       "      <td>0.191142</td>\n",
       "      <td>10.766394</td>\n",
       "      <td>12.000000</td>\n",
       "      <td>11.808858</td>\n",
       "      <td>1.233606</td>\n",
       "    </tr>\n",
       "    <tr>\n",
       "      <th>...</th>\n",
       "      <td>...</td>\n",
       "      <td>...</td>\n",
       "      <td>...</td>\n",
       "      <td>...</td>\n",
       "      <td>...</td>\n",
       "      <td>...</td>\n",
       "      <td>...</td>\n",
       "      <td>...</td>\n",
       "      <td>...</td>\n",
       "      <td>...</td>\n",
       "      <td>...</td>\n",
       "      <td>...</td>\n",
       "      <td>...</td>\n",
       "      <td>...</td>\n",
       "      <td>...</td>\n",
       "      <td>...</td>\n",
       "      <td>...</td>\n",
       "      <td>...</td>\n",
       "      <td>...</td>\n",
       "      <td>...</td>\n",
       "      <td>...</td>\n",
       "    </tr>\n",
       "    <tr>\n",
       "      <th>11056</th>\n",
       "      <td>Salt Lake City CBD</td>\n",
       "      <td>Metropolitan Center</td>\n",
       "      <td>1146</td>\n",
       "      <td>14.425497</td>\n",
       "      <td>35</td>\n",
       "      <td>49178.791380</td>\n",
       "      <td>12.152344</td>\n",
       "      <td>POLYGON ((425486.225 4512100.312, 425264.903 4...</td>\n",
       "      <td>0.506845</td>\n",
       "      <td>TOTHHEMP</td>\n",
       "      <td>...</td>\n",
       "      <td>4.70</td>\n",
       "      <td>916.512150</td>\n",
       "      <td>1911.056454</td>\n",
       "      <td>-105.641091</td>\n",
       "      <td>292.179105</td>\n",
       "      <td>133.215234</td>\n",
       "      <td>165.951321</td>\n",
       "      <td>157.258258</td>\n",
       "      <td>24.043025</td>\n",
       "      <td>-8.693063</td>\n",
       "    </tr>\n",
       "    <tr>\n",
       "      <th>11057</th>\n",
       "      <td>Salt Lake City CBD</td>\n",
       "      <td>Metropolitan Center</td>\n",
       "      <td>1146</td>\n",
       "      <td>14.425497</td>\n",
       "      <td>35</td>\n",
       "      <td>49178.791380</td>\n",
       "      <td>12.152344</td>\n",
       "      <td>POLYGON ((425486.225 4512100.312, 425264.903 4...</td>\n",
       "      <td>0.506845</td>\n",
       "      <td>TOTHHEMP</td>\n",
       "      <td>...</td>\n",
       "      <td>4.70</td>\n",
       "      <td>916.512150</td>\n",
       "      <td>1937.476584</td>\n",
       "      <td>-132.794654</td>\n",
       "      <td>318.599235</td>\n",
       "      <td>133.215234</td>\n",
       "      <td>170.359828</td>\n",
       "      <td>159.432335</td>\n",
       "      <td>26.217101</td>\n",
       "      <td>-10.927493</td>\n",
       "    </tr>\n",
       "    <tr>\n",
       "      <th>11058</th>\n",
       "      <td>Salt Lake City CBD</td>\n",
       "      <td>Metropolitan Center</td>\n",
       "      <td>1147</td>\n",
       "      <td>14.418102</td>\n",
       "      <td>35</td>\n",
       "      <td>53612.855140</td>\n",
       "      <td>13.248025</td>\n",
       "      <td>POLYGON ((425489.373 4512341.571, 425489.118 4...</td>\n",
       "      <td>0.000000</td>\n",
       "      <td>TOTHHEMP</td>\n",
       "      <td>...</td>\n",
       "      <td>4.70</td>\n",
       "      <td>0.000000</td>\n",
       "      <td>0.000000</td>\n",
       "      <td>0.000000</td>\n",
       "      <td>0.000000</td>\n",
       "      <td>0.000000</td>\n",
       "      <td>0.000000</td>\n",
       "      <td>0.000000</td>\n",
       "      <td>0.000000</td>\n",
       "      <td>0.000000</td>\n",
       "    </tr>\n",
       "    <tr>\n",
       "      <th>11059</th>\n",
       "      <td>Salt Lake City CBD</td>\n",
       "      <td>Metropolitan Center</td>\n",
       "      <td>1147</td>\n",
       "      <td>14.418102</td>\n",
       "      <td>35</td>\n",
       "      <td>53612.855140</td>\n",
       "      <td>13.248025</td>\n",
       "      <td>POLYGON ((425489.373 4512341.571, 425489.118 4...</td>\n",
       "      <td>0.000000</td>\n",
       "      <td>TOTHHEMP</td>\n",
       "      <td>...</td>\n",
       "      <td>4.70</td>\n",
       "      <td>0.000000</td>\n",
       "      <td>0.000000</td>\n",
       "      <td>0.000000</td>\n",
       "      <td>0.000000</td>\n",
       "      <td>0.000000</td>\n",
       "      <td>0.000000</td>\n",
       "      <td>0.000000</td>\n",
       "      <td>0.000000</td>\n",
       "      <td>0.000000</td>\n",
       "    </tr>\n",
       "    <tr>\n",
       "      <th>11060</th>\n",
       "      <td>Salt Lake City CBD</td>\n",
       "      <td>Metropolitan Center</td>\n",
       "      <td>1147</td>\n",
       "      <td>14.418102</td>\n",
       "      <td>35</td>\n",
       "      <td>53612.855140</td>\n",
       "      <td>13.248025</td>\n",
       "      <td>POLYGON ((425489.373 4512341.571, 425489.118 4...</td>\n",
       "      <td>0.000000</td>\n",
       "      <td>TOTHHEMP</td>\n",
       "      <td>...</td>\n",
       "      <td>4.70</td>\n",
       "      <td>0.000000</td>\n",
       "      <td>0.000000</td>\n",
       "      <td>0.000000</td>\n",
       "      <td>0.000000</td>\n",
       "      <td>0.000000</td>\n",
       "      <td>0.000000</td>\n",
       "      <td>0.000000</td>\n",
       "      <td>0.000000</td>\n",
       "      <td>0.000000</td>\n",
       "    </tr>\n",
       "  </tbody>\n",
       "</table>\n",
       "<p>11061 rows × 33 columns</p>\n",
       "</div>"
      ],
      "text/plain": [
       "                 AreaName             AreaType  TAZID    TAZACRES  CO_FIPS  \\\n",
       "0              Crossroads          City Center   2496  165.490872       49   \n",
       "1              Crossroads          City Center   2496  165.490872       49   \n",
       "2              Crossroads          City Center   2496  165.490872       49   \n",
       "3              Crossroads          City Center   2503   85.734122       49   \n",
       "4              Crossroads          City Center   2503   85.734122       49   \n",
       "...                   ...                  ...    ...         ...      ...   \n",
       "11056  Salt Lake City CBD  Metropolitan Center   1146   14.425497       35   \n",
       "11057  Salt Lake City CBD  Metropolitan Center   1146   14.425497       35   \n",
       "11058  Salt Lake City CBD  Metropolitan Center   1147   14.418102       35   \n",
       "11059  Salt Lake City CBD  Metropolitan Center   1147   14.418102       35   \n",
       "11060  Salt Lake City CBD  Metropolitan Center   1147   14.418102       35   \n",
       "\n",
       "                 sqm      acres  \\\n",
       "0      306078.979084  75.633763   \n",
       "1      306078.979084  75.633763   \n",
       "2      306078.979084  75.633763   \n",
       "3      185231.805669  45.771776   \n",
       "4      185231.805669  45.771776   \n",
       "...              ...        ...   \n",
       "11056   49178.791380  12.152344   \n",
       "11057   49178.791380  12.152344   \n",
       "11058   53612.855140  13.248025   \n",
       "11059   53612.855140  13.248025   \n",
       "11060   53612.855140  13.248025   \n",
       "\n",
       "                                                geometry   pctu_ch parameter  \\\n",
       "0      POLYGON ((421958.924 4468475.185, 421704.024 4...  0.869309    TOTEMP   \n",
       "1      POLYGON ((421958.924 4468475.185, 421704.024 4...  0.869309    TOTEMP   \n",
       "2      POLYGON ((421958.924 4468475.185, 421704.024 4...  0.869309    TOTEMP   \n",
       "3      POLYGON ((422468.715 4468706.905, 422213.825 4...  1.000000    TOTEMP   \n",
       "4      POLYGON ((422468.715 4468706.905, 422213.825 4...  1.000000    TOTEMP   \n",
       "...                                                  ...       ...       ...   \n",
       "11056  POLYGON ((425486.225 4512100.312, 425264.903 4...  0.506845  TOTHHEMP   \n",
       "11057  POLYGON ((425486.225 4512100.312, 425264.903 4...  0.506845  TOTHHEMP   \n",
       "11058  POLYGON ((425489.373 4512341.571, 425489.118 4...  0.000000  TOTHHEMP   \n",
       "11059  POLYGON ((425489.373 4512341.571, 425489.118 4...  0.000000  TOTHHEMP   \n",
       "11060  POLYGON ((425489.373 4512341.571, 425489.118 4...  0.000000  TOTHHEMP   \n",
       "\n",
       "       ...  multiplier        s_ch        s_tot      s_diff      s_grow  \\\n",
       "0      ...        1.25  788.989366   822.935022  563.195125  629.899266   \n",
       "1      ...        1.25  788.989366   857.103330  335.919893  664.067574   \n",
       "2      ...        1.25  788.989366   885.260070  148.631432  692.224314   \n",
       "3      ...        1.25  549.261312   549.261312  473.726250  540.512412   \n",
       "4      ...        1.25  549.261312   549.261312   56.464331  540.512412   \n",
       "...    ...         ...         ...          ...         ...         ...   \n",
       "11056  ...        4.70  916.512150  1911.056454 -105.641091  292.179105   \n",
       "11057  ...        4.70  916.512150  1937.476584 -132.794654  318.599235   \n",
       "11058  ...        4.70    0.000000     0.000000    0.000000    0.000000   \n",
       "11059  ...        4.70    0.000000     0.000000    0.000000    0.000000   \n",
       "11060  ...        4.70    0.000000     0.000000    0.000000    0.000000   \n",
       "\n",
       "        b_tot_den   f_tot_den   s_tot_den  s_grow_den  s_diff_den  \n",
       "0        2.552243    3.434179   10.880525    8.328281    7.446345  \n",
       "1        2.552243    6.890883   11.332285    8.780041    4.441401  \n",
       "2        2.552243    9.739415   11.704562    9.152319    1.965147  \n",
       "3        0.191142    1.650254   12.000000   11.808858   10.349746  \n",
       "4        0.191142   10.766394   12.000000   11.808858    1.233606  \n",
       "...           ...         ...         ...         ...         ...  \n",
       "11056  133.215234  165.951321  157.258258   24.043025   -8.693063  \n",
       "11057  133.215234  170.359828  159.432335   26.217101  -10.927493  \n",
       "11058    0.000000    0.000000    0.000000    0.000000    0.000000  \n",
       "11059    0.000000    0.000000    0.000000    0.000000    0.000000  \n",
       "11060    0.000000    0.000000    0.000000    0.000000    0.000000  \n",
       "\n",
       "[11061 rows x 33 columns]"
      ]
     },
     "execution_count": 274,
     "metadata": {},
     "output_type": "execute_result"
    }
   ],
   "source": [
    "gdf_se_calcs2"
   ]
  },
  {
   "cell_type": "code",
   "execution_count": 275,
   "metadata": {},
   "outputs": [
    {
     "data": {
      "text/html": [
       "<div>\n",
       "<style scoped>\n",
       "    .dataframe tbody tr th:only-of-type {\n",
       "        vertical-align: middle;\n",
       "    }\n",
       "\n",
       "    .dataframe tbody tr th {\n",
       "        vertical-align: top;\n",
       "    }\n",
       "\n",
       "    .dataframe thead th {\n",
       "        text-align: right;\n",
       "    }\n",
       "</style>\n",
       "<table border=\"1\" class=\"dataframe\">\n",
       "  <thead>\n",
       "    <tr style=\"text-align: right;\">\n",
       "      <th></th>\n",
       "      <th>TAZID</th>\n",
       "      <th>CO_FIPS</th>\n",
       "      <th>parameter</th>\n",
       "      <th>TAZACRES</th>\n",
       "      <th>sqm</th>\n",
       "      <th>acres</th>\n",
       "      <th>pctu_ch</th>\n",
       "      <th>perac_ch</th>\n",
       "      <th>value_F</th>\n",
       "      <th>se_year_F</th>\n",
       "      <th>value_B</th>\n",
       "      <th>se_year_B</th>\n",
       "      <th>growth</th>\n",
       "      <th>acres_ch</th>\n",
       "      <th>multiplier</th>\n",
       "      <th>s_ch</th>\n",
       "    </tr>\n",
       "  </thead>\n",
       "  <tbody>\n",
       "    <tr>\n",
       "      <th>0</th>\n",
       "      <td>19</td>\n",
       "      <td>3</td>\n",
       "      <td>TOTEMP</td>\n",
       "      <td>632.920635</td>\n",
       "      <td>83156.359390</td>\n",
       "      <td>20.548384</td>\n",
       "      <td>0.0</td>\n",
       "      <td>21.0</td>\n",
       "      <td>145.700000</td>\n",
       "      <td>6124</td>\n",
       "      <td>107.1</td>\n",
       "      <td>6069</td>\n",
       "      <td>38.600000</td>\n",
       "      <td>0.0</td>\n",
       "      <td>3.0</td>\n",
       "      <td>0.0</td>\n",
       "    </tr>\n",
       "    <tr>\n",
       "      <th>1</th>\n",
       "      <td>19</td>\n",
       "      <td>3</td>\n",
       "      <td>TOTHH</td>\n",
       "      <td>632.920635</td>\n",
       "      <td>83156.359390</td>\n",
       "      <td>20.548384</td>\n",
       "      <td>0.0</td>\n",
       "      <td>12.0</td>\n",
       "      <td>581.400000</td>\n",
       "      <td>6124</td>\n",
       "      <td>489.0</td>\n",
       "      <td>6069</td>\n",
       "      <td>92.400000</td>\n",
       "      <td>0.0</td>\n",
       "      <td>3.0</td>\n",
       "      <td>0.0</td>\n",
       "    </tr>\n",
       "    <tr>\n",
       "      <th>2</th>\n",
       "      <td>20</td>\n",
       "      <td>3</td>\n",
       "      <td>TOTEMP</td>\n",
       "      <td>651.925243</td>\n",
       "      <td>46572.696627</td>\n",
       "      <td>11.508364</td>\n",
       "      <td>0.0</td>\n",
       "      <td>21.0</td>\n",
       "      <td>406.300000</td>\n",
       "      <td>6124</td>\n",
       "      <td>263.1</td>\n",
       "      <td>6069</td>\n",
       "      <td>143.200000</td>\n",
       "      <td>0.0</td>\n",
       "      <td>3.0</td>\n",
       "      <td>0.0</td>\n",
       "    </tr>\n",
       "    <tr>\n",
       "      <th>3</th>\n",
       "      <td>20</td>\n",
       "      <td>3</td>\n",
       "      <td>TOTHH</td>\n",
       "      <td>651.925243</td>\n",
       "      <td>46572.696627</td>\n",
       "      <td>11.508364</td>\n",
       "      <td>0.0</td>\n",
       "      <td>12.0</td>\n",
       "      <td>541.000000</td>\n",
       "      <td>6124</td>\n",
       "      <td>431.4</td>\n",
       "      <td>6069</td>\n",
       "      <td>109.600000</td>\n",
       "      <td>0.0</td>\n",
       "      <td>3.0</td>\n",
       "      <td>0.0</td>\n",
       "    </tr>\n",
       "    <tr>\n",
       "      <th>4</th>\n",
       "      <td>25</td>\n",
       "      <td>3</td>\n",
       "      <td>TOTEMP</td>\n",
       "      <td>339.134378</td>\n",
       "      <td>117119.378217</td>\n",
       "      <td>28.940829</td>\n",
       "      <td>0.0</td>\n",
       "      <td>21.0</td>\n",
       "      <td>471.700000</td>\n",
       "      <td>6124</td>\n",
       "      <td>430.2</td>\n",
       "      <td>6069</td>\n",
       "      <td>41.500000</td>\n",
       "      <td>0.0</td>\n",
       "      <td>3.0</td>\n",
       "      <td>0.0</td>\n",
       "    </tr>\n",
       "    <tr>\n",
       "      <th>...</th>\n",
       "      <td>...</td>\n",
       "      <td>...</td>\n",
       "      <td>...</td>\n",
       "      <td>...</td>\n",
       "      <td>...</td>\n",
       "      <td>...</td>\n",
       "      <td>...</td>\n",
       "      <td>...</td>\n",
       "      <td>...</td>\n",
       "      <td>...</td>\n",
       "      <td>...</td>\n",
       "      <td>...</td>\n",
       "      <td>...</td>\n",
       "      <td>...</td>\n",
       "      <td>...</td>\n",
       "      <td>...</td>\n",
       "    </tr>\n",
       "    <tr>\n",
       "      <th>2257</th>\n",
       "      <td>3405</td>\n",
       "      <td>49</td>\n",
       "      <td>TOTHH</td>\n",
       "      <td>326.754601</td>\n",
       "      <td>108142.560845</td>\n",
       "      <td>26.722609</td>\n",
       "      <td>0.0</td>\n",
       "      <td>12.0</td>\n",
       "      <td>347.666667</td>\n",
       "      <td>6124</td>\n",
       "      <td>339.0</td>\n",
       "      <td>6069</td>\n",
       "      <td>8.666667</td>\n",
       "      <td>0.0</td>\n",
       "      <td>3.3</td>\n",
       "      <td>0.0</td>\n",
       "    </tr>\n",
       "    <tr>\n",
       "      <th>2258</th>\n",
       "      <td>3406</td>\n",
       "      <td>49</td>\n",
       "      <td>TOTEMP</td>\n",
       "      <td>310.065653</td>\n",
       "      <td>222574.459747</td>\n",
       "      <td>54.999347</td>\n",
       "      <td>0.0</td>\n",
       "      <td>24.0</td>\n",
       "      <td>534.000000</td>\n",
       "      <td>6124</td>\n",
       "      <td>533.5</td>\n",
       "      <td>6069</td>\n",
       "      <td>0.500000</td>\n",
       "      <td>0.0</td>\n",
       "      <td>3.3</td>\n",
       "      <td>0.0</td>\n",
       "    </tr>\n",
       "    <tr>\n",
       "      <th>2259</th>\n",
       "      <td>3406</td>\n",
       "      <td>49</td>\n",
       "      <td>TOTHH</td>\n",
       "      <td>310.065653</td>\n",
       "      <td>222574.459747</td>\n",
       "      <td>54.999347</td>\n",
       "      <td>0.0</td>\n",
       "      <td>12.0</td>\n",
       "      <td>456.166667</td>\n",
       "      <td>6124</td>\n",
       "      <td>364.5</td>\n",
       "      <td>6069</td>\n",
       "      <td>91.666667</td>\n",
       "      <td>0.0</td>\n",
       "      <td>3.3</td>\n",
       "      <td>0.0</td>\n",
       "    </tr>\n",
       "    <tr>\n",
       "      <th>2260</th>\n",
       "      <td>3407</td>\n",
       "      <td>49</td>\n",
       "      <td>TOTEMP</td>\n",
       "      <td>848.889857</td>\n",
       "      <td>70839.371035</td>\n",
       "      <td>17.504790</td>\n",
       "      <td>0.0</td>\n",
       "      <td>24.0</td>\n",
       "      <td>558.500000</td>\n",
       "      <td>6124</td>\n",
       "      <td>558.0</td>\n",
       "      <td>6069</td>\n",
       "      <td>0.500000</td>\n",
       "      <td>0.0</td>\n",
       "      <td>3.3</td>\n",
       "      <td>0.0</td>\n",
       "    </tr>\n",
       "    <tr>\n",
       "      <th>2261</th>\n",
       "      <td>3407</td>\n",
       "      <td>49</td>\n",
       "      <td>TOTHH</td>\n",
       "      <td>848.889857</td>\n",
       "      <td>70839.371035</td>\n",
       "      <td>17.504790</td>\n",
       "      <td>0.0</td>\n",
       "      <td>12.0</td>\n",
       "      <td>760.833333</td>\n",
       "      <td>6124</td>\n",
       "      <td>223.5</td>\n",
       "      <td>6069</td>\n",
       "      <td>537.333333</td>\n",
       "      <td>0.0</td>\n",
       "      <td>3.3</td>\n",
       "      <td>0.0</td>\n",
       "    </tr>\n",
       "  </tbody>\n",
       "</table>\n",
       "<p>2262 rows × 16 columns</p>\n",
       "</div>"
      ],
      "text/plain": [
       "      TAZID  CO_FIPS parameter    TAZACRES            sqm      acres  pctu_ch  \\\n",
       "0        19        3    TOTEMP  632.920635   83156.359390  20.548384      0.0   \n",
       "1        19        3     TOTHH  632.920635   83156.359390  20.548384      0.0   \n",
       "2        20        3    TOTEMP  651.925243   46572.696627  11.508364      0.0   \n",
       "3        20        3     TOTHH  651.925243   46572.696627  11.508364      0.0   \n",
       "4        25        3    TOTEMP  339.134378  117119.378217  28.940829      0.0   \n",
       "...     ...      ...       ...         ...            ...        ...      ...   \n",
       "2257   3405       49     TOTHH  326.754601  108142.560845  26.722609      0.0   \n",
       "2258   3406       49    TOTEMP  310.065653  222574.459747  54.999347      0.0   \n",
       "2259   3406       49     TOTHH  310.065653  222574.459747  54.999347      0.0   \n",
       "2260   3407       49    TOTEMP  848.889857   70839.371035  17.504790      0.0   \n",
       "2261   3407       49     TOTHH  848.889857   70839.371035  17.504790      0.0   \n",
       "\n",
       "      perac_ch     value_F  se_year_F  value_B  se_year_B      growth  \\\n",
       "0         21.0  145.700000       6124    107.1       6069   38.600000   \n",
       "1         12.0  581.400000       6124    489.0       6069   92.400000   \n",
       "2         21.0  406.300000       6124    263.1       6069  143.200000   \n",
       "3         12.0  541.000000       6124    431.4       6069  109.600000   \n",
       "4         21.0  471.700000       6124    430.2       6069   41.500000   \n",
       "...        ...         ...        ...      ...        ...         ...   \n",
       "2257      12.0  347.666667       6124    339.0       6069    8.666667   \n",
       "2258      24.0  534.000000       6124    533.5       6069    0.500000   \n",
       "2259      12.0  456.166667       6124    364.5       6069   91.666667   \n",
       "2260      24.0  558.500000       6124    558.0       6069    0.500000   \n",
       "2261      12.0  760.833333       6124    223.5       6069  537.333333   \n",
       "\n",
       "      acres_ch  multiplier  s_ch  \n",
       "0          0.0         3.0   0.0  \n",
       "1          0.0         3.0   0.0  \n",
       "2          0.0         3.0   0.0  \n",
       "3          0.0         3.0   0.0  \n",
       "4          0.0         3.0   0.0  \n",
       "...        ...         ...   ...  \n",
       "2257       0.0         3.3   0.0  \n",
       "2258       0.0         3.3   0.0  \n",
       "2259       0.0         3.3   0.0  \n",
       "2260       0.0         3.3   0.0  \n",
       "2261       0.0         3.3   0.0  \n",
       "\n",
       "[2262 rows x 16 columns]"
      ]
     },
     "execution_count": 275,
     "metadata": {},
     "output_type": "execute_result"
    }
   ],
   "source": [
    "_gdf.groupby(['TAZID','CO_FIPS','parameter'], as_index=False).sum()"
   ]
  },
  {
   "cell_type": "code",
   "execution_count": 276,
   "metadata": {},
   "outputs": [],
   "source": [
    "# filter for map year\n",
    "gdf_se_calcs_to_map = gdf_se_calcs2[gdf_se_calcs2['se_year_F']==_config.map_year]\n",
    "\n",
    "# Project to WGS 84 (EPSG:4326)\n",
    "gdf_se_calcs_to_map = gdf_se_calcs_to_map.to_crs(epsg=4326)\n",
    "\n",
    "# Export to GeoJSON\n",
    "gdf_se_calcs_to_map.to_file('_site/data/se_calcs.geojson', driver='GeoJSON')\n"
   ]
  },
  {
   "cell_type": "code",
   "execution_count": 277,
   "metadata": {},
   "outputs": [
    {
     "data": {
      "text/html": [
       "<div>\n",
       "<style scoped>\n",
       "    .dataframe tbody tr th:only-of-type {\n",
       "        vertical-align: middle;\n",
       "    }\n",
       "\n",
       "    .dataframe tbody tr th {\n",
       "        vertical-align: top;\n",
       "    }\n",
       "\n",
       "    .dataframe thead th {\n",
       "        text-align: right;\n",
       "    }\n",
       "</style>\n",
       "<table border=\"1\" class=\"dataframe\">\n",
       "  <thead>\n",
       "    <tr style=\"text-align: right;\">\n",
       "      <th></th>\n",
       "      <th>taz_ratio</th>\n",
       "      <th>CO_FIPS</th>\n",
       "      <th>parameter</th>\n",
       "      <th>se_year_F</th>\n",
       "    </tr>\n",
       "  </thead>\n",
       "  <tbody>\n",
       "    <tr>\n",
       "      <th>3333</th>\n",
       "      <td>0.568584</td>\n",
       "      <td>35</td>\n",
       "      <td>TOTEMP</td>\n",
       "      <td>2032</td>\n",
       "    </tr>\n",
       "    <tr>\n",
       "      <th>3334</th>\n",
       "      <td>0.568584</td>\n",
       "      <td>35</td>\n",
       "      <td>TOTEMP</td>\n",
       "      <td>2042</td>\n",
       "    </tr>\n",
       "    <tr>\n",
       "      <th>3335</th>\n",
       "      <td>0.568584</td>\n",
       "      <td>35</td>\n",
       "      <td>TOTEMP</td>\n",
       "      <td>2050</td>\n",
       "    </tr>\n",
       "    <tr>\n",
       "      <th>7020</th>\n",
       "      <td>1.000000</td>\n",
       "      <td>35</td>\n",
       "      <td>TOTHH</td>\n",
       "      <td>2032</td>\n",
       "    </tr>\n",
       "    <tr>\n",
       "      <th>7021</th>\n",
       "      <td>1.000000</td>\n",
       "      <td>35</td>\n",
       "      <td>TOTHH</td>\n",
       "      <td>2042</td>\n",
       "    </tr>\n",
       "    <tr>\n",
       "      <th>7022</th>\n",
       "      <td>1.000000</td>\n",
       "      <td>35</td>\n",
       "      <td>TOTHH</td>\n",
       "      <td>2050</td>\n",
       "    </tr>\n",
       "    <tr>\n",
       "      <th>10707</th>\n",
       "      <td>0.568584</td>\n",
       "      <td>35</td>\n",
       "      <td>TOTHHEMP</td>\n",
       "      <td>2032</td>\n",
       "    </tr>\n",
       "    <tr>\n",
       "      <th>10708</th>\n",
       "      <td>0.568584</td>\n",
       "      <td>35</td>\n",
       "      <td>TOTHHEMP</td>\n",
       "      <td>2042</td>\n",
       "    </tr>\n",
       "    <tr>\n",
       "      <th>10709</th>\n",
       "      <td>0.568584</td>\n",
       "      <td>35</td>\n",
       "      <td>TOTHHEMP</td>\n",
       "      <td>2050</td>\n",
       "    </tr>\n",
       "  </tbody>\n",
       "</table>\n",
       "</div>"
      ],
      "text/plain": [
       "       taz_ratio  CO_FIPS parameter  se_year_F\n",
       "3333    0.568584       35    TOTEMP       2032\n",
       "3334    0.568584       35    TOTEMP       2042\n",
       "3335    0.568584       35    TOTEMP       2050\n",
       "7020    1.000000       35     TOTHH       2032\n",
       "7021    1.000000       35     TOTHH       2042\n",
       "7022    1.000000       35     TOTHH       2050\n",
       "10707   0.568584       35  TOTHHEMP       2032\n",
       "10708   0.568584       35  TOTHHEMP       2042\n",
       "10709   0.568584       35  TOTHHEMP       2050"
      ]
     },
     "execution_count": 277,
     "metadata": {},
     "output_type": "execute_result"
    }
   ],
   "source": [
    "gdf_se_calcs2[(gdf_se_calcs2['TAZID']==1472)][['taz_ratio','CO_FIPS','parameter','se_year_F']]"
   ]
  },
  {
   "cell_type": "markdown",
   "metadata": {},
   "source": [
    "# Create HTML table"
   ]
  },
  {
   "cell_type": "code",
   "execution_count": 278,
   "metadata": {},
   "outputs": [
    {
     "data": {
      "text/html": [
       "<div>\n",
       "<style scoped>\n",
       "    .dataframe tbody tr th:only-of-type {\n",
       "        vertical-align: middle;\n",
       "    }\n",
       "\n",
       "    .dataframe tbody tr th {\n",
       "        vertical-align: top;\n",
       "    }\n",
       "\n",
       "    .dataframe thead th {\n",
       "        text-align: right;\n",
       "    }\n",
       "</style>\n",
       "<table border=\"1\" class=\"dataframe\">\n",
       "  <thead>\n",
       "    <tr style=\"text-align: right;\">\n",
       "      <th></th>\n",
       "      <th>AreaName</th>\n",
       "      <th>CO_FIPS</th>\n",
       "      <th>parameter</th>\n",
       "      <th>TAZID</th>\n",
       "      <th>TAZACRES</th>\n",
       "      <th>sqm</th>\n",
       "      <th>acres</th>\n",
       "      <th>pctu_ch</th>\n",
       "      <th>taz_ratio</th>\n",
       "      <th>perac_ch</th>\n",
       "      <th>...</th>\n",
       "      <th>multiplier</th>\n",
       "      <th>s_ch</th>\n",
       "      <th>s_tot</th>\n",
       "      <th>s_diff</th>\n",
       "      <th>s_grow</th>\n",
       "      <th>b_tot_den</th>\n",
       "      <th>f_tot_den</th>\n",
       "      <th>s_tot_den</th>\n",
       "      <th>s_grow_den</th>\n",
       "      <th>s_diff_den</th>\n",
       "    </tr>\n",
       "  </thead>\n",
       "  <tbody>\n",
       "    <tr>\n",
       "      <th>0</th>\n",
       "      <td>1100 South Center</td>\n",
       "      <td>3</td>\n",
       "      <td>TOTEMP</td>\n",
       "      <td>345</td>\n",
       "      <td>643.884901</td>\n",
       "      <td>810781.422403</td>\n",
       "      <td>200.348453</td>\n",
       "      <td>0.000000</td>\n",
       "      <td>0.000000</td>\n",
       "      <td>40.0</td>\n",
       "      <td>...</td>\n",
       "      <td>4.0</td>\n",
       "      <td>0.000000</td>\n",
       "      <td>0.000000</td>\n",
       "      <td>0.000000</td>\n",
       "      <td>0.000000</td>\n",
       "      <td>0.000000</td>\n",
       "      <td>0.000000</td>\n",
       "      <td>0.000000</td>\n",
       "      <td>0.000000</td>\n",
       "      <td>0.000000</td>\n",
       "    </tr>\n",
       "    <tr>\n",
       "      <th>1</th>\n",
       "      <td>1100 South Center</td>\n",
       "      <td>3</td>\n",
       "      <td>TOTHH</td>\n",
       "      <td>345</td>\n",
       "      <td>643.884901</td>\n",
       "      <td>810781.422403</td>\n",
       "      <td>200.348453</td>\n",
       "      <td>0.000000</td>\n",
       "      <td>0.000000</td>\n",
       "      <td>32.0</td>\n",
       "      <td>...</td>\n",
       "      <td>4.0</td>\n",
       "      <td>0.000000</td>\n",
       "      <td>0.000000</td>\n",
       "      <td>0.000000</td>\n",
       "      <td>0.000000</td>\n",
       "      <td>0.000000</td>\n",
       "      <td>0.000000</td>\n",
       "      <td>0.000000</td>\n",
       "      <td>0.000000</td>\n",
       "      <td>0.000000</td>\n",
       "    </tr>\n",
       "    <tr>\n",
       "      <th>2</th>\n",
       "      <td>1100 South Center</td>\n",
       "      <td>3</td>\n",
       "      <td>TOTHHEMP</td>\n",
       "      <td>345</td>\n",
       "      <td>643.884901</td>\n",
       "      <td>810781.422403</td>\n",
       "      <td>200.348453</td>\n",
       "      <td>0.000000</td>\n",
       "      <td>0.000000</td>\n",
       "      <td>97.6</td>\n",
       "      <td>...</td>\n",
       "      <td>11.2</td>\n",
       "      <td>0.000000</td>\n",
       "      <td>0.000000</td>\n",
       "      <td>0.000000</td>\n",
       "      <td>0.000000</td>\n",
       "      <td>0.000000</td>\n",
       "      <td>0.000000</td>\n",
       "      <td>0.000000</td>\n",
       "      <td>0.000000</td>\n",
       "      <td>0.000000</td>\n",
       "    </tr>\n",
       "    <tr>\n",
       "      <th>3</th>\n",
       "      <td>12600 South Mountain View Corridor</td>\n",
       "      <td>35</td>\n",
       "      <td>TOTEMP</td>\n",
       "      <td>6082</td>\n",
       "      <td>441.323984</td>\n",
       "      <td>705606.400990</td>\n",
       "      <td>174.359139</td>\n",
       "      <td>1.825877</td>\n",
       "      <td>2.531376</td>\n",
       "      <td>24.0</td>\n",
       "      <td>...</td>\n",
       "      <td>3.6</td>\n",
       "      <td>666.898286</td>\n",
       "      <td>1980.003740</td>\n",
       "      <td>-577.434444</td>\n",
       "      <td>1510.644170</td>\n",
       "      <td>12.914915</td>\n",
       "      <td>44.680813</td>\n",
       "      <td>30.647315</td>\n",
       "      <td>17.732401</td>\n",
       "      <td>-14.033498</td>\n",
       "    </tr>\n",
       "    <tr>\n",
       "      <th>4</th>\n",
       "      <td>12600 South Mountain View Corridor</td>\n",
       "      <td>35</td>\n",
       "      <td>TOTHH</td>\n",
       "      <td>6082</td>\n",
       "      <td>441.323984</td>\n",
       "      <td>705606.400990</td>\n",
       "      <td>174.359139</td>\n",
       "      <td>1.825877</td>\n",
       "      <td>1.359737</td>\n",
       "      <td>12.0</td>\n",
       "      <td>...</td>\n",
       "      <td>3.3</td>\n",
       "      <td>333.449143</td>\n",
       "      <td>403.612408</td>\n",
       "      <td>120.059709</td>\n",
       "      <td>208.074542</td>\n",
       "      <td>13.189079</td>\n",
       "      <td>15.065186</td>\n",
       "      <td>9.521487</td>\n",
       "      <td>-3.667593</td>\n",
       "      <td>-5.543700</td>\n",
       "    </tr>\n",
       "    <tr>\n",
       "      <th>...</th>\n",
       "      <td>...</td>\n",
       "      <td>...</td>\n",
       "      <td>...</td>\n",
       "      <td>...</td>\n",
       "      <td>...</td>\n",
       "      <td>...</td>\n",
       "      <td>...</td>\n",
       "      <td>...</td>\n",
       "      <td>...</td>\n",
       "      <td>...</td>\n",
       "      <td>...</td>\n",
       "      <td>...</td>\n",
       "      <td>...</td>\n",
       "      <td>...</td>\n",
       "      <td>...</td>\n",
       "      <td>...</td>\n",
       "      <td>...</td>\n",
       "      <td>...</td>\n",
       "      <td>...</td>\n",
       "      <td>...</td>\n",
       "      <td>...</td>\n",
       "    </tr>\n",
       "    <tr>\n",
       "      <th>571</th>\n",
       "      <td>Willard Main Street Center</td>\n",
       "      <td>3</td>\n",
       "      <td>TOTHH</td>\n",
       "      <td>251</td>\n",
       "      <td>260.024192</td>\n",
       "      <td>155013.577640</td>\n",
       "      <td>38.304689</td>\n",
       "      <td>0.000000</td>\n",
       "      <td>0.000000</td>\n",
       "      <td>8.0</td>\n",
       "      <td>...</td>\n",
       "      <td>2.0</td>\n",
       "      <td>0.000000</td>\n",
       "      <td>0.000000</td>\n",
       "      <td>0.000000</td>\n",
       "      <td>0.000000</td>\n",
       "      <td>0.000000</td>\n",
       "      <td>0.000000</td>\n",
       "      <td>0.000000</td>\n",
       "      <td>0.000000</td>\n",
       "      <td>0.000000</td>\n",
       "    </tr>\n",
       "    <tr>\n",
       "      <th>572</th>\n",
       "      <td>Willard Main Street Center</td>\n",
       "      <td>3</td>\n",
       "      <td>TOTHHEMP</td>\n",
       "      <td>251</td>\n",
       "      <td>260.024192</td>\n",
       "      <td>155013.577640</td>\n",
       "      <td>38.304689</td>\n",
       "      <td>0.000000</td>\n",
       "      <td>0.000000</td>\n",
       "      <td>28.4</td>\n",
       "      <td>...</td>\n",
       "      <td>5.6</td>\n",
       "      <td>0.000000</td>\n",
       "      <td>0.000000</td>\n",
       "      <td>0.000000</td>\n",
       "      <td>0.000000</td>\n",
       "      <td>0.000000</td>\n",
       "      <td>0.000000</td>\n",
       "      <td>0.000000</td>\n",
       "      <td>0.000000</td>\n",
       "      <td>0.000000</td>\n",
       "    </tr>\n",
       "    <tr>\n",
       "      <th>573</th>\n",
       "      <td>Woods Cross Station</td>\n",
       "      <td>11</td>\n",
       "      <td>TOTEMP</td>\n",
       "      <td>1727</td>\n",
       "      <td>330.586567</td>\n",
       "      <td>109440.762898</td>\n",
       "      <td>27.043401</td>\n",
       "      <td>0.807918</td>\n",
       "      <td>0.915260</td>\n",
       "      <td>14.0</td>\n",
       "      <td>...</td>\n",
       "      <td>2.0</td>\n",
       "      <td>152.941244</td>\n",
       "      <td>304.162885</td>\n",
       "      <td>-483.113502</td>\n",
       "      <td>-460.537082</td>\n",
       "      <td>28.276898</td>\n",
       "      <td>29.111724</td>\n",
       "      <td>11.247265</td>\n",
       "      <td>-17.029633</td>\n",
       "      <td>-17.864459</td>\n",
       "    </tr>\n",
       "    <tr>\n",
       "      <th>574</th>\n",
       "      <td>Woods Cross Station</td>\n",
       "      <td>11</td>\n",
       "      <td>TOTHH</td>\n",
       "      <td>1727</td>\n",
       "      <td>330.586567</td>\n",
       "      <td>109440.762898</td>\n",
       "      <td>27.043401</td>\n",
       "      <td>0.807918</td>\n",
       "      <td>0.160314</td>\n",
       "      <td>8.0</td>\n",
       "      <td>...</td>\n",
       "      <td>2.0</td>\n",
       "      <td>87.394997</td>\n",
       "      <td>103.402444</td>\n",
       "      <td>20.065925</td>\n",
       "      <td>43.605352</td>\n",
       "      <td>2.211163</td>\n",
       "      <td>3.081598</td>\n",
       "      <td>3.823592</td>\n",
       "      <td>1.612429</td>\n",
       "      <td>0.741993</td>\n",
       "    </tr>\n",
       "    <tr>\n",
       "      <th>575</th>\n",
       "      <td>Woods Cross Station</td>\n",
       "      <td>11</td>\n",
       "      <td>TOTHHEMP</td>\n",
       "      <td>1727</td>\n",
       "      <td>330.586567</td>\n",
       "      <td>109440.762898</td>\n",
       "      <td>27.043401</td>\n",
       "      <td>0.807918</td>\n",
       "      <td>0.915260</td>\n",
       "      <td>28.4</td>\n",
       "      <td>...</td>\n",
       "      <td>5.6</td>\n",
       "      <td>310.252239</td>\n",
       "      <td>490.287284</td>\n",
       "      <td>-446.994837</td>\n",
       "      <td>-382.047448</td>\n",
       "      <td>32.256991</td>\n",
       "      <td>34.658601</td>\n",
       "      <td>18.129729</td>\n",
       "      <td>-14.127262</td>\n",
       "      <td>-16.528871</td>\n",
       "    </tr>\n",
       "  </tbody>\n",
       "</table>\n",
       "<p>576 rows × 30 columns</p>\n",
       "</div>"
      ],
      "text/plain": [
       "                               AreaName  CO_FIPS parameter  TAZID    TAZACRES  \\\n",
       "0                     1100 South Center        3    TOTEMP    345  643.884901   \n",
       "1                     1100 South Center        3     TOTHH    345  643.884901   \n",
       "2                     1100 South Center        3  TOTHHEMP    345  643.884901   \n",
       "3    12600 South Mountain View Corridor       35    TOTEMP   6082  441.323984   \n",
       "4    12600 South Mountain View Corridor       35     TOTHH   6082  441.323984   \n",
       "..                                  ...      ...       ...    ...         ...   \n",
       "571          Willard Main Street Center        3     TOTHH    251  260.024192   \n",
       "572          Willard Main Street Center        3  TOTHHEMP    251  260.024192   \n",
       "573                 Woods Cross Station       11    TOTEMP   1727  330.586567   \n",
       "574                 Woods Cross Station       11     TOTHH   1727  330.586567   \n",
       "575                 Woods Cross Station       11  TOTHHEMP   1727  330.586567   \n",
       "\n",
       "               sqm       acres   pctu_ch  taz_ratio  perac_ch  ...  \\\n",
       "0    810781.422403  200.348453  0.000000   0.000000      40.0  ...   \n",
       "1    810781.422403  200.348453  0.000000   0.000000      32.0  ...   \n",
       "2    810781.422403  200.348453  0.000000   0.000000      97.6  ...   \n",
       "3    705606.400990  174.359139  1.825877   2.531376      24.0  ...   \n",
       "4    705606.400990  174.359139  1.825877   1.359737      12.0  ...   \n",
       "..             ...         ...       ...        ...       ...  ...   \n",
       "571  155013.577640   38.304689  0.000000   0.000000       8.0  ...   \n",
       "572  155013.577640   38.304689  0.000000   0.000000      28.4  ...   \n",
       "573  109440.762898   27.043401  0.807918   0.915260      14.0  ...   \n",
       "574  109440.762898   27.043401  0.807918   0.160314       8.0  ...   \n",
       "575  109440.762898   27.043401  0.807918   0.915260      28.4  ...   \n",
       "\n",
       "     multiplier        s_ch        s_tot      s_diff       s_grow  b_tot_den  \\\n",
       "0           4.0    0.000000     0.000000    0.000000     0.000000   0.000000   \n",
       "1           4.0    0.000000     0.000000    0.000000     0.000000   0.000000   \n",
       "2          11.2    0.000000     0.000000    0.000000     0.000000   0.000000   \n",
       "3           3.6  666.898286  1980.003740 -577.434444  1510.644170  12.914915   \n",
       "4           3.3  333.449143   403.612408  120.059709   208.074542  13.189079   \n",
       "..          ...         ...          ...         ...          ...        ...   \n",
       "571         2.0    0.000000     0.000000    0.000000     0.000000   0.000000   \n",
       "572         5.6    0.000000     0.000000    0.000000     0.000000   0.000000   \n",
       "573         2.0  152.941244   304.162885 -483.113502  -460.537082  28.276898   \n",
       "574         2.0   87.394997   103.402444   20.065925    43.605352   2.211163   \n",
       "575         5.6  310.252239   490.287284 -446.994837  -382.047448  32.256991   \n",
       "\n",
       "     f_tot_den  s_tot_den  s_grow_den  s_diff_den  \n",
       "0     0.000000   0.000000    0.000000    0.000000  \n",
       "1     0.000000   0.000000    0.000000    0.000000  \n",
       "2     0.000000   0.000000    0.000000    0.000000  \n",
       "3    44.680813  30.647315   17.732401  -14.033498  \n",
       "4    15.065186   9.521487   -3.667593   -5.543700  \n",
       "..         ...        ...         ...         ...  \n",
       "571   0.000000   0.000000    0.000000    0.000000  \n",
       "572   0.000000   0.000000    0.000000    0.000000  \n",
       "573  29.111724  11.247265  -17.029633  -17.864459  \n",
       "574   3.081598   3.823592    1.612429    0.741993  \n",
       "575  34.658601  18.129729  -14.127262  -16.528871  \n",
       "\n",
       "[576 rows x 30 columns]"
      ]
     },
     "execution_count": 278,
     "metadata": {},
     "output_type": "execute_result"
    }
   ],
   "source": [
    "df_grouped = gdf_se_calcs_to_map.groupby(['AreaName','CO_FIPS','parameter'], as_index=False).sum()\n",
    "df_grouped"
   ]
  },
  {
   "cell_type": "code",
   "execution_count": 279,
   "metadata": {},
   "outputs": [
    {
     "data": {
      "text/plain": [
       "'_site/summary_tables.html'"
      ]
     },
     "execution_count": 279,
     "metadata": {},
     "output_type": "execute_result"
    }
   ],
   "source": [
    "# summary table\n",
    "_df = gdf_se_calcs2[gdf_se_calcs2['se_year_F']==2050].copy()\n",
    "\n",
    "_df = _df[['AreaName','CO_FIPS','b_tot','f_tot','s_tot','parameter',]].copy()\n",
    "\n",
    "df_grouped = _df.groupby(['AreaName','CO_FIPS','parameter'], as_index=False).sum()\n",
    "\n",
    "# Replacing values in the 'parameter' column\n",
    "df_grouped['parameter'] = df_grouped['parameter'].replace({\n",
    "    'TOTHH': 'Households',\n",
    "    'TOTEMP': 'Employees',\n",
    "    'TOTHHEMP': 'HH+Emp Intensity'\n",
    "})\n",
    "\n",
    "df_grouped_cofips = _df.drop(columns=['AreaName']).groupby(['CO_FIPS','parameter'], as_index=False).sum()\n",
    "\n",
    "# Replacing values in the 'parameter' column\n",
    "df_grouped_cofips['parameter'] = df_grouped_cofips['parameter'].replace({\n",
    "    'TOTHH': 'Households',\n",
    "    'TOTEMP': 'Employees',\n",
    "    'TOTHHEMP': 'HH+Emp Intensity'\n",
    "})\n",
    "\n",
    "# Getting unique project_names\n",
    "AreaNames = sorted(df_grouped['AreaName'].unique())\n",
    "\n",
    "# Function to format numbers\n",
    "def format_numbers(value):\n",
    "    return \"{:,.0f}\".format(value)\n",
    "\n",
    "# Define the custom order for CO_FIPS\n",
    "custom_order = [3, 57, 11, 35, 49]\n",
    "\n",
    "# Set CO_FIPS as a categorical type with the specified custom order\n",
    "df_grouped_cofips['CO_FIPS'] = pd.Categorical(df_grouped_cofips['CO_FIPS'], categories=custom_order, ordered=True)\n",
    "\n",
    "# Sort the DataFrame by CO_FIPS in the specified order\n",
    "data_df = df_grouped_cofips.sort_values('CO_FIPS').copy()\n",
    "\n",
    "# Getting unique CO_FIPS in the custom order\n",
    "CoFips = [fip for fip in custom_order if fip in df_grouped_cofips['CO_FIPS'].unique()]\n",
    "\n",
    "html_output = \"\"\"\n",
    "<!DOCTYPE html>\n",
    "<html lang=\"en\">\n",
    "<head>\n",
    "    <meta charset=\"UTF-8\">\n",
    "    <meta name=\"viewport\" content=\"width=device-width, initial-scale=1.0\">\n",
    "    <title>Summary Tables</title>\n",
    "    <link rel=\"stylesheet\" href=\"https://js.arcgis.com/4.27/esri/themes/light/main.css\">\n",
    "    <link rel=\"stylesheet\" type=\"text/css\" href=\"https://js.arcgis.com/calcite-components/1.8.0/calcite.css\" />\n",
    "    <link href='https://fonts.googleapis.com/css?family=Roboto' rel='stylesheet'>\n",
    "    <link rel=\"stylesheet\" href=\"styles.css\">\n",
    "</head>\n",
    "<body>\n",
    "\"\"\"\n",
    "\n",
    "# Iterate over each AreaName and create a separate HTML table\n",
    "for CoFip in CoFips:\n",
    "    data_df = df_grouped_cofips[df_grouped_cofips['CO_FIPS'] == CoFip].copy()\n",
    "    \n",
    "    # Apply number formatting\n",
    "    data_df[['b_tot', 'f_tot', 's_tot']] = data_df[['b_tot', 'f_tot', 's_tot']].applymap(format_numbers)\n",
    "    \n",
    "    # Drop project_id and AreaName column for the table\n",
    "    data_df = data_df.drop(columns=['CO_FIPS'])\n",
    "    \n",
    "    # Convert to HTML\n",
    "    html_table = data_df.to_html(index=False, escape=False)\n",
    "\n",
    "    # Add CSS styling for right-aligning specific columns\n",
    "    html_table = html_table.replace(\n",
    "        '<tr>', '<tr style=\"text-align: right;\">'\n",
    "    )\n",
    "\n",
    "    # Add CSS styling for right-aligning specific columns\n",
    "    html_table = html_table.replace(\n",
    "        'parameter', ''\n",
    "    )\n",
    "\n",
    "    # Add CSS styling for right-aligning specific columns\n",
    "    html_table = html_table.replace(\n",
    "        'b_tot', 'Base'\n",
    "    )\n",
    "\n",
    "    # Add CSS styling for right-aligning specific columns\n",
    "    html_table = html_table.replace(\n",
    "        'f_tot', 'Forecast'\n",
    "    )\n",
    "\n",
    "    # Add CSS styling for right-aligning specific columns\n",
    "    html_table = html_table.replace(\n",
    "        's_tot', 'Scenario'\n",
    "    )\n",
    "\n",
    "    # Add CSS styling for right-aligning specific columns\n",
    "    html_table = html_table.replace(\n",
    "        'border=\"1\" class=\"dataframe\"', 'style=\"width:100%;\"'\n",
    "    )\n",
    "    \n",
    "    # Add h3 header for AreaName\n",
    "    html_output += f\"<h3>{_config.lookup_county(CoFip)}</h3>\\n{html_table}\"\n",
    "   \n",
    "\n",
    "# Iterate over each AreaName and create a separate HTML table\n",
    "for AreaName in AreaNames:\n",
    "    data_df = df_grouped[df_grouped['AreaName'] == AreaName].copy()\n",
    "    \n",
    "    # Apply number formatting\n",
    "    data_df[['b_tot', 'f_tot', 's_tot']] = data_df[['b_tot', 'f_tot', 's_tot']].applymap(format_numbers)\n",
    "    \n",
    "    # Drop project_id and AreaName column for the table\n",
    "    data_df = data_df.drop(columns=['CO_FIPS', 'AreaName'])\n",
    "    \n",
    "    # Convert to HTML\n",
    "    html_table = data_df.to_html(index=False, escape=False)\n",
    "\n",
    "    # Add CSS styling for right-aligning specific columns\n",
    "    html_table = html_table.replace(\n",
    "        '<tr>', '<tr style=\"text-align: right;\">'\n",
    "    )\n",
    "\n",
    "    # Add CSS styling for right-aligning specific columns\n",
    "    html_table = html_table.replace(\n",
    "        'parameter', ''\n",
    "    )\n",
    "\n",
    "    # Add CSS styling for right-aligning specific columns\n",
    "    html_table = html_table.replace(\n",
    "        'b_tot', 'Base'\n",
    "    )\n",
    "\n",
    "    # Add CSS styling for right-aligning specific columns\n",
    "    html_table = html_table.replace(\n",
    "        'f_tot', 'Forecast'\n",
    "    )\n",
    "\n",
    "    # Add CSS styling for right-aligning specific columns\n",
    "    html_table = html_table.replace(\n",
    "        's_tot', 'Scenario'\n",
    "    )\n",
    "\n",
    "    # Add CSS styling for right-aligning specific columns\n",
    "    html_table = html_table.replace(\n",
    "        'border=\"1\" class=\"dataframe\"', 'style=\"width:100%;\"'\n",
    "    )\n",
    "    \n",
    "    # Add h3 header for AreaName\n",
    "    html_output += f\"<h3>{AreaName}</h3>\\n{html_table}\"\n",
    "    \n",
    "html_output += \"</body></html>\"\n",
    "\n",
    "# Save the HTML file\n",
    "file_path = '_site/summary_tables.html'\n",
    "with open(file_path, 'w') as f:\n",
    "    f.write(html_output)\n",
    "\n",
    "file_path\n"
   ]
  },
  {
   "cell_type": "code",
   "execution_count": 280,
   "metadata": {},
   "outputs": [
    {
     "data": {
      "text/html": [
       "<div>\n",
       "<style scoped>\n",
       "    .dataframe tbody tr th:only-of-type {\n",
       "        vertical-align: middle;\n",
       "    }\n",
       "\n",
       "    .dataframe tbody tr th {\n",
       "        vertical-align: top;\n",
       "    }\n",
       "\n",
       "    .dataframe thead th {\n",
       "        text-align: right;\n",
       "    }\n",
       "</style>\n",
       "<table border=\"1\" class=\"dataframe\">\n",
       "  <thead>\n",
       "    <tr style=\"text-align: right;\">\n",
       "      <th></th>\n",
       "      <th>AreaName</th>\n",
       "      <th>CO_FIPS</th>\n",
       "      <th>parameter</th>\n",
       "      <th>b_tot</th>\n",
       "      <th>f_tot</th>\n",
       "      <th>s_tot</th>\n",
       "    </tr>\n",
       "  </thead>\n",
       "  <tbody>\n",
       "    <tr>\n",
       "      <th>0</th>\n",
       "      <td>1100 South Center</td>\n",
       "      <td>3</td>\n",
       "      <td>Employees</td>\n",
       "      <td>0.000000</td>\n",
       "      <td>0.000000</td>\n",
       "      <td>0.000000</td>\n",
       "    </tr>\n",
       "    <tr>\n",
       "      <th>1</th>\n",
       "      <td>1100 South Center</td>\n",
       "      <td>3</td>\n",
       "      <td>Households</td>\n",
       "      <td>0.000000</td>\n",
       "      <td>0.000000</td>\n",
       "      <td>0.000000</td>\n",
       "    </tr>\n",
       "    <tr>\n",
       "      <th>2</th>\n",
       "      <td>1100 South Center</td>\n",
       "      <td>3</td>\n",
       "      <td>HH+Emp Intensity</td>\n",
       "      <td>0.000000</td>\n",
       "      <td>0.000000</td>\n",
       "      <td>0.000000</td>\n",
       "    </tr>\n",
       "    <tr>\n",
       "      <th>3</th>\n",
       "      <td>12600 South Mountain View Corridor</td>\n",
       "      <td>35</td>\n",
       "      <td>Employees</td>\n",
       "      <td>469.359571</td>\n",
       "      <td>2557.438184</td>\n",
       "      <td>1980.003740</td>\n",
       "    </tr>\n",
       "    <tr>\n",
       "      <th>4</th>\n",
       "      <td>12600 South Mountain View Corridor</td>\n",
       "      <td>35</td>\n",
       "      <td>Households</td>\n",
       "      <td>195.537866</td>\n",
       "      <td>283.552699</td>\n",
       "      <td>403.612408</td>\n",
       "    </tr>\n",
       "    <tr>\n",
       "      <th>...</th>\n",
       "      <td>...</td>\n",
       "      <td>...</td>\n",
       "      <td>...</td>\n",
       "      <td>...</td>\n",
       "      <td>...</td>\n",
       "      <td>...</td>\n",
       "    </tr>\n",
       "    <tr>\n",
       "      <th>571</th>\n",
       "      <td>Willard Main Street Center</td>\n",
       "      <td>3</td>\n",
       "      <td>Households</td>\n",
       "      <td>0.000000</td>\n",
       "      <td>0.000000</td>\n",
       "      <td>0.000000</td>\n",
       "    </tr>\n",
       "    <tr>\n",
       "      <th>572</th>\n",
       "      <td>Willard Main Street Center</td>\n",
       "      <td>3</td>\n",
       "      <td>HH+Emp Intensity</td>\n",
       "      <td>0.000000</td>\n",
       "      <td>0.000000</td>\n",
       "      <td>0.000000</td>\n",
       "    </tr>\n",
       "    <tr>\n",
       "      <th>573</th>\n",
       "      <td>Woods Cross Station</td>\n",
       "      <td>11</td>\n",
       "      <td>Employees</td>\n",
       "      <td>764.699967</td>\n",
       "      <td>787.276387</td>\n",
       "      <td>304.162885</td>\n",
       "    </tr>\n",
       "    <tr>\n",
       "      <th>574</th>\n",
       "      <td>Woods Cross Station</td>\n",
       "      <td>11</td>\n",
       "      <td>Households</td>\n",
       "      <td>59.797092</td>\n",
       "      <td>83.336519</td>\n",
       "      <td>103.402444</td>\n",
       "    </tr>\n",
       "    <tr>\n",
       "      <th>575</th>\n",
       "      <td>Woods Cross Station</td>\n",
       "      <td>11</td>\n",
       "      <td>HH+Emp Intensity</td>\n",
       "      <td>872.334732</td>\n",
       "      <td>937.282121</td>\n",
       "      <td>490.287284</td>\n",
       "    </tr>\n",
       "  </tbody>\n",
       "</table>\n",
       "<p>576 rows × 6 columns</p>\n",
       "</div>"
      ],
      "text/plain": [
       "                               AreaName  CO_FIPS         parameter  \\\n",
       "0                     1100 South Center        3         Employees   \n",
       "1                     1100 South Center        3        Households   \n",
       "2                     1100 South Center        3  HH+Emp Intensity   \n",
       "3    12600 South Mountain View Corridor       35         Employees   \n",
       "4    12600 South Mountain View Corridor       35        Households   \n",
       "..                                  ...      ...               ...   \n",
       "571          Willard Main Street Center        3        Households   \n",
       "572          Willard Main Street Center        3  HH+Emp Intensity   \n",
       "573                 Woods Cross Station       11         Employees   \n",
       "574                 Woods Cross Station       11        Households   \n",
       "575                 Woods Cross Station       11  HH+Emp Intensity   \n",
       "\n",
       "          b_tot        f_tot        s_tot  \n",
       "0      0.000000     0.000000     0.000000  \n",
       "1      0.000000     0.000000     0.000000  \n",
       "2      0.000000     0.000000     0.000000  \n",
       "3    469.359571  2557.438184  1980.003740  \n",
       "4    195.537866   283.552699   403.612408  \n",
       "..          ...          ...          ...  \n",
       "571    0.000000     0.000000     0.000000  \n",
       "572    0.000000     0.000000     0.000000  \n",
       "573  764.699967   787.276387   304.162885  \n",
       "574   59.797092    83.336519   103.402444  \n",
       "575  872.334732   937.282121   490.287284  \n",
       "\n",
       "[576 rows x 6 columns]"
      ]
     },
     "execution_count": 280,
     "metadata": {},
     "output_type": "execute_result"
    }
   ],
   "source": [
    "df_grouped"
   ]
  },
  {
   "cell_type": "code",
   "execution_count": 281,
   "metadata": {},
   "outputs": [
    {
     "data": {
      "text/html": [
       "<div>\n",
       "<style scoped>\n",
       "    .dataframe tbody tr th:only-of-type {\n",
       "        vertical-align: middle;\n",
       "    }\n",
       "\n",
       "    .dataframe tbody tr th {\n",
       "        vertical-align: top;\n",
       "    }\n",
       "\n",
       "    .dataframe thead th {\n",
       "        text-align: right;\n",
       "    }\n",
       "</style>\n",
       "<table border=\"1\" class=\"dataframe\">\n",
       "  <thead>\n",
       "    <tr style=\"text-align: right;\">\n",
       "      <th></th>\n",
       "      <th>CO_FIPS</th>\n",
       "      <th>parameter</th>\n",
       "      <th>b_tot</th>\n",
       "      <th>f_tot</th>\n",
       "      <th>s_tot</th>\n",
       "    </tr>\n",
       "  </thead>\n",
       "  <tbody>\n",
       "    <tr>\n",
       "      <th>9</th>\n",
       "      <td>49</td>\n",
       "      <td>Employees</td>\n",
       "      <td>124067.063191</td>\n",
       "      <td>147296.688585</td>\n",
       "      <td>179271.531089</td>\n",
       "    </tr>\n",
       "    <tr>\n",
       "      <th>10</th>\n",
       "      <td>49</td>\n",
       "      <td>Households</td>\n",
       "      <td>20198.022915</td>\n",
       "      <td>32926.025307</td>\n",
       "      <td>76482.964796</td>\n",
       "    </tr>\n",
       "    <tr>\n",
       "      <th>11</th>\n",
       "      <td>49</td>\n",
       "      <td>HH+Emp Intensity</td>\n",
       "      <td>160423.504437</td>\n",
       "      <td>206563.534138</td>\n",
       "      <td>316940.867722</td>\n",
       "    </tr>\n",
       "  </tbody>\n",
       "</table>\n",
       "</div>"
      ],
      "text/plain": [
       "   CO_FIPS         parameter          b_tot          f_tot          s_tot\n",
       "9       49         Employees  124067.063191  147296.688585  179271.531089\n",
       "10      49        Households   20198.022915   32926.025307   76482.964796\n",
       "11      49  HH+Emp Intensity  160423.504437  206563.534138  316940.867722"
      ]
     },
     "execution_count": 281,
     "metadata": {},
     "output_type": "execute_result"
    }
   ],
   "source": [
    "data_df = df_grouped_cofips[df_grouped_cofips['CO_FIPS'] == CoFip].copy()\n",
    "data_df"
   ]
  },
  {
   "cell_type": "code",
   "execution_count": 282,
   "metadata": {},
   "outputs": [
    {
     "name": "stdout",
     "output_type": "stream",
     "text": [
      "Employee Growth in Centers Land Use Scenario\n"
     ]
    },
    {
     "data": {
      "text/html": [
       "\n",
       "<h3>Household Growth in Centers Land Use Scenario</h3>\n",
       "<table border=\"1\" class=\"dataframe\" style=\"text-align:right;\">\n",
       "  <thead>\n",
       "    <tr style=\"text-align: right;\">\n",
       "      <th>County</th>\n",
       "      <th>Centers Growth</th>\n",
       "      <th>County Growth</th>\n",
       "      <th>% of Growth in Centers</th>\n",
       "    </tr>\n",
       "  </thead>\n",
       "  <tbody>\n",
       "    <tr>\n",
       "      <td>Box Elder</td>\n",
       "      <td>0</td>\n",
       "      <td>7,575</td>\n",
       "      <td>0%</td>\n",
       "    </tr>\n",
       "    <tr>\n",
       "      <td>Weber</td>\n",
       "      <td>35,732</td>\n",
       "      <td>50,144</td>\n",
       "      <td>71%</td>\n",
       "    </tr>\n",
       "    <tr>\n",
       "      <td>Davis</td>\n",
       "      <td>35,198</td>\n",
       "      <td>78,946</td>\n",
       "      <td>45%</td>\n",
       "    </tr>\n",
       "    <tr>\n",
       "      <td>Salt Lake</td>\n",
       "      <td>125,641</td>\n",
       "      <td>204,650</td>\n",
       "      <td>61%</td>\n",
       "    </tr>\n",
       "    <tr>\n",
       "      <td>Utah</td>\n",
       "      <td>56,285</td>\n",
       "      <td>191,069</td>\n",
       "      <td>29%</td>\n",
       "    </tr>\n",
       "  </tbody>\n",
       "</table>\n"
      ],
      "text/plain": [
       "<IPython.core.display.HTML object>"
      ]
     },
     "metadata": {},
     "output_type": "display_data"
    },
    {
     "data": {
      "text/html": [
       "\n",
       "<h3>Employee Growth in Centers Land Use Scenario</h3>\n",
       "<table border=\"1\" class=\"dataframe\" style=\"text-align:right;\">\n",
       "  <thead>\n",
       "    <tr style=\"text-align: right;\">\n",
       "      <th>County</th>\n",
       "      <th>Centers Growth</th>\n",
       "      <th>County Growth</th>\n",
       "      <th>% of Growth in Centers</th>\n",
       "    </tr>\n",
       "  </thead>\n",
       "  <tbody>\n",
       "    <tr>\n",
       "      <td>Box Elder</td>\n",
       "      <td>0</td>\n",
       "      <td>2,981</td>\n",
       "      <td>0%</td>\n",
       "    </tr>\n",
       "    <tr>\n",
       "      <td>Weber</td>\n",
       "      <td>9,818</td>\n",
       "      <td>29,441</td>\n",
       "      <td>33%</td>\n",
       "    </tr>\n",
       "    <tr>\n",
       "      <td>Davis</td>\n",
       "      <td>34,169</td>\n",
       "      <td>55,588</td>\n",
       "      <td>61%</td>\n",
       "    </tr>\n",
       "    <tr>\n",
       "      <td>Salt Lake</td>\n",
       "      <td>190,725</td>\n",
       "      <td>291,216</td>\n",
       "      <td>65%</td>\n",
       "    </tr>\n",
       "    <tr>\n",
       "      <td>Utah</td>\n",
       "      <td>55,204</td>\n",
       "      <td>171,738</td>\n",
       "      <td>32%</td>\n",
       "    </tr>\n",
       "  </tbody>\n",
       "</table>\n"
      ],
      "text/plain": [
       "<IPython.core.display.HTML object>"
      ]
     },
     "metadata": {},
     "output_type": "display_data"
    }
   ],
   "source": [
    "\n",
    "from IPython.display import display, HTML\n",
    "\n",
    "\n",
    "remm_growth_df = pd.DataFrame([\n",
    "    [ 3,  'Employees',   2981],\n",
    "    [57,  'Employees',  29441],\n",
    "    [11,  'Employees',  55588],\n",
    "    [35,  'Employees', 291216],\n",
    "    [49,  'Employees', 171738],\n",
    "    [ 3, 'Households',   7575],\n",
    "    [57, 'Households',  50144],\n",
    "    [11, 'Households',  78946],\n",
    "    [35, 'Households', 204650],\n",
    "    [49, 'Households', 191069],\n",
    "], columns=(['CO_FIPS','parameter','remm_growth']))\n",
    "\n",
    "# Define the custom order for CO_FIPS\n",
    "custom_order = [3, 57, 11, 35, 49]\n",
    "\n",
    "# Set CO_FIPS as a categorical type with the specified custom order\n",
    "df_grouped_cofips['CO_FIPS'] = pd.Categorical(df_grouped_cofips['CO_FIPS'], categories=custom_order, ordered=True)\n",
    "\n",
    "# Sort the DataFrame by CO_FIPS in the specified order\n",
    "df_project = df_grouped_cofips.sort_values('CO_FIPS').copy()\n",
    "\n",
    "df_project['scenario_growth'] = df_project['s_tot'] - df_project['b_tot']\n",
    "\n",
    "df_project = df_project.merge(remm_growth_df, on=['CO_FIPS','parameter'])\n",
    "\n",
    "df_project['percent'] = df_project['scenario_growth'] / df_project['remm_growth'] * 100\n",
    "\n",
    "\n",
    "# Formatting columns\n",
    "df_project['county_name'] = df_project['CO_FIPS'].apply(lookup_county)\n",
    "\n",
    "#df_project['scenario_growth'] = df_project['scenario_growth'].round(0).apply(lambda x: f\"{int(x):,}\")\n",
    "#df_project['remm_growth'] = df_project['remm_growth'].round(0).apply(lambda x: f\"{int(x):,}\")\n",
    "#df_project['percent'] = df_project['percent'].apply(lambda x: f\"{x:.2f}\")\n",
    "\n",
    "df_project.rename(columns={'county_name':'County','scenario_growth':'Centers Growth','remm_growth':'County Growth','percent':\"% of Growth in Centers\"}, inplace=True)\n",
    "\n",
    "from IPython.display import display, Markdown\n",
    "\n",
    "\n",
    "# Display formatted DataFrame\n",
    "print('Employee Growth in Centers Land Use Scenario')\n",
    "\n",
    "## Select relevant data\n",
    "#df_filtered = df_project[df_project['parameter'] == 'Employees'][\n",
    "#    ['County', 'Centers Growth', 'County Growth', '% of Growth in Centers']\n",
    "#]\n",
    "\n",
    "## Format the table as Markdown with right-aligned numeric values\n",
    "#df_filtered_styled = df_filtered.style.set_properties(\n",
    "#    **{'text-align': 'right'}, subset=['Centers Growth', 'County Growth', '% of Growth in Centers']\n",
    "#)\n",
    "\n",
    "#display(Markdown(df_filtered_styled.to_markdown(index=False)))\n",
    "\n",
    "# Filter the DataFrame\n",
    "df_filtered = df_project[df_project['parameter'] == 'Households'][\n",
    "    ['County', 'Centers Growth', 'County Growth', '% of Growth in Centers']\n",
    "]\n",
    "\n",
    "# Format numeric columns\n",
    "df_filtered['Centers Growth'] = df_filtered['Centers Growth'].apply(lambda x: f\"{x:,.0f}\")\n",
    "df_filtered['County Growth'] = df_filtered['County Growth'].apply(lambda x: f\"{x:,.0f}\")\n",
    "df_filtered['% of Growth in Centers'] = df_filtered['% of Growth in Centers'].apply(lambda x: f\"{x:.0f}%\")\n",
    "\n",
    "# Convert the DataFrame to HTML with styling for right alignment\n",
    "html_table = df_filtered.to_html(index=False, justify='right', escape=False)\n",
    "\n",
    "# Add inline CSS to right-align numeric columns\n",
    "html_table = html_table.replace('<table border=\"1\" class=\"dataframe\">', \n",
    "                                '<table border=\"1\" class=\"dataframe\" style=\"text-align:right;\">')\n",
    "\n",
    "# Display the HTML table\n",
    "display(HTML(f\"\"\"\n",
    "<h3>Household Growth in Centers Land Use Scenario</h3>\n",
    "{html_table}\n",
    "\"\"\"))\n",
    "\n",
    "from IPython.display import display, HTML\n",
    "\n",
    "# Filter the DataFrame\n",
    "df_filtered = df_project[df_project['parameter'] == 'Employees'][\n",
    "    ['County', 'Centers Growth', 'County Growth', '% of Growth in Centers']\n",
    "]\n",
    "\n",
    "# Format numeric columns\n",
    "df_filtered['Centers Growth'] = df_filtered['Centers Growth'].apply(lambda x: f\"{x:,.0f}\")\n",
    "df_filtered['County Growth'] = df_filtered['County Growth'].apply(lambda x: f\"{x:,.0f}\")\n",
    "df_filtered['% of Growth in Centers'] = df_filtered['% of Growth in Centers'].apply(lambda x: f\"{x:.0f}%\")\n",
    "\n",
    "# Convert the DataFrame to HTML with styling for right alignment\n",
    "html_table = df_filtered.to_html(index=False, justify='right', escape=False)\n",
    "\n",
    "# Add inline CSS to right-align numeric columns\n",
    "html_table = html_table.replace('<table border=\"1\" class=\"dataframe\">', \n",
    "                                '<table border=\"1\" class=\"dataframe\" style=\"text-align:right;\">')\n",
    "\n",
    "# Display the HTML table\n",
    "display(HTML(f\"\"\"\n",
    "<h3>Employee Growth in Centers Land Use Scenario</h3>\n",
    "{html_table}\n",
    "\"\"\"))\n"
   ]
  },
  {
   "cell_type": "code",
   "execution_count": 283,
   "metadata": {},
   "outputs": [],
   "source": [
    "gdf_se_calcs2.to_file('intermediate/se_calcs2.geojson', format='GeoJSON')\n",
    "df_se_data.to_csv('intermediate/se_data.csv', index=False)"
   ]
  },
  {
   "cell_type": "code",
   "execution_count": 284,
   "metadata": {},
   "outputs": [
    {
     "data": {
      "text/html": [
       "<div>\n",
       "<style scoped>\n",
       "    .dataframe tbody tr th:only-of-type {\n",
       "        vertical-align: middle;\n",
       "    }\n",
       "\n",
       "    .dataframe tbody tr th {\n",
       "        vertical-align: top;\n",
       "    }\n",
       "\n",
       "    .dataframe thead th {\n",
       "        text-align: right;\n",
       "    }\n",
       "</style>\n",
       "<table border=\"1\" class=\"dataframe\">\n",
       "  <thead>\n",
       "    <tr style=\"text-align: right;\">\n",
       "      <th></th>\n",
       "      <th></th>\n",
       "      <th>s_tot</th>\n",
       "      <th>s_ch</th>\n",
       "    </tr>\n",
       "    <tr>\n",
       "      <th>parameter</th>\n",
       "      <th>se_year_F</th>\n",
       "      <th></th>\n",
       "      <th></th>\n",
       "    </tr>\n",
       "  </thead>\n",
       "  <tbody>\n",
       "    <tr>\n",
       "      <th rowspan=\"3\" valign=\"top\">TOTEMP</th>\n",
       "      <th>2032</th>\n",
       "      <td>9.324448e+05</td>\n",
       "      <td>7.438685e+05</td>\n",
       "    </tr>\n",
       "    <tr>\n",
       "      <th>2042</th>\n",
       "      <td>9.495502e+05</td>\n",
       "      <td>7.438685e+05</td>\n",
       "    </tr>\n",
       "    <tr>\n",
       "      <th>2050</th>\n",
       "      <td>9.625640e+05</td>\n",
       "      <td>7.438685e+05</td>\n",
       "    </tr>\n",
       "    <tr>\n",
       "      <th rowspan=\"3\" valign=\"top\">TOTHH</th>\n",
       "      <th>2032</th>\n",
       "      <td>3.546363e+05</td>\n",
       "      <td>3.115447e+05</td>\n",
       "    </tr>\n",
       "    <tr>\n",
       "      <th>2042</th>\n",
       "      <td>3.653405e+05</td>\n",
       "      <td>3.115447e+05</td>\n",
       "    </tr>\n",
       "    <tr>\n",
       "      <th>2050</th>\n",
       "      <td>3.716746e+05</td>\n",
       "      <td>3.115447e+05</td>\n",
       "    </tr>\n",
       "    <tr>\n",
       "      <th rowspan=\"3\" valign=\"top\">TOTHHEMP</th>\n",
       "      <th>2032</th>\n",
       "      <td>1.570790e+06</td>\n",
       "      <td>1.304649e+06</td>\n",
       "    </tr>\n",
       "    <tr>\n",
       "      <th>2042</th>\n",
       "      <td>1.607163e+06</td>\n",
       "      <td>1.304649e+06</td>\n",
       "    </tr>\n",
       "    <tr>\n",
       "      <th>2050</th>\n",
       "      <td>1.631578e+06</td>\n",
       "      <td>1.304649e+06</td>\n",
       "    </tr>\n",
       "  </tbody>\n",
       "</table>\n",
       "</div>"
      ],
      "text/plain": [
       "                            s_tot          s_ch\n",
       "parameter se_year_F                            \n",
       "TOTEMP    2032       9.324448e+05  7.438685e+05\n",
       "          2042       9.495502e+05  7.438685e+05\n",
       "          2050       9.625640e+05  7.438685e+05\n",
       "TOTHH     2032       3.546363e+05  3.115447e+05\n",
       "          2042       3.653405e+05  3.115447e+05\n",
       "          2050       3.716746e+05  3.115447e+05\n",
       "TOTHHEMP  2032       1.570790e+06  1.304649e+06\n",
       "          2042       1.607163e+06  1.304649e+06\n",
       "          2050       1.631578e+06  1.304649e+06"
      ]
     },
     "execution_count": 284,
     "metadata": {},
     "output_type": "execute_result"
    }
   ],
   "source": [
    "gdf_se_calcs2[['parameter','se_year_F','s_tot','s_ch']].groupby(['parameter','se_year_F']).sum()"
   ]
  },
  {
   "cell_type": "code",
   "execution_count": 285,
   "metadata": {},
   "outputs": [
    {
     "data": {
      "application/vnd.plotly.v1+json": {
       "config": {
        "plotlyServerURL": "https://plot.ly"
       },
       "data": [
        {
         "alignmentgroup": "True",
         "hovertemplate": "parameter_label=Employees<br>county_name=Weber<br>=%{x}<br>Multiplier=%{text}<extra></extra>",
         "legendgroup": "Employees",
         "marker": {
          "color": "#636efa",
          "pattern": {
           "shape": ""
          }
         },
         "name": "Employees",
         "offsetgroup": "Employees",
         "orientation": "v",
         "showlegend": true,
         "text": [
          0.8,
          0.8,
          0.8,
          0.8
         ],
         "textposition": "outside",
         "texttemplate": "%{text:.2f}",
         "type": "bar",
         "x": [
          "Neighborhood Center",
          "City Center",
          "Urban Center",
          "Metropolitan Center"
         ],
         "xaxis": "x",
         "y": [
          0.8,
          0.8,
          0.8,
          0.8
         ],
         "yaxis": "y"
        },
        {
         "alignmentgroup": "True",
         "hovertemplate": "parameter_label=Employees<br>county_name=Salt Lake<br>=%{x}<br>Multiplier=%{text}<extra></extra>",
         "legendgroup": "Employees",
         "marker": {
          "color": "#636efa",
          "pattern": {
           "shape": ""
          }
         },
         "name": "Employees",
         "offsetgroup": "Employees",
         "orientation": "v",
         "showlegend": false,
         "text": [
          1.2,
          1.35,
          1.65,
          2
         ],
         "textposition": "outside",
         "texttemplate": "%{text:.2f}",
         "type": "bar",
         "x": [
          "Neighborhood Center",
          "City Center",
          "Urban Center",
          "Metropolitan Center"
         ],
         "xaxis": "x2",
         "y": [
          1.2,
          1.35,
          1.65,
          2
         ],
         "yaxis": "y2"
        },
        {
         "alignmentgroup": "True",
         "hovertemplate": "parameter_label=Employees<br>county_name=Utah<br>=%{x}<br>Multiplier=%{text}<extra></extra>",
         "legendgroup": "Employees",
         "marker": {
          "color": "#636efa",
          "pattern": {
           "shape": ""
          }
         },
         "name": "Employees",
         "offsetgroup": "Employees",
         "orientation": "v",
         "showlegend": false,
         "text": [
          1.1,
          1.25,
          1.5,
          1.65
         ],
         "textposition": "outside",
         "texttemplate": "%{text:.2f}",
         "type": "bar",
         "x": [
          "Neighborhood Center",
          "City Center",
          "Urban Center",
          "Metropolitan Center"
         ],
         "xaxis": "x3",
         "y": [
          1.1,
          1.25,
          1.5,
          1.65
         ],
         "yaxis": "y3"
        },
        {
         "alignmentgroup": "True",
         "hovertemplate": "parameter_label=Households<br>county_name=Salt Lake<br>=%{x}<br>Multiplier=%{text}<extra></extra>",
         "legendgroup": "Households",
         "marker": {
          "color": "#EF553B",
          "pattern": {
           "shape": ""
          }
         },
         "name": "Households",
         "offsetgroup": "Households",
         "orientation": "v",
         "showlegend": true,
         "text": [
          1.1,
          1.25,
          1.35,
          1.5
         ],
         "textposition": "outside",
         "texttemplate": "%{text:.2f}",
         "type": "bar",
         "x": [
          "Neighborhood Center",
          "City Center",
          "Urban Center",
          "Metropolitan Center"
         ],
         "xaxis": "x2",
         "y": [
          1.1,
          1.25,
          1.35,
          1.5
         ],
         "yaxis": "y2"
        },
        {
         "alignmentgroup": "True",
         "hovertemplate": "parameter_label=Households<br>county_name=Utah<br>=%{x}<br>Multiplier=%{text}<extra></extra>",
         "legendgroup": "Households",
         "marker": {
          "color": "#EF553B",
          "pattern": {
           "shape": ""
          }
         },
         "name": "Households",
         "offsetgroup": "Households",
         "orientation": "v",
         "showlegend": false,
         "text": [
          1.1,
          1.25,
          1.35,
          1.5
         ],
         "textposition": "outside",
         "texttemplate": "%{text:.2f}",
         "type": "bar",
         "x": [
          "Neighborhood Center",
          "City Center",
          "Urban Center",
          "Metropolitan Center"
         ],
         "xaxis": "x3",
         "y": [
          1.1,
          1.25,
          1.35,
          1.5
         ],
         "yaxis": "y3"
        }
       ],
       "layout": {
        "annotations": [
         {
          "font": {},
          "showarrow": false,
          "text": "Weber County",
          "x": 0.15999999999999998,
          "xanchor": "center",
          "xref": "paper",
          "y": 1,
          "yanchor": "bottom",
          "yref": "paper"
         },
         {
          "font": {},
          "showarrow": false,
          "text": "Salt Lake County",
          "x": 0.49999999999999994,
          "xanchor": "center",
          "xref": "paper",
          "y": 1,
          "yanchor": "bottom",
          "yref": "paper"
         },
         {
          "font": {},
          "showarrow": false,
          "text": "Utah County",
          "x": 0.8399999999999999,
          "xanchor": "center",
          "xref": "paper",
          "y": 1,
          "yanchor": "bottom",
          "yref": "paper"
         }
        ],
        "barmode": "group",
        "legend": {
         "title": {
          "text": "Parameter"
         },
         "tracegroupgap": 0
        },
        "margin": {
         "b": 50,
         "l": 50,
         "r": 50,
         "t": 50
        },
        "template": {
         "data": {
          "bar": [
           {
            "error_x": {
             "color": "#2a3f5f"
            },
            "error_y": {
             "color": "#2a3f5f"
            },
            "marker": {
             "line": {
              "color": "#E5ECF6",
              "width": 0.5
             },
             "pattern": {
              "fillmode": "overlay",
              "size": 10,
              "solidity": 0.2
             }
            },
            "type": "bar"
           }
          ],
          "barpolar": [
           {
            "marker": {
             "line": {
              "color": "#E5ECF6",
              "width": 0.5
             },
             "pattern": {
              "fillmode": "overlay",
              "size": 10,
              "solidity": 0.2
             }
            },
            "type": "barpolar"
           }
          ],
          "carpet": [
           {
            "aaxis": {
             "endlinecolor": "#2a3f5f",
             "gridcolor": "white",
             "linecolor": "white",
             "minorgridcolor": "white",
             "startlinecolor": "#2a3f5f"
            },
            "baxis": {
             "endlinecolor": "#2a3f5f",
             "gridcolor": "white",
             "linecolor": "white",
             "minorgridcolor": "white",
             "startlinecolor": "#2a3f5f"
            },
            "type": "carpet"
           }
          ],
          "choropleth": [
           {
            "colorbar": {
             "outlinewidth": 0,
             "ticks": ""
            },
            "type": "choropleth"
           }
          ],
          "contour": [
           {
            "colorbar": {
             "outlinewidth": 0,
             "ticks": ""
            },
            "colorscale": [
             [
              0,
              "#0d0887"
             ],
             [
              0.1111111111111111,
              "#46039f"
             ],
             [
              0.2222222222222222,
              "#7201a8"
             ],
             [
              0.3333333333333333,
              "#9c179e"
             ],
             [
              0.4444444444444444,
              "#bd3786"
             ],
             [
              0.5555555555555556,
              "#d8576b"
             ],
             [
              0.6666666666666666,
              "#ed7953"
             ],
             [
              0.7777777777777778,
              "#fb9f3a"
             ],
             [
              0.8888888888888888,
              "#fdca26"
             ],
             [
              1,
              "#f0f921"
             ]
            ],
            "type": "contour"
           }
          ],
          "contourcarpet": [
           {
            "colorbar": {
             "outlinewidth": 0,
             "ticks": ""
            },
            "type": "contourcarpet"
           }
          ],
          "heatmap": [
           {
            "colorbar": {
             "outlinewidth": 0,
             "ticks": ""
            },
            "colorscale": [
             [
              0,
              "#0d0887"
             ],
             [
              0.1111111111111111,
              "#46039f"
             ],
             [
              0.2222222222222222,
              "#7201a8"
             ],
             [
              0.3333333333333333,
              "#9c179e"
             ],
             [
              0.4444444444444444,
              "#bd3786"
             ],
             [
              0.5555555555555556,
              "#d8576b"
             ],
             [
              0.6666666666666666,
              "#ed7953"
             ],
             [
              0.7777777777777778,
              "#fb9f3a"
             ],
             [
              0.8888888888888888,
              "#fdca26"
             ],
             [
              1,
              "#f0f921"
             ]
            ],
            "type": "heatmap"
           }
          ],
          "heatmapgl": [
           {
            "colorbar": {
             "outlinewidth": 0,
             "ticks": ""
            },
            "colorscale": [
             [
              0,
              "#0d0887"
             ],
             [
              0.1111111111111111,
              "#46039f"
             ],
             [
              0.2222222222222222,
              "#7201a8"
             ],
             [
              0.3333333333333333,
              "#9c179e"
             ],
             [
              0.4444444444444444,
              "#bd3786"
             ],
             [
              0.5555555555555556,
              "#d8576b"
             ],
             [
              0.6666666666666666,
              "#ed7953"
             ],
             [
              0.7777777777777778,
              "#fb9f3a"
             ],
             [
              0.8888888888888888,
              "#fdca26"
             ],
             [
              1,
              "#f0f921"
             ]
            ],
            "type": "heatmapgl"
           }
          ],
          "histogram": [
           {
            "marker": {
             "pattern": {
              "fillmode": "overlay",
              "size": 10,
              "solidity": 0.2
             }
            },
            "type": "histogram"
           }
          ],
          "histogram2d": [
           {
            "colorbar": {
             "outlinewidth": 0,
             "ticks": ""
            },
            "colorscale": [
             [
              0,
              "#0d0887"
             ],
             [
              0.1111111111111111,
              "#46039f"
             ],
             [
              0.2222222222222222,
              "#7201a8"
             ],
             [
              0.3333333333333333,
              "#9c179e"
             ],
             [
              0.4444444444444444,
              "#bd3786"
             ],
             [
              0.5555555555555556,
              "#d8576b"
             ],
             [
              0.6666666666666666,
              "#ed7953"
             ],
             [
              0.7777777777777778,
              "#fb9f3a"
             ],
             [
              0.8888888888888888,
              "#fdca26"
             ],
             [
              1,
              "#f0f921"
             ]
            ],
            "type": "histogram2d"
           }
          ],
          "histogram2dcontour": [
           {
            "colorbar": {
             "outlinewidth": 0,
             "ticks": ""
            },
            "colorscale": [
             [
              0,
              "#0d0887"
             ],
             [
              0.1111111111111111,
              "#46039f"
             ],
             [
              0.2222222222222222,
              "#7201a8"
             ],
             [
              0.3333333333333333,
              "#9c179e"
             ],
             [
              0.4444444444444444,
              "#bd3786"
             ],
             [
              0.5555555555555556,
              "#d8576b"
             ],
             [
              0.6666666666666666,
              "#ed7953"
             ],
             [
              0.7777777777777778,
              "#fb9f3a"
             ],
             [
              0.8888888888888888,
              "#fdca26"
             ],
             [
              1,
              "#f0f921"
             ]
            ],
            "type": "histogram2dcontour"
           }
          ],
          "mesh3d": [
           {
            "colorbar": {
             "outlinewidth": 0,
             "ticks": ""
            },
            "type": "mesh3d"
           }
          ],
          "parcoords": [
           {
            "line": {
             "colorbar": {
              "outlinewidth": 0,
              "ticks": ""
             }
            },
            "type": "parcoords"
           }
          ],
          "pie": [
           {
            "automargin": true,
            "type": "pie"
           }
          ],
          "scatter": [
           {
            "fillpattern": {
             "fillmode": "overlay",
             "size": 10,
             "solidity": 0.2
            },
            "type": "scatter"
           }
          ],
          "scatter3d": [
           {
            "line": {
             "colorbar": {
              "outlinewidth": 0,
              "ticks": ""
             }
            },
            "marker": {
             "colorbar": {
              "outlinewidth": 0,
              "ticks": ""
             }
            },
            "type": "scatter3d"
           }
          ],
          "scattercarpet": [
           {
            "marker": {
             "colorbar": {
              "outlinewidth": 0,
              "ticks": ""
             }
            },
            "type": "scattercarpet"
           }
          ],
          "scattergeo": [
           {
            "marker": {
             "colorbar": {
              "outlinewidth": 0,
              "ticks": ""
             }
            },
            "type": "scattergeo"
           }
          ],
          "scattergl": [
           {
            "marker": {
             "colorbar": {
              "outlinewidth": 0,
              "ticks": ""
             }
            },
            "type": "scattergl"
           }
          ],
          "scattermapbox": [
           {
            "marker": {
             "colorbar": {
              "outlinewidth": 0,
              "ticks": ""
             }
            },
            "type": "scattermapbox"
           }
          ],
          "scatterpolar": [
           {
            "marker": {
             "colorbar": {
              "outlinewidth": 0,
              "ticks": ""
             }
            },
            "type": "scatterpolar"
           }
          ],
          "scatterpolargl": [
           {
            "marker": {
             "colorbar": {
              "outlinewidth": 0,
              "ticks": ""
             }
            },
            "type": "scatterpolargl"
           }
          ],
          "scatterternary": [
           {
            "marker": {
             "colorbar": {
              "outlinewidth": 0,
              "ticks": ""
             }
            },
            "type": "scatterternary"
           }
          ],
          "surface": [
           {
            "colorbar": {
             "outlinewidth": 0,
             "ticks": ""
            },
            "colorscale": [
             [
              0,
              "#0d0887"
             ],
             [
              0.1111111111111111,
              "#46039f"
             ],
             [
              0.2222222222222222,
              "#7201a8"
             ],
             [
              0.3333333333333333,
              "#9c179e"
             ],
             [
              0.4444444444444444,
              "#bd3786"
             ],
             [
              0.5555555555555556,
              "#d8576b"
             ],
             [
              0.6666666666666666,
              "#ed7953"
             ],
             [
              0.7777777777777778,
              "#fb9f3a"
             ],
             [
              0.8888888888888888,
              "#fdca26"
             ],
             [
              1,
              "#f0f921"
             ]
            ],
            "type": "surface"
           }
          ],
          "table": [
           {
            "cells": {
             "fill": {
              "color": "#EBF0F8"
             },
             "line": {
              "color": "white"
             }
            },
            "header": {
             "fill": {
              "color": "#C8D4E3"
             },
             "line": {
              "color": "white"
             }
            },
            "type": "table"
           }
          ]
         },
         "layout": {
          "annotationdefaults": {
           "arrowcolor": "#2a3f5f",
           "arrowhead": 0,
           "arrowwidth": 1
          },
          "autotypenumbers": "strict",
          "coloraxis": {
           "colorbar": {
            "outlinewidth": 0,
            "ticks": ""
           }
          },
          "colorscale": {
           "diverging": [
            [
             0,
             "#8e0152"
            ],
            [
             0.1,
             "#c51b7d"
            ],
            [
             0.2,
             "#de77ae"
            ],
            [
             0.3,
             "#f1b6da"
            ],
            [
             0.4,
             "#fde0ef"
            ],
            [
             0.5,
             "#f7f7f7"
            ],
            [
             0.6,
             "#e6f5d0"
            ],
            [
             0.7,
             "#b8e186"
            ],
            [
             0.8,
             "#7fbc41"
            ],
            [
             0.9,
             "#4d9221"
            ],
            [
             1,
             "#276419"
            ]
           ],
           "sequential": [
            [
             0,
             "#0d0887"
            ],
            [
             0.1111111111111111,
             "#46039f"
            ],
            [
             0.2222222222222222,
             "#7201a8"
            ],
            [
             0.3333333333333333,
             "#9c179e"
            ],
            [
             0.4444444444444444,
             "#bd3786"
            ],
            [
             0.5555555555555556,
             "#d8576b"
            ],
            [
             0.6666666666666666,
             "#ed7953"
            ],
            [
             0.7777777777777778,
             "#fb9f3a"
            ],
            [
             0.8888888888888888,
             "#fdca26"
            ],
            [
             1,
             "#f0f921"
            ]
           ],
           "sequentialminus": [
            [
             0,
             "#0d0887"
            ],
            [
             0.1111111111111111,
             "#46039f"
            ],
            [
             0.2222222222222222,
             "#7201a8"
            ],
            [
             0.3333333333333333,
             "#9c179e"
            ],
            [
             0.4444444444444444,
             "#bd3786"
            ],
            [
             0.5555555555555556,
             "#d8576b"
            ],
            [
             0.6666666666666666,
             "#ed7953"
            ],
            [
             0.7777777777777778,
             "#fb9f3a"
            ],
            [
             0.8888888888888888,
             "#fdca26"
            ],
            [
             1,
             "#f0f921"
            ]
           ]
          },
          "colorway": [
           "#636efa",
           "#EF553B",
           "#00cc96",
           "#ab63fa",
           "#FFA15A",
           "#19d3f3",
           "#FF6692",
           "#B6E880",
           "#FF97FF",
           "#FECB52"
          ],
          "font": {
           "color": "#2a3f5f"
          },
          "geo": {
           "bgcolor": "white",
           "lakecolor": "white",
           "landcolor": "#E5ECF6",
           "showlakes": true,
           "showland": true,
           "subunitcolor": "white"
          },
          "hoverlabel": {
           "align": "left"
          },
          "hovermode": "closest",
          "mapbox": {
           "style": "light"
          },
          "paper_bgcolor": "white",
          "plot_bgcolor": "#E5ECF6",
          "polar": {
           "angularaxis": {
            "gridcolor": "white",
            "linecolor": "white",
            "ticks": ""
           },
           "bgcolor": "#E5ECF6",
           "radialaxis": {
            "gridcolor": "white",
            "linecolor": "white",
            "ticks": ""
           }
          },
          "scene": {
           "xaxis": {
            "backgroundcolor": "#E5ECF6",
            "gridcolor": "white",
            "gridwidth": 2,
            "linecolor": "white",
            "showbackground": true,
            "ticks": "",
            "zerolinecolor": "white"
           },
           "yaxis": {
            "backgroundcolor": "#E5ECF6",
            "gridcolor": "white",
            "gridwidth": 2,
            "linecolor": "white",
            "showbackground": true,
            "ticks": "",
            "zerolinecolor": "white"
           },
           "zaxis": {
            "backgroundcolor": "#E5ECF6",
            "gridcolor": "white",
            "gridwidth": 2,
            "linecolor": "white",
            "showbackground": true,
            "ticks": "",
            "zerolinecolor": "white"
           }
          },
          "shapedefaults": {
           "line": {
            "color": "#2a3f5f"
           }
          },
          "ternary": {
           "aaxis": {
            "gridcolor": "white",
            "linecolor": "white",
            "ticks": ""
           },
           "baxis": {
            "gridcolor": "white",
            "linecolor": "white",
            "ticks": ""
           },
           "bgcolor": "#E5ECF6",
           "caxis": {
            "gridcolor": "white",
            "linecolor": "white",
            "ticks": ""
           }
          },
          "title": {
           "x": 0.05
          },
          "xaxis": {
           "automargin": true,
           "gridcolor": "white",
           "linecolor": "white",
           "ticks": "",
           "title": {
            "standoff": 15
           },
           "zerolinecolor": "white",
           "zerolinewidth": 2
          },
          "yaxis": {
           "automargin": true,
           "gridcolor": "white",
           "linecolor": "white",
           "ticks": "",
           "title": {
            "standoff": 15
           },
           "zerolinecolor": "white",
           "zerolinewidth": 2
          }
         }
        },
        "title": {
         "text": "Multiplier Values by County"
        },
        "xaxis": {
         "anchor": "y",
         "domain": [
          0,
          0.31999999999999995
         ],
         "title": {
          "text": ""
         }
        },
        "xaxis2": {
         "anchor": "y2",
         "domain": [
          0.33999999999999997,
          0.6599999999999999
         ],
         "matches": "x",
         "title": {
          "text": ""
         }
        },
        "xaxis3": {
         "anchor": "y3",
         "domain": [
          0.6799999999999999,
          0.9999999999999999
         ],
         "matches": "x",
         "title": {
          "text": ""
         }
        },
        "yaxis": {
         "anchor": "x",
         "domain": [
          0,
          1
         ],
         "range": [
          0,
          2.5
         ],
         "title": {
          "text": "Multiplier"
         }
        },
        "yaxis2": {
         "anchor": "x2",
         "domain": [
          0,
          1
         ],
         "matches": "y",
         "range": [
          0,
          2.5
         ],
         "showticklabels": false
        },
        "yaxis3": {
         "anchor": "x3",
         "domain": [
          0,
          1
         ],
         "matches": "y",
         "range": [
          0,
          2.5
         ],
         "showticklabels": false
        }
       }
      }
     },
     "metadata": {},
     "output_type": "display_data"
    }
   ],
   "source": [
    "import pandas as pd\n",
    "import plotly.express as px\n",
    "\n",
    "# Create DataFrame\n",
    "df = df_centers_county_multipliers\n",
    "df['county_name'] = df['CO_FIPS'].apply(_config.lookup_county)\n",
    "df['parameter_label'] = df['parameter'].apply(_config.lookup_parameter_label)\n",
    "\n",
    "# Plot using Plotly Express\n",
    "fig = px.bar(\n",
    "    df,\n",
    "    x=\"center_type\",\n",
    "    y=\"multiplier\",\n",
    "    text=\"multiplier\",  # Add multiplier values as text\n",
    "    color=\"parameter_label\",\n",
    "    barmode=\"group\",\n",
    "    facet_col=\"county_name\",\n",
    "    title=\"Multiplier Values by County\",\n",
    "    labels={\"multiplier\": \"Multiplier\", \"center_type\": \"\"},\n",
    ")\n",
    "\n",
    "# Update layout for readability\n",
    "fig.update_layout(\n",
    "    xaxis_title=\"\",\n",
    "    yaxis_title=\"Multiplier\",\n",
    "    legend_title=\"Parameter\",\n",
    "    margin=dict(t=50, b=50, l=50, r=50),\n",
    ")\n",
    "\n",
    "fig.for_each_annotation(lambda a: a.update(text=a.text.split('=')[-1] + ' County'))\n",
    "fig.update_yaxes(range=[0, 2.5])  # Set y-axis range from 0 to 2.4\n",
    "\n",
    "# Update layout and text properties\n",
    "fig.update_traces(texttemplate=\"%{text:.2f}\", textposition=\"outside\")  # Format text as two decimal places\n",
    "\n",
    "# Show plot\n",
    "fig.show()\n"
   ]
  },
  {
   "cell_type": "code",
   "execution_count": 286,
   "metadata": {},
   "outputs": [
    {
     "data": {
      "text/html": [
       "<div>\n",
       "<style scoped>\n",
       "    .dataframe tbody tr th:only-of-type {\n",
       "        vertical-align: middle;\n",
       "    }\n",
       "\n",
       "    .dataframe tbody tr th {\n",
       "        vertical-align: top;\n",
       "    }\n",
       "\n",
       "    .dataframe thead th {\n",
       "        text-align: right;\n",
       "    }\n",
       "</style>\n",
       "<table border=\"1\" class=\"dataframe\">\n",
       "  <thead>\n",
       "    <tr style=\"text-align: right;\">\n",
       "      <th></th>\n",
       "      <th>CO_FIPS</th>\n",
       "      <th>center_type</th>\n",
       "      <th>parameter</th>\n",
       "      <th>multiplier</th>\n",
       "      <th>county_name</th>\n",
       "      <th>parameter_label</th>\n",
       "    </tr>\n",
       "  </thead>\n",
       "  <tbody>\n",
       "    <tr>\n",
       "      <th>0</th>\n",
       "      <td>57</td>\n",
       "      <td>Neighborhood Center</td>\n",
       "      <td>TOTEMP</td>\n",
       "      <td>0.80</td>\n",
       "      <td>Weber</td>\n",
       "      <td>Employees</td>\n",
       "    </tr>\n",
       "    <tr>\n",
       "      <th>1</th>\n",
       "      <td>57</td>\n",
       "      <td>City Center</td>\n",
       "      <td>TOTEMP</td>\n",
       "      <td>0.80</td>\n",
       "      <td>Weber</td>\n",
       "      <td>Employees</td>\n",
       "    </tr>\n",
       "    <tr>\n",
       "      <th>2</th>\n",
       "      <td>57</td>\n",
       "      <td>Urban Center</td>\n",
       "      <td>TOTEMP</td>\n",
       "      <td>0.80</td>\n",
       "      <td>Weber</td>\n",
       "      <td>Employees</td>\n",
       "    </tr>\n",
       "    <tr>\n",
       "      <th>3</th>\n",
       "      <td>57</td>\n",
       "      <td>Metropolitan Center</td>\n",
       "      <td>TOTEMP</td>\n",
       "      <td>0.80</td>\n",
       "      <td>Weber</td>\n",
       "      <td>Employees</td>\n",
       "    </tr>\n",
       "    <tr>\n",
       "      <th>4</th>\n",
       "      <td>35</td>\n",
       "      <td>Neighborhood Center</td>\n",
       "      <td>TOTHH</td>\n",
       "      <td>1.10</td>\n",
       "      <td>Salt Lake</td>\n",
       "      <td>Households</td>\n",
       "    </tr>\n",
       "    <tr>\n",
       "      <th>5</th>\n",
       "      <td>35</td>\n",
       "      <td>Neighborhood Center</td>\n",
       "      <td>TOTEMP</td>\n",
       "      <td>1.20</td>\n",
       "      <td>Salt Lake</td>\n",
       "      <td>Employees</td>\n",
       "    </tr>\n",
       "    <tr>\n",
       "      <th>6</th>\n",
       "      <td>35</td>\n",
       "      <td>City Center</td>\n",
       "      <td>TOTHH</td>\n",
       "      <td>1.25</td>\n",
       "      <td>Salt Lake</td>\n",
       "      <td>Households</td>\n",
       "    </tr>\n",
       "    <tr>\n",
       "      <th>7</th>\n",
       "      <td>35</td>\n",
       "      <td>City Center</td>\n",
       "      <td>TOTEMP</td>\n",
       "      <td>1.35</td>\n",
       "      <td>Salt Lake</td>\n",
       "      <td>Employees</td>\n",
       "    </tr>\n",
       "    <tr>\n",
       "      <th>8</th>\n",
       "      <td>35</td>\n",
       "      <td>Urban Center</td>\n",
       "      <td>TOTHH</td>\n",
       "      <td>1.35</td>\n",
       "      <td>Salt Lake</td>\n",
       "      <td>Households</td>\n",
       "    </tr>\n",
       "    <tr>\n",
       "      <th>9</th>\n",
       "      <td>35</td>\n",
       "      <td>Urban Center</td>\n",
       "      <td>TOTEMP</td>\n",
       "      <td>1.65</td>\n",
       "      <td>Salt Lake</td>\n",
       "      <td>Employees</td>\n",
       "    </tr>\n",
       "    <tr>\n",
       "      <th>10</th>\n",
       "      <td>35</td>\n",
       "      <td>Metropolitan Center</td>\n",
       "      <td>TOTHH</td>\n",
       "      <td>1.50</td>\n",
       "      <td>Salt Lake</td>\n",
       "      <td>Households</td>\n",
       "    </tr>\n",
       "    <tr>\n",
       "      <th>11</th>\n",
       "      <td>35</td>\n",
       "      <td>Metropolitan Center</td>\n",
       "      <td>TOTEMP</td>\n",
       "      <td>2.00</td>\n",
       "      <td>Salt Lake</td>\n",
       "      <td>Employees</td>\n",
       "    </tr>\n",
       "    <tr>\n",
       "      <th>12</th>\n",
       "      <td>49</td>\n",
       "      <td>Neighborhood Center</td>\n",
       "      <td>TOTHH</td>\n",
       "      <td>1.10</td>\n",
       "      <td>Utah</td>\n",
       "      <td>Households</td>\n",
       "    </tr>\n",
       "    <tr>\n",
       "      <th>13</th>\n",
       "      <td>49</td>\n",
       "      <td>Neighborhood Center</td>\n",
       "      <td>TOTEMP</td>\n",
       "      <td>1.10</td>\n",
       "      <td>Utah</td>\n",
       "      <td>Employees</td>\n",
       "    </tr>\n",
       "    <tr>\n",
       "      <th>14</th>\n",
       "      <td>49</td>\n",
       "      <td>City Center</td>\n",
       "      <td>TOTHH</td>\n",
       "      <td>1.25</td>\n",
       "      <td>Utah</td>\n",
       "      <td>Households</td>\n",
       "    </tr>\n",
       "    <tr>\n",
       "      <th>15</th>\n",
       "      <td>49</td>\n",
       "      <td>City Center</td>\n",
       "      <td>TOTEMP</td>\n",
       "      <td>1.25</td>\n",
       "      <td>Utah</td>\n",
       "      <td>Employees</td>\n",
       "    </tr>\n",
       "    <tr>\n",
       "      <th>16</th>\n",
       "      <td>49</td>\n",
       "      <td>Urban Center</td>\n",
       "      <td>TOTHH</td>\n",
       "      <td>1.35</td>\n",
       "      <td>Utah</td>\n",
       "      <td>Households</td>\n",
       "    </tr>\n",
       "    <tr>\n",
       "      <th>17</th>\n",
       "      <td>49</td>\n",
       "      <td>Urban Center</td>\n",
       "      <td>TOTEMP</td>\n",
       "      <td>1.50</td>\n",
       "      <td>Utah</td>\n",
       "      <td>Employees</td>\n",
       "    </tr>\n",
       "    <tr>\n",
       "      <th>18</th>\n",
       "      <td>49</td>\n",
       "      <td>Metropolitan Center</td>\n",
       "      <td>TOTHH</td>\n",
       "      <td>1.50</td>\n",
       "      <td>Utah</td>\n",
       "      <td>Households</td>\n",
       "    </tr>\n",
       "    <tr>\n",
       "      <th>19</th>\n",
       "      <td>49</td>\n",
       "      <td>Metropolitan Center</td>\n",
       "      <td>TOTEMP</td>\n",
       "      <td>1.65</td>\n",
       "      <td>Utah</td>\n",
       "      <td>Employees</td>\n",
       "    </tr>\n",
       "  </tbody>\n",
       "</table>\n",
       "</div>"
      ],
      "text/plain": [
       "    CO_FIPS          center_type parameter  multiplier county_name  \\\n",
       "0        57  Neighborhood Center    TOTEMP        0.80       Weber   \n",
       "1        57          City Center    TOTEMP        0.80       Weber   \n",
       "2        57         Urban Center    TOTEMP        0.80       Weber   \n",
       "3        57  Metropolitan Center    TOTEMP        0.80       Weber   \n",
       "4        35  Neighborhood Center     TOTHH        1.10   Salt Lake   \n",
       "5        35  Neighborhood Center    TOTEMP        1.20   Salt Lake   \n",
       "6        35          City Center     TOTHH        1.25   Salt Lake   \n",
       "7        35          City Center    TOTEMP        1.35   Salt Lake   \n",
       "8        35         Urban Center     TOTHH        1.35   Salt Lake   \n",
       "9        35         Urban Center    TOTEMP        1.65   Salt Lake   \n",
       "10       35  Metropolitan Center     TOTHH        1.50   Salt Lake   \n",
       "11       35  Metropolitan Center    TOTEMP        2.00   Salt Lake   \n",
       "12       49  Neighborhood Center     TOTHH        1.10        Utah   \n",
       "13       49  Neighborhood Center    TOTEMP        1.10        Utah   \n",
       "14       49          City Center     TOTHH        1.25        Utah   \n",
       "15       49          City Center    TOTEMP        1.25        Utah   \n",
       "16       49         Urban Center     TOTHH        1.35        Utah   \n",
       "17       49         Urban Center    TOTEMP        1.50        Utah   \n",
       "18       49  Metropolitan Center     TOTHH        1.50        Utah   \n",
       "19       49  Metropolitan Center    TOTEMP        1.65        Utah   \n",
       "\n",
       "   parameter_label  \n",
       "0        Employees  \n",
       "1        Employees  \n",
       "2        Employees  \n",
       "3        Employees  \n",
       "4       Households  \n",
       "5        Employees  \n",
       "6       Households  \n",
       "7        Employees  \n",
       "8       Households  \n",
       "9        Employees  \n",
       "10      Households  \n",
       "11       Employees  \n",
       "12      Households  \n",
       "13       Employees  \n",
       "14      Households  \n",
       "15       Employees  \n",
       "16      Households  \n",
       "17       Employees  \n",
       "18      Households  \n",
       "19       Employees  "
      ]
     },
     "execution_count": 286,
     "metadata": {},
     "output_type": "execute_result"
    }
   ],
   "source": [
    "df_centers_county_multipliers"
   ]
  },
  {
   "cell_type": "code",
   "execution_count": 287,
   "metadata": {},
   "outputs": [
    {
     "data": {
      "text/html": [
       "<div>\n",
       "<style scoped>\n",
       "    .dataframe tbody tr th:only-of-type {\n",
       "        vertical-align: middle;\n",
       "    }\n",
       "\n",
       "    .dataframe tbody tr th {\n",
       "        vertical-align: top;\n",
       "    }\n",
       "\n",
       "    .dataframe thead th {\n",
       "        text-align: right;\n",
       "    }\n",
       "</style>\n",
       "<table border=\"1\" class=\"dataframe\">\n",
       "  <thead>\n",
       "    <tr style=\"text-align: right;\">\n",
       "      <th></th>\n",
       "      <th>center_type</th>\n",
       "      <th>parameter</th>\n",
       "      <th>perac_ch</th>\n",
       "    </tr>\n",
       "  </thead>\n",
       "  <tbody>\n",
       "    <tr>\n",
       "      <th>0</th>\n",
       "      <td>Neighborhood Center</td>\n",
       "      <td>TOTHH</td>\n",
       "      <td>4</td>\n",
       "    </tr>\n",
       "    <tr>\n",
       "      <th>1</th>\n",
       "      <td>City Center</td>\n",
       "      <td>TOTHH</td>\n",
       "      <td>8</td>\n",
       "    </tr>\n",
       "    <tr>\n",
       "      <th>2</th>\n",
       "      <td>Urban Center</td>\n",
       "      <td>TOTHH</td>\n",
       "      <td>10</td>\n",
       "    </tr>\n",
       "    <tr>\n",
       "      <th>3</th>\n",
       "      <td>Metropolitan Center</td>\n",
       "      <td>TOTHH</td>\n",
       "      <td>11</td>\n",
       "    </tr>\n",
       "    <tr>\n",
       "      <th>4</th>\n",
       "      <td>Neighborhood Center</td>\n",
       "      <td>TOTEMP</td>\n",
       "      <td>7</td>\n",
       "    </tr>\n",
       "    <tr>\n",
       "      <th>5</th>\n",
       "      <td>City Center</td>\n",
       "      <td>TOTEMP</td>\n",
       "      <td>10</td>\n",
       "    </tr>\n",
       "    <tr>\n",
       "      <th>6</th>\n",
       "      <td>Urban Center</td>\n",
       "      <td>TOTEMP</td>\n",
       "      <td>30</td>\n",
       "    </tr>\n",
       "    <tr>\n",
       "      <th>7</th>\n",
       "      <td>Metropolitan Center</td>\n",
       "      <td>TOTEMP</td>\n",
       "      <td>60</td>\n",
       "    </tr>\n",
       "  </tbody>\n",
       "</table>\n",
       "</div>"
      ],
      "text/plain": [
       "           center_type parameter  perac_ch\n",
       "0  Neighborhood Center     TOTHH         4\n",
       "1          City Center     TOTHH         8\n",
       "2         Urban Center     TOTHH        10\n",
       "3  Metropolitan Center     TOTHH        11\n",
       "4  Neighborhood Center    TOTEMP         7\n",
       "5          City Center    TOTEMP        10\n",
       "6         Urban Center    TOTEMP        30\n",
       "7  Metropolitan Center    TOTEMP        60"
      ]
     },
     "metadata": {},
     "output_type": "display_data"
    },
    {
     "data": {
      "text/html": [
       "<div>\n",
       "<style scoped>\n",
       "    .dataframe tbody tr th:only-of-type {\n",
       "        vertical-align: middle;\n",
       "    }\n",
       "\n",
       "    .dataframe tbody tr th {\n",
       "        vertical-align: top;\n",
       "    }\n",
       "\n",
       "    .dataframe thead th {\n",
       "        text-align: right;\n",
       "    }\n",
       "</style>\n",
       "<table border=\"1\" class=\"dataframe\">\n",
       "  <thead>\n",
       "    <tr style=\"text-align: right;\">\n",
       "      <th></th>\n",
       "      <th>CO_FIPS</th>\n",
       "    </tr>\n",
       "  </thead>\n",
       "  <tbody>\n",
       "    <tr>\n",
       "      <th>0</th>\n",
       "      <td>3</td>\n",
       "    </tr>\n",
       "    <tr>\n",
       "      <th>1</th>\n",
       "      <td>57</td>\n",
       "    </tr>\n",
       "    <tr>\n",
       "      <th>2</th>\n",
       "      <td>11</td>\n",
       "    </tr>\n",
       "    <tr>\n",
       "      <th>3</th>\n",
       "      <td>35</td>\n",
       "    </tr>\n",
       "    <tr>\n",
       "      <th>4</th>\n",
       "      <td>49</td>\n",
       "    </tr>\n",
       "  </tbody>\n",
       "</table>\n",
       "</div>"
      ],
      "text/plain": [
       "   CO_FIPS\n",
       "0        3\n",
       "1       57\n",
       "2       11\n",
       "3       35\n",
       "4       49"
      ]
     },
     "metadata": {},
     "output_type": "display_data"
    },
    {
     "data": {
      "text/html": [
       "<div>\n",
       "<style scoped>\n",
       "    .dataframe tbody tr th:only-of-type {\n",
       "        vertical-align: middle;\n",
       "    }\n",
       "\n",
       "    .dataframe tbody tr th {\n",
       "        vertical-align: top;\n",
       "    }\n",
       "\n",
       "    .dataframe thead th {\n",
       "        text-align: right;\n",
       "    }\n",
       "</style>\n",
       "<table border=\"1\" class=\"dataframe\">\n",
       "  <thead>\n",
       "    <tr style=\"text-align: right;\">\n",
       "      <th></th>\n",
       "      <th>center_type</th>\n",
       "      <th>parameter</th>\n",
       "      <th>perac_ch</th>\n",
       "      <th>CO_FIPS</th>\n",
       "    </tr>\n",
       "  </thead>\n",
       "  <tbody>\n",
       "    <tr>\n",
       "      <th>0</th>\n",
       "      <td>Neighborhood Center</td>\n",
       "      <td>TOTHH</td>\n",
       "      <td>4</td>\n",
       "      <td>3</td>\n",
       "    </tr>\n",
       "    <tr>\n",
       "      <th>1</th>\n",
       "      <td>Neighborhood Center</td>\n",
       "      <td>TOTHH</td>\n",
       "      <td>4</td>\n",
       "      <td>57</td>\n",
       "    </tr>\n",
       "    <tr>\n",
       "      <th>2</th>\n",
       "      <td>Neighborhood Center</td>\n",
       "      <td>TOTHH</td>\n",
       "      <td>4</td>\n",
       "      <td>11</td>\n",
       "    </tr>\n",
       "    <tr>\n",
       "      <th>3</th>\n",
       "      <td>Neighborhood Center</td>\n",
       "      <td>TOTHH</td>\n",
       "      <td>4</td>\n",
       "      <td>35</td>\n",
       "    </tr>\n",
       "    <tr>\n",
       "      <th>4</th>\n",
       "      <td>Neighborhood Center</td>\n",
       "      <td>TOTHH</td>\n",
       "      <td>4</td>\n",
       "      <td>49</td>\n",
       "    </tr>\n",
       "    <tr>\n",
       "      <th>5</th>\n",
       "      <td>City Center</td>\n",
       "      <td>TOTHH</td>\n",
       "      <td>8</td>\n",
       "      <td>3</td>\n",
       "    </tr>\n",
       "    <tr>\n",
       "      <th>6</th>\n",
       "      <td>City Center</td>\n",
       "      <td>TOTHH</td>\n",
       "      <td>8</td>\n",
       "      <td>57</td>\n",
       "    </tr>\n",
       "    <tr>\n",
       "      <th>7</th>\n",
       "      <td>City Center</td>\n",
       "      <td>TOTHH</td>\n",
       "      <td>8</td>\n",
       "      <td>11</td>\n",
       "    </tr>\n",
       "    <tr>\n",
       "      <th>8</th>\n",
       "      <td>City Center</td>\n",
       "      <td>TOTHH</td>\n",
       "      <td>8</td>\n",
       "      <td>35</td>\n",
       "    </tr>\n",
       "    <tr>\n",
       "      <th>9</th>\n",
       "      <td>City Center</td>\n",
       "      <td>TOTHH</td>\n",
       "      <td>8</td>\n",
       "      <td>49</td>\n",
       "    </tr>\n",
       "    <tr>\n",
       "      <th>10</th>\n",
       "      <td>Urban Center</td>\n",
       "      <td>TOTHH</td>\n",
       "      <td>10</td>\n",
       "      <td>3</td>\n",
       "    </tr>\n",
       "    <tr>\n",
       "      <th>11</th>\n",
       "      <td>Urban Center</td>\n",
       "      <td>TOTHH</td>\n",
       "      <td>10</td>\n",
       "      <td>57</td>\n",
       "    </tr>\n",
       "    <tr>\n",
       "      <th>12</th>\n",
       "      <td>Urban Center</td>\n",
       "      <td>TOTHH</td>\n",
       "      <td>10</td>\n",
       "      <td>11</td>\n",
       "    </tr>\n",
       "    <tr>\n",
       "      <th>13</th>\n",
       "      <td>Urban Center</td>\n",
       "      <td>TOTHH</td>\n",
       "      <td>10</td>\n",
       "      <td>35</td>\n",
       "    </tr>\n",
       "    <tr>\n",
       "      <th>14</th>\n",
       "      <td>Urban Center</td>\n",
       "      <td>TOTHH</td>\n",
       "      <td>10</td>\n",
       "      <td>49</td>\n",
       "    </tr>\n",
       "    <tr>\n",
       "      <th>15</th>\n",
       "      <td>Metropolitan Center</td>\n",
       "      <td>TOTHH</td>\n",
       "      <td>11</td>\n",
       "      <td>3</td>\n",
       "    </tr>\n",
       "    <tr>\n",
       "      <th>16</th>\n",
       "      <td>Metropolitan Center</td>\n",
       "      <td>TOTHH</td>\n",
       "      <td>11</td>\n",
       "      <td>57</td>\n",
       "    </tr>\n",
       "    <tr>\n",
       "      <th>17</th>\n",
       "      <td>Metropolitan Center</td>\n",
       "      <td>TOTHH</td>\n",
       "      <td>11</td>\n",
       "      <td>11</td>\n",
       "    </tr>\n",
       "    <tr>\n",
       "      <th>18</th>\n",
       "      <td>Metropolitan Center</td>\n",
       "      <td>TOTHH</td>\n",
       "      <td>11</td>\n",
       "      <td>35</td>\n",
       "    </tr>\n",
       "    <tr>\n",
       "      <th>19</th>\n",
       "      <td>Metropolitan Center</td>\n",
       "      <td>TOTHH</td>\n",
       "      <td>11</td>\n",
       "      <td>49</td>\n",
       "    </tr>\n",
       "    <tr>\n",
       "      <th>20</th>\n",
       "      <td>Neighborhood Center</td>\n",
       "      <td>TOTEMP</td>\n",
       "      <td>7</td>\n",
       "      <td>3</td>\n",
       "    </tr>\n",
       "    <tr>\n",
       "      <th>21</th>\n",
       "      <td>Neighborhood Center</td>\n",
       "      <td>TOTEMP</td>\n",
       "      <td>7</td>\n",
       "      <td>57</td>\n",
       "    </tr>\n",
       "    <tr>\n",
       "      <th>22</th>\n",
       "      <td>Neighborhood Center</td>\n",
       "      <td>TOTEMP</td>\n",
       "      <td>7</td>\n",
       "      <td>11</td>\n",
       "    </tr>\n",
       "    <tr>\n",
       "      <th>23</th>\n",
       "      <td>Neighborhood Center</td>\n",
       "      <td>TOTEMP</td>\n",
       "      <td>7</td>\n",
       "      <td>35</td>\n",
       "    </tr>\n",
       "    <tr>\n",
       "      <th>24</th>\n",
       "      <td>Neighborhood Center</td>\n",
       "      <td>TOTEMP</td>\n",
       "      <td>7</td>\n",
       "      <td>49</td>\n",
       "    </tr>\n",
       "    <tr>\n",
       "      <th>25</th>\n",
       "      <td>City Center</td>\n",
       "      <td>TOTEMP</td>\n",
       "      <td>10</td>\n",
       "      <td>3</td>\n",
       "    </tr>\n",
       "    <tr>\n",
       "      <th>26</th>\n",
       "      <td>City Center</td>\n",
       "      <td>TOTEMP</td>\n",
       "      <td>10</td>\n",
       "      <td>57</td>\n",
       "    </tr>\n",
       "    <tr>\n",
       "      <th>27</th>\n",
       "      <td>City Center</td>\n",
       "      <td>TOTEMP</td>\n",
       "      <td>10</td>\n",
       "      <td>11</td>\n",
       "    </tr>\n",
       "    <tr>\n",
       "      <th>28</th>\n",
       "      <td>City Center</td>\n",
       "      <td>TOTEMP</td>\n",
       "      <td>10</td>\n",
       "      <td>35</td>\n",
       "    </tr>\n",
       "    <tr>\n",
       "      <th>29</th>\n",
       "      <td>City Center</td>\n",
       "      <td>TOTEMP</td>\n",
       "      <td>10</td>\n",
       "      <td>49</td>\n",
       "    </tr>\n",
       "    <tr>\n",
       "      <th>30</th>\n",
       "      <td>Urban Center</td>\n",
       "      <td>TOTEMP</td>\n",
       "      <td>30</td>\n",
       "      <td>3</td>\n",
       "    </tr>\n",
       "    <tr>\n",
       "      <th>31</th>\n",
       "      <td>Urban Center</td>\n",
       "      <td>TOTEMP</td>\n",
       "      <td>30</td>\n",
       "      <td>57</td>\n",
       "    </tr>\n",
       "    <tr>\n",
       "      <th>32</th>\n",
       "      <td>Urban Center</td>\n",
       "      <td>TOTEMP</td>\n",
       "      <td>30</td>\n",
       "      <td>11</td>\n",
       "    </tr>\n",
       "    <tr>\n",
       "      <th>33</th>\n",
       "      <td>Urban Center</td>\n",
       "      <td>TOTEMP</td>\n",
       "      <td>30</td>\n",
       "      <td>35</td>\n",
       "    </tr>\n",
       "    <tr>\n",
       "      <th>34</th>\n",
       "      <td>Urban Center</td>\n",
       "      <td>TOTEMP</td>\n",
       "      <td>30</td>\n",
       "      <td>49</td>\n",
       "    </tr>\n",
       "    <tr>\n",
       "      <th>35</th>\n",
       "      <td>Metropolitan Center</td>\n",
       "      <td>TOTEMP</td>\n",
       "      <td>60</td>\n",
       "      <td>3</td>\n",
       "    </tr>\n",
       "    <tr>\n",
       "      <th>36</th>\n",
       "      <td>Metropolitan Center</td>\n",
       "      <td>TOTEMP</td>\n",
       "      <td>60</td>\n",
       "      <td>57</td>\n",
       "    </tr>\n",
       "    <tr>\n",
       "      <th>37</th>\n",
       "      <td>Metropolitan Center</td>\n",
       "      <td>TOTEMP</td>\n",
       "      <td>60</td>\n",
       "      <td>11</td>\n",
       "    </tr>\n",
       "    <tr>\n",
       "      <th>38</th>\n",
       "      <td>Metropolitan Center</td>\n",
       "      <td>TOTEMP</td>\n",
       "      <td>60</td>\n",
       "      <td>35</td>\n",
       "    </tr>\n",
       "    <tr>\n",
       "      <th>39</th>\n",
       "      <td>Metropolitan Center</td>\n",
       "      <td>TOTEMP</td>\n",
       "      <td>60</td>\n",
       "      <td>49</td>\n",
       "    </tr>\n",
       "  </tbody>\n",
       "</table>\n",
       "</div>"
      ],
      "text/plain": [
       "            center_type parameter  perac_ch  CO_FIPS\n",
       "0   Neighborhood Center     TOTHH         4        3\n",
       "1   Neighborhood Center     TOTHH         4       57\n",
       "2   Neighborhood Center     TOTHH         4       11\n",
       "3   Neighborhood Center     TOTHH         4       35\n",
       "4   Neighborhood Center     TOTHH         4       49\n",
       "5           City Center     TOTHH         8        3\n",
       "6           City Center     TOTHH         8       57\n",
       "7           City Center     TOTHH         8       11\n",
       "8           City Center     TOTHH         8       35\n",
       "9           City Center     TOTHH         8       49\n",
       "10         Urban Center     TOTHH        10        3\n",
       "11         Urban Center     TOTHH        10       57\n",
       "12         Urban Center     TOTHH        10       11\n",
       "13         Urban Center     TOTHH        10       35\n",
       "14         Urban Center     TOTHH        10       49\n",
       "15  Metropolitan Center     TOTHH        11        3\n",
       "16  Metropolitan Center     TOTHH        11       57\n",
       "17  Metropolitan Center     TOTHH        11       11\n",
       "18  Metropolitan Center     TOTHH        11       35\n",
       "19  Metropolitan Center     TOTHH        11       49\n",
       "20  Neighborhood Center    TOTEMP         7        3\n",
       "21  Neighborhood Center    TOTEMP         7       57\n",
       "22  Neighborhood Center    TOTEMP         7       11\n",
       "23  Neighborhood Center    TOTEMP         7       35\n",
       "24  Neighborhood Center    TOTEMP         7       49\n",
       "25          City Center    TOTEMP        10        3\n",
       "26          City Center    TOTEMP        10       57\n",
       "27          City Center    TOTEMP        10       11\n",
       "28          City Center    TOTEMP        10       35\n",
       "29          City Center    TOTEMP        10       49\n",
       "30         Urban Center    TOTEMP        30        3\n",
       "31         Urban Center    TOTEMP        30       57\n",
       "32         Urban Center    TOTEMP        30       11\n",
       "33         Urban Center    TOTEMP        30       35\n",
       "34         Urban Center    TOTEMP        30       49\n",
       "35  Metropolitan Center    TOTEMP        60        3\n",
       "36  Metropolitan Center    TOTEMP        60       57\n",
       "37  Metropolitan Center    TOTEMP        60       11\n",
       "38  Metropolitan Center    TOTEMP        60       35\n",
       "39  Metropolitan Center    TOTEMP        60       49"
      ]
     },
     "metadata": {},
     "output_type": "display_data"
    },
    {
     "data": {
      "text/html": [
       "<div>\n",
       "<style scoped>\n",
       "    .dataframe tbody tr th:only-of-type {\n",
       "        vertical-align: middle;\n",
       "    }\n",
       "\n",
       "    .dataframe tbody tr th {\n",
       "        vertical-align: top;\n",
       "    }\n",
       "\n",
       "    .dataframe thead th {\n",
       "        text-align: right;\n",
       "    }\n",
       "</style>\n",
       "<table border=\"1\" class=\"dataframe\">\n",
       "  <thead>\n",
       "    <tr style=\"text-align: right;\">\n",
       "      <th></th>\n",
       "      <th>center_type</th>\n",
       "      <th>parameter</th>\n",
       "      <th>perac_ch</th>\n",
       "      <th>CO_FIPS</th>\n",
       "      <th>multiplier</th>\n",
       "      <th>perac_ch_final</th>\n",
       "    </tr>\n",
       "  </thead>\n",
       "  <tbody>\n",
       "    <tr>\n",
       "      <th>0</th>\n",
       "      <td>Neighborhood Center</td>\n",
       "      <td>TOTHH</td>\n",
       "      <td>4</td>\n",
       "      <td>3</td>\n",
       "      <td>1.00</td>\n",
       "      <td>4</td>\n",
       "    </tr>\n",
       "    <tr>\n",
       "      <th>1</th>\n",
       "      <td>Neighborhood Center</td>\n",
       "      <td>TOTHH</td>\n",
       "      <td>4</td>\n",
       "      <td>57</td>\n",
       "      <td>1.00</td>\n",
       "      <td>4</td>\n",
       "    </tr>\n",
       "    <tr>\n",
       "      <th>2</th>\n",
       "      <td>Neighborhood Center</td>\n",
       "      <td>TOTHH</td>\n",
       "      <td>4</td>\n",
       "      <td>11</td>\n",
       "      <td>1.00</td>\n",
       "      <td>4</td>\n",
       "    </tr>\n",
       "    <tr>\n",
       "      <th>3</th>\n",
       "      <td>Neighborhood Center</td>\n",
       "      <td>TOTHH</td>\n",
       "      <td>4</td>\n",
       "      <td>35</td>\n",
       "      <td>1.10</td>\n",
       "      <td>4</td>\n",
       "    </tr>\n",
       "    <tr>\n",
       "      <th>4</th>\n",
       "      <td>Neighborhood Center</td>\n",
       "      <td>TOTHH</td>\n",
       "      <td>4</td>\n",
       "      <td>49</td>\n",
       "      <td>1.10</td>\n",
       "      <td>4</td>\n",
       "    </tr>\n",
       "    <tr>\n",
       "      <th>5</th>\n",
       "      <td>City Center</td>\n",
       "      <td>TOTHH</td>\n",
       "      <td>8</td>\n",
       "      <td>3</td>\n",
       "      <td>1.00</td>\n",
       "      <td>8</td>\n",
       "    </tr>\n",
       "    <tr>\n",
       "      <th>6</th>\n",
       "      <td>City Center</td>\n",
       "      <td>TOTHH</td>\n",
       "      <td>8</td>\n",
       "      <td>57</td>\n",
       "      <td>1.00</td>\n",
       "      <td>8</td>\n",
       "    </tr>\n",
       "    <tr>\n",
       "      <th>7</th>\n",
       "      <td>City Center</td>\n",
       "      <td>TOTHH</td>\n",
       "      <td>8</td>\n",
       "      <td>11</td>\n",
       "      <td>1.00</td>\n",
       "      <td>8</td>\n",
       "    </tr>\n",
       "    <tr>\n",
       "      <th>8</th>\n",
       "      <td>City Center</td>\n",
       "      <td>TOTHH</td>\n",
       "      <td>8</td>\n",
       "      <td>35</td>\n",
       "      <td>1.25</td>\n",
       "      <td>10</td>\n",
       "    </tr>\n",
       "    <tr>\n",
       "      <th>9</th>\n",
       "      <td>City Center</td>\n",
       "      <td>TOTHH</td>\n",
       "      <td>8</td>\n",
       "      <td>49</td>\n",
       "      <td>1.25</td>\n",
       "      <td>10</td>\n",
       "    </tr>\n",
       "    <tr>\n",
       "      <th>10</th>\n",
       "      <td>Urban Center</td>\n",
       "      <td>TOTHH</td>\n",
       "      <td>10</td>\n",
       "      <td>3</td>\n",
       "      <td>1.00</td>\n",
       "      <td>10</td>\n",
       "    </tr>\n",
       "    <tr>\n",
       "      <th>11</th>\n",
       "      <td>Urban Center</td>\n",
       "      <td>TOTHH</td>\n",
       "      <td>10</td>\n",
       "      <td>57</td>\n",
       "      <td>1.00</td>\n",
       "      <td>10</td>\n",
       "    </tr>\n",
       "    <tr>\n",
       "      <th>12</th>\n",
       "      <td>Urban Center</td>\n",
       "      <td>TOTHH</td>\n",
       "      <td>10</td>\n",
       "      <td>11</td>\n",
       "      <td>1.00</td>\n",
       "      <td>10</td>\n",
       "    </tr>\n",
       "    <tr>\n",
       "      <th>13</th>\n",
       "      <td>Urban Center</td>\n",
       "      <td>TOTHH</td>\n",
       "      <td>10</td>\n",
       "      <td>35</td>\n",
       "      <td>1.35</td>\n",
       "      <td>13</td>\n",
       "    </tr>\n",
       "    <tr>\n",
       "      <th>14</th>\n",
       "      <td>Urban Center</td>\n",
       "      <td>TOTHH</td>\n",
       "      <td>10</td>\n",
       "      <td>49</td>\n",
       "      <td>1.35</td>\n",
       "      <td>13</td>\n",
       "    </tr>\n",
       "    <tr>\n",
       "      <th>15</th>\n",
       "      <td>Metropolitan Center</td>\n",
       "      <td>TOTHH</td>\n",
       "      <td>11</td>\n",
       "      <td>3</td>\n",
       "      <td>1.00</td>\n",
       "      <td>11</td>\n",
       "    </tr>\n",
       "    <tr>\n",
       "      <th>16</th>\n",
       "      <td>Metropolitan Center</td>\n",
       "      <td>TOTHH</td>\n",
       "      <td>11</td>\n",
       "      <td>57</td>\n",
       "      <td>1.00</td>\n",
       "      <td>11</td>\n",
       "    </tr>\n",
       "    <tr>\n",
       "      <th>17</th>\n",
       "      <td>Metropolitan Center</td>\n",
       "      <td>TOTHH</td>\n",
       "      <td>11</td>\n",
       "      <td>11</td>\n",
       "      <td>1.00</td>\n",
       "      <td>11</td>\n",
       "    </tr>\n",
       "    <tr>\n",
       "      <th>18</th>\n",
       "      <td>Metropolitan Center</td>\n",
       "      <td>TOTHH</td>\n",
       "      <td>11</td>\n",
       "      <td>35</td>\n",
       "      <td>1.50</td>\n",
       "      <td>16</td>\n",
       "    </tr>\n",
       "    <tr>\n",
       "      <th>19</th>\n",
       "      <td>Metropolitan Center</td>\n",
       "      <td>TOTHH</td>\n",
       "      <td>11</td>\n",
       "      <td>49</td>\n",
       "      <td>1.50</td>\n",
       "      <td>16</td>\n",
       "    </tr>\n",
       "    <tr>\n",
       "      <th>20</th>\n",
       "      <td>Neighborhood Center</td>\n",
       "      <td>TOTEMP</td>\n",
       "      <td>7</td>\n",
       "      <td>3</td>\n",
       "      <td>1.00</td>\n",
       "      <td>7</td>\n",
       "    </tr>\n",
       "    <tr>\n",
       "      <th>21</th>\n",
       "      <td>Neighborhood Center</td>\n",
       "      <td>TOTEMP</td>\n",
       "      <td>7</td>\n",
       "      <td>57</td>\n",
       "      <td>0.80</td>\n",
       "      <td>5</td>\n",
       "    </tr>\n",
       "    <tr>\n",
       "      <th>22</th>\n",
       "      <td>Neighborhood Center</td>\n",
       "      <td>TOTEMP</td>\n",
       "      <td>7</td>\n",
       "      <td>11</td>\n",
       "      <td>1.00</td>\n",
       "      <td>7</td>\n",
       "    </tr>\n",
       "    <tr>\n",
       "      <th>23</th>\n",
       "      <td>Neighborhood Center</td>\n",
       "      <td>TOTEMP</td>\n",
       "      <td>7</td>\n",
       "      <td>35</td>\n",
       "      <td>1.20</td>\n",
       "      <td>8</td>\n",
       "    </tr>\n",
       "    <tr>\n",
       "      <th>24</th>\n",
       "      <td>Neighborhood Center</td>\n",
       "      <td>TOTEMP</td>\n",
       "      <td>7</td>\n",
       "      <td>49</td>\n",
       "      <td>1.10</td>\n",
       "      <td>7</td>\n",
       "    </tr>\n",
       "    <tr>\n",
       "      <th>25</th>\n",
       "      <td>City Center</td>\n",
       "      <td>TOTEMP</td>\n",
       "      <td>10</td>\n",
       "      <td>3</td>\n",
       "      <td>1.00</td>\n",
       "      <td>10</td>\n",
       "    </tr>\n",
       "    <tr>\n",
       "      <th>26</th>\n",
       "      <td>City Center</td>\n",
       "      <td>TOTEMP</td>\n",
       "      <td>10</td>\n",
       "      <td>57</td>\n",
       "      <td>0.80</td>\n",
       "      <td>8</td>\n",
       "    </tr>\n",
       "    <tr>\n",
       "      <th>27</th>\n",
       "      <td>City Center</td>\n",
       "      <td>TOTEMP</td>\n",
       "      <td>10</td>\n",
       "      <td>11</td>\n",
       "      <td>1.00</td>\n",
       "      <td>10</td>\n",
       "    </tr>\n",
       "    <tr>\n",
       "      <th>28</th>\n",
       "      <td>City Center</td>\n",
       "      <td>TOTEMP</td>\n",
       "      <td>10</td>\n",
       "      <td>35</td>\n",
       "      <td>1.35</td>\n",
       "      <td>13</td>\n",
       "    </tr>\n",
       "    <tr>\n",
       "      <th>29</th>\n",
       "      <td>City Center</td>\n",
       "      <td>TOTEMP</td>\n",
       "      <td>10</td>\n",
       "      <td>49</td>\n",
       "      <td>1.25</td>\n",
       "      <td>12</td>\n",
       "    </tr>\n",
       "    <tr>\n",
       "      <th>30</th>\n",
       "      <td>Urban Center</td>\n",
       "      <td>TOTEMP</td>\n",
       "      <td>30</td>\n",
       "      <td>3</td>\n",
       "      <td>1.00</td>\n",
       "      <td>30</td>\n",
       "    </tr>\n",
       "    <tr>\n",
       "      <th>31</th>\n",
       "      <td>Urban Center</td>\n",
       "      <td>TOTEMP</td>\n",
       "      <td>30</td>\n",
       "      <td>57</td>\n",
       "      <td>0.80</td>\n",
       "      <td>24</td>\n",
       "    </tr>\n",
       "    <tr>\n",
       "      <th>32</th>\n",
       "      <td>Urban Center</td>\n",
       "      <td>TOTEMP</td>\n",
       "      <td>30</td>\n",
       "      <td>11</td>\n",
       "      <td>1.00</td>\n",
       "      <td>30</td>\n",
       "    </tr>\n",
       "    <tr>\n",
       "      <th>33</th>\n",
       "      <td>Urban Center</td>\n",
       "      <td>TOTEMP</td>\n",
       "      <td>30</td>\n",
       "      <td>35</td>\n",
       "      <td>1.65</td>\n",
       "      <td>49</td>\n",
       "    </tr>\n",
       "    <tr>\n",
       "      <th>34</th>\n",
       "      <td>Urban Center</td>\n",
       "      <td>TOTEMP</td>\n",
       "      <td>30</td>\n",
       "      <td>49</td>\n",
       "      <td>1.50</td>\n",
       "      <td>45</td>\n",
       "    </tr>\n",
       "    <tr>\n",
       "      <th>35</th>\n",
       "      <td>Metropolitan Center</td>\n",
       "      <td>TOTEMP</td>\n",
       "      <td>60</td>\n",
       "      <td>3</td>\n",
       "      <td>1.00</td>\n",
       "      <td>60</td>\n",
       "    </tr>\n",
       "    <tr>\n",
       "      <th>36</th>\n",
       "      <td>Metropolitan Center</td>\n",
       "      <td>TOTEMP</td>\n",
       "      <td>60</td>\n",
       "      <td>57</td>\n",
       "      <td>0.80</td>\n",
       "      <td>48</td>\n",
       "    </tr>\n",
       "    <tr>\n",
       "      <th>37</th>\n",
       "      <td>Metropolitan Center</td>\n",
       "      <td>TOTEMP</td>\n",
       "      <td>60</td>\n",
       "      <td>11</td>\n",
       "      <td>1.00</td>\n",
       "      <td>60</td>\n",
       "    </tr>\n",
       "    <tr>\n",
       "      <th>38</th>\n",
       "      <td>Metropolitan Center</td>\n",
       "      <td>TOTEMP</td>\n",
       "      <td>60</td>\n",
       "      <td>35</td>\n",
       "      <td>2.00</td>\n",
       "      <td>120</td>\n",
       "    </tr>\n",
       "    <tr>\n",
       "      <th>39</th>\n",
       "      <td>Metropolitan Center</td>\n",
       "      <td>TOTEMP</td>\n",
       "      <td>60</td>\n",
       "      <td>49</td>\n",
       "      <td>1.65</td>\n",
       "      <td>99</td>\n",
       "    </tr>\n",
       "  </tbody>\n",
       "</table>\n",
       "</div>"
      ],
      "text/plain": [
       "            center_type parameter  perac_ch  CO_FIPS  multiplier  \\\n",
       "0   Neighborhood Center     TOTHH         4        3        1.00   \n",
       "1   Neighborhood Center     TOTHH         4       57        1.00   \n",
       "2   Neighborhood Center     TOTHH         4       11        1.00   \n",
       "3   Neighborhood Center     TOTHH         4       35        1.10   \n",
       "4   Neighborhood Center     TOTHH         4       49        1.10   \n",
       "5           City Center     TOTHH         8        3        1.00   \n",
       "6           City Center     TOTHH         8       57        1.00   \n",
       "7           City Center     TOTHH         8       11        1.00   \n",
       "8           City Center     TOTHH         8       35        1.25   \n",
       "9           City Center     TOTHH         8       49        1.25   \n",
       "10         Urban Center     TOTHH        10        3        1.00   \n",
       "11         Urban Center     TOTHH        10       57        1.00   \n",
       "12         Urban Center     TOTHH        10       11        1.00   \n",
       "13         Urban Center     TOTHH        10       35        1.35   \n",
       "14         Urban Center     TOTHH        10       49        1.35   \n",
       "15  Metropolitan Center     TOTHH        11        3        1.00   \n",
       "16  Metropolitan Center     TOTHH        11       57        1.00   \n",
       "17  Metropolitan Center     TOTHH        11       11        1.00   \n",
       "18  Metropolitan Center     TOTHH        11       35        1.50   \n",
       "19  Metropolitan Center     TOTHH        11       49        1.50   \n",
       "20  Neighborhood Center    TOTEMP         7        3        1.00   \n",
       "21  Neighborhood Center    TOTEMP         7       57        0.80   \n",
       "22  Neighborhood Center    TOTEMP         7       11        1.00   \n",
       "23  Neighborhood Center    TOTEMP         7       35        1.20   \n",
       "24  Neighborhood Center    TOTEMP         7       49        1.10   \n",
       "25          City Center    TOTEMP        10        3        1.00   \n",
       "26          City Center    TOTEMP        10       57        0.80   \n",
       "27          City Center    TOTEMP        10       11        1.00   \n",
       "28          City Center    TOTEMP        10       35        1.35   \n",
       "29          City Center    TOTEMP        10       49        1.25   \n",
       "30         Urban Center    TOTEMP        30        3        1.00   \n",
       "31         Urban Center    TOTEMP        30       57        0.80   \n",
       "32         Urban Center    TOTEMP        30       11        1.00   \n",
       "33         Urban Center    TOTEMP        30       35        1.65   \n",
       "34         Urban Center    TOTEMP        30       49        1.50   \n",
       "35  Metropolitan Center    TOTEMP        60        3        1.00   \n",
       "36  Metropolitan Center    TOTEMP        60       57        0.80   \n",
       "37  Metropolitan Center    TOTEMP        60       11        1.00   \n",
       "38  Metropolitan Center    TOTEMP        60       35        2.00   \n",
       "39  Metropolitan Center    TOTEMP        60       49        1.65   \n",
       "\n",
       "    perac_ch_final  \n",
       "0                4  \n",
       "1                4  \n",
       "2                4  \n",
       "3                4  \n",
       "4                4  \n",
       "5                8  \n",
       "6                8  \n",
       "7                8  \n",
       "8               10  \n",
       "9               10  \n",
       "10              10  \n",
       "11              10  \n",
       "12              10  \n",
       "13              13  \n",
       "14              13  \n",
       "15              11  \n",
       "16              11  \n",
       "17              11  \n",
       "18              16  \n",
       "19              16  \n",
       "20               7  \n",
       "21               5  \n",
       "22               7  \n",
       "23               8  \n",
       "24               7  \n",
       "25              10  \n",
       "26               8  \n",
       "27              10  \n",
       "28              13  \n",
       "29              12  \n",
       "30              30  \n",
       "31              24  \n",
       "32              30  \n",
       "33              49  \n",
       "34              45  \n",
       "35              60  \n",
       "36              48  \n",
       "37              60  \n",
       "38             120  \n",
       "39              99  "
      ]
     },
     "metadata": {},
     "output_type": "display_data"
    }
   ],
   "source": [
    "df_centers_max_per_acre\n",
    "display(df_centers_max_per_acre)\n",
    "unique_co_fips_df = remm_growth_df[['CO_FIPS']].drop_duplicates().reset_index(drop=True)\n",
    "display(unique_co_fips_df)\n",
    "\n",
    "df_merge = pd.merge(df_centers_max_per_acre, unique_co_fips_df, how=\"cross\")\n",
    "display(df_merge)\n",
    "\n",
    "df_merge_again = pd.merge(df_merge, df_centers_county_multipliers[['CO_FIPS','center_type','parameter','multiplier']], on=['CO_FIPS','center_type','parameter'], how=\"left\").fillna(1)\n",
    "df_merge_again['perac_ch_final'] = (df_merge_again['perac_ch'] * df_merge_again['multiplier']).astype(int)\n",
    "display(df_merge_again)"
   ]
  },
  {
   "cell_type": "code",
   "execution_count": 288,
   "metadata": {},
   "outputs": [
    {
     "data": {
      "application/vnd.plotly.v1+json": {
       "config": {
        "plotlyServerURL": "https://plot.ly"
       },
       "data": [
        {
         "alignmentgroup": "True",
         "hovertemplate": "county_name=Box Elder<br>Center Type=%{x}<br>Per Acre Change=%{text}<extra></extra>",
         "legendgroup": "Box Elder",
         "marker": {
          "color": "#636efa",
          "pattern": {
           "shape": ""
          }
         },
         "name": "Box Elder",
         "offsetgroup": "Box Elder",
         "orientation": "v",
         "showlegend": true,
         "textposition": "auto",
         "type": "bar",
         "x": [
          "Neighborhood Center",
          "City Center",
          "Urban Center",
          "Metropolitan Center"
         ],
         "xaxis": "x",
         "y": [
          4,
          8,
          10,
          11
         ],
         "yaxis": "y"
        },
        {
         "alignmentgroup": "True",
         "hovertemplate": "county_name=Weber<br>Center Type=%{x}<br>Per Acre Change=%{text}<extra></extra>",
         "legendgroup": "Weber",
         "marker": {
          "color": "#EF553B",
          "pattern": {
           "shape": ""
          }
         },
         "name": "Weber",
         "offsetgroup": "Weber",
         "orientation": "v",
         "showlegend": true,
         "textposition": "auto",
         "type": "bar",
         "x": [
          "Neighborhood Center",
          "City Center",
          "Urban Center",
          "Metropolitan Center"
         ],
         "xaxis": "x",
         "y": [
          4,
          8,
          10,
          11
         ],
         "yaxis": "y"
        },
        {
         "alignmentgroup": "True",
         "hovertemplate": "county_name=Davis<br>Center Type=%{x}<br>Per Acre Change=%{text}<extra></extra>",
         "legendgroup": "Davis",
         "marker": {
          "color": "#00cc96",
          "pattern": {
           "shape": ""
          }
         },
         "name": "Davis",
         "offsetgroup": "Davis",
         "orientation": "v",
         "showlegend": true,
         "textposition": "auto",
         "type": "bar",
         "x": [
          "Neighborhood Center",
          "City Center",
          "Urban Center",
          "Metropolitan Center"
         ],
         "xaxis": "x",
         "y": [
          4,
          8,
          10,
          11
         ],
         "yaxis": "y"
        },
        {
         "alignmentgroup": "True",
         "hovertemplate": "county_name=Salt Lake<br>Center Type=%{x}<br>Per Acre Change=%{text}<extra></extra>",
         "legendgroup": "Salt Lake",
         "marker": {
          "color": "#ab63fa",
          "pattern": {
           "shape": ""
          }
         },
         "name": "Salt Lake",
         "offsetgroup": "Salt Lake",
         "orientation": "v",
         "showlegend": true,
         "textposition": "auto",
         "type": "bar",
         "x": [
          "Neighborhood Center",
          "City Center",
          "Urban Center",
          "Metropolitan Center"
         ],
         "xaxis": "x",
         "y": [
          4,
          10,
          13,
          16
         ],
         "yaxis": "y"
        },
        {
         "alignmentgroup": "True",
         "hovertemplate": "county_name=Utah<br>Center Type=%{x}<br>Per Acre Change=%{text}<extra></extra>",
         "legendgroup": "Utah",
         "marker": {
          "color": "#FFA15A",
          "pattern": {
           "shape": ""
          }
         },
         "name": "Utah",
         "offsetgroup": "Utah",
         "orientation": "v",
         "showlegend": true,
         "textposition": "auto",
         "type": "bar",
         "x": [
          "Neighborhood Center",
          "City Center",
          "Urban Center",
          "Metropolitan Center"
         ],
         "xaxis": "x",
         "y": [
          4,
          10,
          13,
          16
         ],
         "yaxis": "y"
        }
       ],
       "layout": {
        "barmode": "group",
        "legend": {
         "title": {
          "text": "county_name"
         },
         "tracegroupgap": 0
        },
        "template": {
         "data": {
          "bar": [
           {
            "error_x": {
             "color": "#2a3f5f"
            },
            "error_y": {
             "color": "#2a3f5f"
            },
            "marker": {
             "line": {
              "color": "#E5ECF6",
              "width": 0.5
             },
             "pattern": {
              "fillmode": "overlay",
              "size": 10,
              "solidity": 0.2
             }
            },
            "type": "bar"
           }
          ],
          "barpolar": [
           {
            "marker": {
             "line": {
              "color": "#E5ECF6",
              "width": 0.5
             },
             "pattern": {
              "fillmode": "overlay",
              "size": 10,
              "solidity": 0.2
             }
            },
            "type": "barpolar"
           }
          ],
          "carpet": [
           {
            "aaxis": {
             "endlinecolor": "#2a3f5f",
             "gridcolor": "white",
             "linecolor": "white",
             "minorgridcolor": "white",
             "startlinecolor": "#2a3f5f"
            },
            "baxis": {
             "endlinecolor": "#2a3f5f",
             "gridcolor": "white",
             "linecolor": "white",
             "minorgridcolor": "white",
             "startlinecolor": "#2a3f5f"
            },
            "type": "carpet"
           }
          ],
          "choropleth": [
           {
            "colorbar": {
             "outlinewidth": 0,
             "ticks": ""
            },
            "type": "choropleth"
           }
          ],
          "contour": [
           {
            "colorbar": {
             "outlinewidth": 0,
             "ticks": ""
            },
            "colorscale": [
             [
              0,
              "#0d0887"
             ],
             [
              0.1111111111111111,
              "#46039f"
             ],
             [
              0.2222222222222222,
              "#7201a8"
             ],
             [
              0.3333333333333333,
              "#9c179e"
             ],
             [
              0.4444444444444444,
              "#bd3786"
             ],
             [
              0.5555555555555556,
              "#d8576b"
             ],
             [
              0.6666666666666666,
              "#ed7953"
             ],
             [
              0.7777777777777778,
              "#fb9f3a"
             ],
             [
              0.8888888888888888,
              "#fdca26"
             ],
             [
              1,
              "#f0f921"
             ]
            ],
            "type": "contour"
           }
          ],
          "contourcarpet": [
           {
            "colorbar": {
             "outlinewidth": 0,
             "ticks": ""
            },
            "type": "contourcarpet"
           }
          ],
          "heatmap": [
           {
            "colorbar": {
             "outlinewidth": 0,
             "ticks": ""
            },
            "colorscale": [
             [
              0,
              "#0d0887"
             ],
             [
              0.1111111111111111,
              "#46039f"
             ],
             [
              0.2222222222222222,
              "#7201a8"
             ],
             [
              0.3333333333333333,
              "#9c179e"
             ],
             [
              0.4444444444444444,
              "#bd3786"
             ],
             [
              0.5555555555555556,
              "#d8576b"
             ],
             [
              0.6666666666666666,
              "#ed7953"
             ],
             [
              0.7777777777777778,
              "#fb9f3a"
             ],
             [
              0.8888888888888888,
              "#fdca26"
             ],
             [
              1,
              "#f0f921"
             ]
            ],
            "type": "heatmap"
           }
          ],
          "heatmapgl": [
           {
            "colorbar": {
             "outlinewidth": 0,
             "ticks": ""
            },
            "colorscale": [
             [
              0,
              "#0d0887"
             ],
             [
              0.1111111111111111,
              "#46039f"
             ],
             [
              0.2222222222222222,
              "#7201a8"
             ],
             [
              0.3333333333333333,
              "#9c179e"
             ],
             [
              0.4444444444444444,
              "#bd3786"
             ],
             [
              0.5555555555555556,
              "#d8576b"
             ],
             [
              0.6666666666666666,
              "#ed7953"
             ],
             [
              0.7777777777777778,
              "#fb9f3a"
             ],
             [
              0.8888888888888888,
              "#fdca26"
             ],
             [
              1,
              "#f0f921"
             ]
            ],
            "type": "heatmapgl"
           }
          ],
          "histogram": [
           {
            "marker": {
             "pattern": {
              "fillmode": "overlay",
              "size": 10,
              "solidity": 0.2
             }
            },
            "type": "histogram"
           }
          ],
          "histogram2d": [
           {
            "colorbar": {
             "outlinewidth": 0,
             "ticks": ""
            },
            "colorscale": [
             [
              0,
              "#0d0887"
             ],
             [
              0.1111111111111111,
              "#46039f"
             ],
             [
              0.2222222222222222,
              "#7201a8"
             ],
             [
              0.3333333333333333,
              "#9c179e"
             ],
             [
              0.4444444444444444,
              "#bd3786"
             ],
             [
              0.5555555555555556,
              "#d8576b"
             ],
             [
              0.6666666666666666,
              "#ed7953"
             ],
             [
              0.7777777777777778,
              "#fb9f3a"
             ],
             [
              0.8888888888888888,
              "#fdca26"
             ],
             [
              1,
              "#f0f921"
             ]
            ],
            "type": "histogram2d"
           }
          ],
          "histogram2dcontour": [
           {
            "colorbar": {
             "outlinewidth": 0,
             "ticks": ""
            },
            "colorscale": [
             [
              0,
              "#0d0887"
             ],
             [
              0.1111111111111111,
              "#46039f"
             ],
             [
              0.2222222222222222,
              "#7201a8"
             ],
             [
              0.3333333333333333,
              "#9c179e"
             ],
             [
              0.4444444444444444,
              "#bd3786"
             ],
             [
              0.5555555555555556,
              "#d8576b"
             ],
             [
              0.6666666666666666,
              "#ed7953"
             ],
             [
              0.7777777777777778,
              "#fb9f3a"
             ],
             [
              0.8888888888888888,
              "#fdca26"
             ],
             [
              1,
              "#f0f921"
             ]
            ],
            "type": "histogram2dcontour"
           }
          ],
          "mesh3d": [
           {
            "colorbar": {
             "outlinewidth": 0,
             "ticks": ""
            },
            "type": "mesh3d"
           }
          ],
          "parcoords": [
           {
            "line": {
             "colorbar": {
              "outlinewidth": 0,
              "ticks": ""
             }
            },
            "type": "parcoords"
           }
          ],
          "pie": [
           {
            "automargin": true,
            "type": "pie"
           }
          ],
          "scatter": [
           {
            "fillpattern": {
             "fillmode": "overlay",
             "size": 10,
             "solidity": 0.2
            },
            "type": "scatter"
           }
          ],
          "scatter3d": [
           {
            "line": {
             "colorbar": {
              "outlinewidth": 0,
              "ticks": ""
             }
            },
            "marker": {
             "colorbar": {
              "outlinewidth": 0,
              "ticks": ""
             }
            },
            "type": "scatter3d"
           }
          ],
          "scattercarpet": [
           {
            "marker": {
             "colorbar": {
              "outlinewidth": 0,
              "ticks": ""
             }
            },
            "type": "scattercarpet"
           }
          ],
          "scattergeo": [
           {
            "marker": {
             "colorbar": {
              "outlinewidth": 0,
              "ticks": ""
             }
            },
            "type": "scattergeo"
           }
          ],
          "scattergl": [
           {
            "marker": {
             "colorbar": {
              "outlinewidth": 0,
              "ticks": ""
             }
            },
            "type": "scattergl"
           }
          ],
          "scattermapbox": [
           {
            "marker": {
             "colorbar": {
              "outlinewidth": 0,
              "ticks": ""
             }
            },
            "type": "scattermapbox"
           }
          ],
          "scatterpolar": [
           {
            "marker": {
             "colorbar": {
              "outlinewidth": 0,
              "ticks": ""
             }
            },
            "type": "scatterpolar"
           }
          ],
          "scatterpolargl": [
           {
            "marker": {
             "colorbar": {
              "outlinewidth": 0,
              "ticks": ""
             }
            },
            "type": "scatterpolargl"
           }
          ],
          "scatterternary": [
           {
            "marker": {
             "colorbar": {
              "outlinewidth": 0,
              "ticks": ""
             }
            },
            "type": "scatterternary"
           }
          ],
          "surface": [
           {
            "colorbar": {
             "outlinewidth": 0,
             "ticks": ""
            },
            "colorscale": [
             [
              0,
              "#0d0887"
             ],
             [
              0.1111111111111111,
              "#46039f"
             ],
             [
              0.2222222222222222,
              "#7201a8"
             ],
             [
              0.3333333333333333,
              "#9c179e"
             ],
             [
              0.4444444444444444,
              "#bd3786"
             ],
             [
              0.5555555555555556,
              "#d8576b"
             ],
             [
              0.6666666666666666,
              "#ed7953"
             ],
             [
              0.7777777777777778,
              "#fb9f3a"
             ],
             [
              0.8888888888888888,
              "#fdca26"
             ],
             [
              1,
              "#f0f921"
             ]
            ],
            "type": "surface"
           }
          ],
          "table": [
           {
            "cells": {
             "fill": {
              "color": "#EBF0F8"
             },
             "line": {
              "color": "white"
             }
            },
            "header": {
             "fill": {
              "color": "#C8D4E3"
             },
             "line": {
              "color": "white"
             }
            },
            "type": "table"
           }
          ]
         },
         "layout": {
          "annotationdefaults": {
           "arrowcolor": "#2a3f5f",
           "arrowhead": 0,
           "arrowwidth": 1
          },
          "autotypenumbers": "strict",
          "coloraxis": {
           "colorbar": {
            "outlinewidth": 0,
            "ticks": ""
           }
          },
          "colorscale": {
           "diverging": [
            [
             0,
             "#8e0152"
            ],
            [
             0.1,
             "#c51b7d"
            ],
            [
             0.2,
             "#de77ae"
            ],
            [
             0.3,
             "#f1b6da"
            ],
            [
             0.4,
             "#fde0ef"
            ],
            [
             0.5,
             "#f7f7f7"
            ],
            [
             0.6,
             "#e6f5d0"
            ],
            [
             0.7,
             "#b8e186"
            ],
            [
             0.8,
             "#7fbc41"
            ],
            [
             0.9,
             "#4d9221"
            ],
            [
             1,
             "#276419"
            ]
           ],
           "sequential": [
            [
             0,
             "#0d0887"
            ],
            [
             0.1111111111111111,
             "#46039f"
            ],
            [
             0.2222222222222222,
             "#7201a8"
            ],
            [
             0.3333333333333333,
             "#9c179e"
            ],
            [
             0.4444444444444444,
             "#bd3786"
            ],
            [
             0.5555555555555556,
             "#d8576b"
            ],
            [
             0.6666666666666666,
             "#ed7953"
            ],
            [
             0.7777777777777778,
             "#fb9f3a"
            ],
            [
             0.8888888888888888,
             "#fdca26"
            ],
            [
             1,
             "#f0f921"
            ]
           ],
           "sequentialminus": [
            [
             0,
             "#0d0887"
            ],
            [
             0.1111111111111111,
             "#46039f"
            ],
            [
             0.2222222222222222,
             "#7201a8"
            ],
            [
             0.3333333333333333,
             "#9c179e"
            ],
            [
             0.4444444444444444,
             "#bd3786"
            ],
            [
             0.5555555555555556,
             "#d8576b"
            ],
            [
             0.6666666666666666,
             "#ed7953"
            ],
            [
             0.7777777777777778,
             "#fb9f3a"
            ],
            [
             0.8888888888888888,
             "#fdca26"
            ],
            [
             1,
             "#f0f921"
            ]
           ]
          },
          "colorway": [
           "#636efa",
           "#EF553B",
           "#00cc96",
           "#ab63fa",
           "#FFA15A",
           "#19d3f3",
           "#FF6692",
           "#B6E880",
           "#FF97FF",
           "#FECB52"
          ],
          "font": {
           "color": "#2a3f5f"
          },
          "geo": {
           "bgcolor": "white",
           "lakecolor": "white",
           "landcolor": "#E5ECF6",
           "showlakes": true,
           "showland": true,
           "subunitcolor": "white"
          },
          "hoverlabel": {
           "align": "left"
          },
          "hovermode": "closest",
          "mapbox": {
           "style": "light"
          },
          "paper_bgcolor": "white",
          "plot_bgcolor": "#E5ECF6",
          "polar": {
           "angularaxis": {
            "gridcolor": "white",
            "linecolor": "white",
            "ticks": ""
           },
           "bgcolor": "#E5ECF6",
           "radialaxis": {
            "gridcolor": "white",
            "linecolor": "white",
            "ticks": ""
           }
          },
          "scene": {
           "xaxis": {
            "backgroundcolor": "#E5ECF6",
            "gridcolor": "white",
            "gridwidth": 2,
            "linecolor": "white",
            "showbackground": true,
            "ticks": "",
            "zerolinecolor": "white"
           },
           "yaxis": {
            "backgroundcolor": "#E5ECF6",
            "gridcolor": "white",
            "gridwidth": 2,
            "linecolor": "white",
            "showbackground": true,
            "ticks": "",
            "zerolinecolor": "white"
           },
           "zaxis": {
            "backgroundcolor": "#E5ECF6",
            "gridcolor": "white",
            "gridwidth": 2,
            "linecolor": "white",
            "showbackground": true,
            "ticks": "",
            "zerolinecolor": "white"
           }
          },
          "shapedefaults": {
           "line": {
            "color": "#2a3f5f"
           }
          },
          "ternary": {
           "aaxis": {
            "gridcolor": "white",
            "linecolor": "white",
            "ticks": ""
           },
           "baxis": {
            "gridcolor": "white",
            "linecolor": "white",
            "ticks": ""
           },
           "bgcolor": "#E5ECF6",
           "caxis": {
            "gridcolor": "white",
            "linecolor": "white",
            "ticks": ""
           }
          },
          "title": {
           "x": 0.05
          },
          "xaxis": {
           "automargin": true,
           "gridcolor": "white",
           "linecolor": "white",
           "ticks": "",
           "title": {
            "standoff": 15
           },
           "zerolinecolor": "white",
           "zerolinewidth": 2
          },
          "yaxis": {
           "automargin": true,
           "gridcolor": "white",
           "linecolor": "white",
           "ticks": "",
           "title": {
            "standoff": 15
           },
           "zerolinecolor": "white",
           "zerolinewidth": 2
          }
         }
        },
        "title": {
         "text": "Per Acre Values for Households"
        },
        "xaxis": {
         "anchor": "y",
         "domain": [
          0,
          1
         ],
         "title": {
          "text": "Center Type"
         }
        },
        "yaxis": {
         "anchor": "x",
         "domain": [
          0,
          1
         ],
         "title": {
          "text": "Per Acre Change"
         }
        }
       }
      }
     },
     "metadata": {},
     "output_type": "display_data"
    },
    {
     "data": {
      "application/vnd.plotly.v1+json": {
       "config": {
        "plotlyServerURL": "https://plot.ly"
       },
       "data": [
        {
         "alignmentgroup": "True",
         "hovertemplate": "county_name=Box Elder<br>Center Type=%{x}<br>Per Acre Change=%{text}<extra></extra>",
         "legendgroup": "Box Elder",
         "marker": {
          "color": "#636efa",
          "pattern": {
           "shape": ""
          }
         },
         "name": "Box Elder",
         "offsetgroup": "Box Elder",
         "orientation": "v",
         "showlegend": true,
         "textposition": "auto",
         "type": "bar",
         "x": [
          "Neighborhood Center",
          "City Center",
          "Urban Center",
          "Metropolitan Center"
         ],
         "xaxis": "x",
         "y": [
          7,
          10,
          30,
          60
         ],
         "yaxis": "y"
        },
        {
         "alignmentgroup": "True",
         "hovertemplate": "county_name=Weber<br>Center Type=%{x}<br>Per Acre Change=%{text}<extra></extra>",
         "legendgroup": "Weber",
         "marker": {
          "color": "#EF553B",
          "pattern": {
           "shape": ""
          }
         },
         "name": "Weber",
         "offsetgroup": "Weber",
         "orientation": "v",
         "showlegend": true,
         "textposition": "auto",
         "type": "bar",
         "x": [
          "Neighborhood Center",
          "City Center",
          "Urban Center",
          "Metropolitan Center"
         ],
         "xaxis": "x",
         "y": [
          5,
          8,
          24,
          48
         ],
         "yaxis": "y"
        },
        {
         "alignmentgroup": "True",
         "hovertemplate": "county_name=Davis<br>Center Type=%{x}<br>Per Acre Change=%{text}<extra></extra>",
         "legendgroup": "Davis",
         "marker": {
          "color": "#00cc96",
          "pattern": {
           "shape": ""
          }
         },
         "name": "Davis",
         "offsetgroup": "Davis",
         "orientation": "v",
         "showlegend": true,
         "textposition": "auto",
         "type": "bar",
         "x": [
          "Neighborhood Center",
          "City Center",
          "Urban Center",
          "Metropolitan Center"
         ],
         "xaxis": "x",
         "y": [
          7,
          10,
          30,
          60
         ],
         "yaxis": "y"
        },
        {
         "alignmentgroup": "True",
         "hovertemplate": "county_name=Salt Lake<br>Center Type=%{x}<br>Per Acre Change=%{text}<extra></extra>",
         "legendgroup": "Salt Lake",
         "marker": {
          "color": "#ab63fa",
          "pattern": {
           "shape": ""
          }
         },
         "name": "Salt Lake",
         "offsetgroup": "Salt Lake",
         "orientation": "v",
         "showlegend": true,
         "textposition": "auto",
         "type": "bar",
         "x": [
          "Neighborhood Center",
          "City Center",
          "Urban Center",
          "Metropolitan Center"
         ],
         "xaxis": "x",
         "y": [
          8,
          13,
          49,
          120
         ],
         "yaxis": "y"
        },
        {
         "alignmentgroup": "True",
         "hovertemplate": "county_name=Utah<br>Center Type=%{x}<br>Per Acre Change=%{text}<extra></extra>",
         "legendgroup": "Utah",
         "marker": {
          "color": "#FFA15A",
          "pattern": {
           "shape": ""
          }
         },
         "name": "Utah",
         "offsetgroup": "Utah",
         "orientation": "v",
         "showlegend": true,
         "textposition": "auto",
         "type": "bar",
         "x": [
          "Neighborhood Center",
          "City Center",
          "Urban Center",
          "Metropolitan Center"
         ],
         "xaxis": "x",
         "y": [
          7,
          12,
          45,
          99
         ],
         "yaxis": "y"
        }
       ],
       "layout": {
        "barmode": "group",
        "legend": {
         "title": {
          "text": "county_name"
         },
         "tracegroupgap": 0
        },
        "template": {
         "data": {
          "bar": [
           {
            "error_x": {
             "color": "#2a3f5f"
            },
            "error_y": {
             "color": "#2a3f5f"
            },
            "marker": {
             "line": {
              "color": "#E5ECF6",
              "width": 0.5
             },
             "pattern": {
              "fillmode": "overlay",
              "size": 10,
              "solidity": 0.2
             }
            },
            "type": "bar"
           }
          ],
          "barpolar": [
           {
            "marker": {
             "line": {
              "color": "#E5ECF6",
              "width": 0.5
             },
             "pattern": {
              "fillmode": "overlay",
              "size": 10,
              "solidity": 0.2
             }
            },
            "type": "barpolar"
           }
          ],
          "carpet": [
           {
            "aaxis": {
             "endlinecolor": "#2a3f5f",
             "gridcolor": "white",
             "linecolor": "white",
             "minorgridcolor": "white",
             "startlinecolor": "#2a3f5f"
            },
            "baxis": {
             "endlinecolor": "#2a3f5f",
             "gridcolor": "white",
             "linecolor": "white",
             "minorgridcolor": "white",
             "startlinecolor": "#2a3f5f"
            },
            "type": "carpet"
           }
          ],
          "choropleth": [
           {
            "colorbar": {
             "outlinewidth": 0,
             "ticks": ""
            },
            "type": "choropleth"
           }
          ],
          "contour": [
           {
            "colorbar": {
             "outlinewidth": 0,
             "ticks": ""
            },
            "colorscale": [
             [
              0,
              "#0d0887"
             ],
             [
              0.1111111111111111,
              "#46039f"
             ],
             [
              0.2222222222222222,
              "#7201a8"
             ],
             [
              0.3333333333333333,
              "#9c179e"
             ],
             [
              0.4444444444444444,
              "#bd3786"
             ],
             [
              0.5555555555555556,
              "#d8576b"
             ],
             [
              0.6666666666666666,
              "#ed7953"
             ],
             [
              0.7777777777777778,
              "#fb9f3a"
             ],
             [
              0.8888888888888888,
              "#fdca26"
             ],
             [
              1,
              "#f0f921"
             ]
            ],
            "type": "contour"
           }
          ],
          "contourcarpet": [
           {
            "colorbar": {
             "outlinewidth": 0,
             "ticks": ""
            },
            "type": "contourcarpet"
           }
          ],
          "heatmap": [
           {
            "colorbar": {
             "outlinewidth": 0,
             "ticks": ""
            },
            "colorscale": [
             [
              0,
              "#0d0887"
             ],
             [
              0.1111111111111111,
              "#46039f"
             ],
             [
              0.2222222222222222,
              "#7201a8"
             ],
             [
              0.3333333333333333,
              "#9c179e"
             ],
             [
              0.4444444444444444,
              "#bd3786"
             ],
             [
              0.5555555555555556,
              "#d8576b"
             ],
             [
              0.6666666666666666,
              "#ed7953"
             ],
             [
              0.7777777777777778,
              "#fb9f3a"
             ],
             [
              0.8888888888888888,
              "#fdca26"
             ],
             [
              1,
              "#f0f921"
             ]
            ],
            "type": "heatmap"
           }
          ],
          "heatmapgl": [
           {
            "colorbar": {
             "outlinewidth": 0,
             "ticks": ""
            },
            "colorscale": [
             [
              0,
              "#0d0887"
             ],
             [
              0.1111111111111111,
              "#46039f"
             ],
             [
              0.2222222222222222,
              "#7201a8"
             ],
             [
              0.3333333333333333,
              "#9c179e"
             ],
             [
              0.4444444444444444,
              "#bd3786"
             ],
             [
              0.5555555555555556,
              "#d8576b"
             ],
             [
              0.6666666666666666,
              "#ed7953"
             ],
             [
              0.7777777777777778,
              "#fb9f3a"
             ],
             [
              0.8888888888888888,
              "#fdca26"
             ],
             [
              1,
              "#f0f921"
             ]
            ],
            "type": "heatmapgl"
           }
          ],
          "histogram": [
           {
            "marker": {
             "pattern": {
              "fillmode": "overlay",
              "size": 10,
              "solidity": 0.2
             }
            },
            "type": "histogram"
           }
          ],
          "histogram2d": [
           {
            "colorbar": {
             "outlinewidth": 0,
             "ticks": ""
            },
            "colorscale": [
             [
              0,
              "#0d0887"
             ],
             [
              0.1111111111111111,
              "#46039f"
             ],
             [
              0.2222222222222222,
              "#7201a8"
             ],
             [
              0.3333333333333333,
              "#9c179e"
             ],
             [
              0.4444444444444444,
              "#bd3786"
             ],
             [
              0.5555555555555556,
              "#d8576b"
             ],
             [
              0.6666666666666666,
              "#ed7953"
             ],
             [
              0.7777777777777778,
              "#fb9f3a"
             ],
             [
              0.8888888888888888,
              "#fdca26"
             ],
             [
              1,
              "#f0f921"
             ]
            ],
            "type": "histogram2d"
           }
          ],
          "histogram2dcontour": [
           {
            "colorbar": {
             "outlinewidth": 0,
             "ticks": ""
            },
            "colorscale": [
             [
              0,
              "#0d0887"
             ],
             [
              0.1111111111111111,
              "#46039f"
             ],
             [
              0.2222222222222222,
              "#7201a8"
             ],
             [
              0.3333333333333333,
              "#9c179e"
             ],
             [
              0.4444444444444444,
              "#bd3786"
             ],
             [
              0.5555555555555556,
              "#d8576b"
             ],
             [
              0.6666666666666666,
              "#ed7953"
             ],
             [
              0.7777777777777778,
              "#fb9f3a"
             ],
             [
              0.8888888888888888,
              "#fdca26"
             ],
             [
              1,
              "#f0f921"
             ]
            ],
            "type": "histogram2dcontour"
           }
          ],
          "mesh3d": [
           {
            "colorbar": {
             "outlinewidth": 0,
             "ticks": ""
            },
            "type": "mesh3d"
           }
          ],
          "parcoords": [
           {
            "line": {
             "colorbar": {
              "outlinewidth": 0,
              "ticks": ""
             }
            },
            "type": "parcoords"
           }
          ],
          "pie": [
           {
            "automargin": true,
            "type": "pie"
           }
          ],
          "scatter": [
           {
            "fillpattern": {
             "fillmode": "overlay",
             "size": 10,
             "solidity": 0.2
            },
            "type": "scatter"
           }
          ],
          "scatter3d": [
           {
            "line": {
             "colorbar": {
              "outlinewidth": 0,
              "ticks": ""
             }
            },
            "marker": {
             "colorbar": {
              "outlinewidth": 0,
              "ticks": ""
             }
            },
            "type": "scatter3d"
           }
          ],
          "scattercarpet": [
           {
            "marker": {
             "colorbar": {
              "outlinewidth": 0,
              "ticks": ""
             }
            },
            "type": "scattercarpet"
           }
          ],
          "scattergeo": [
           {
            "marker": {
             "colorbar": {
              "outlinewidth": 0,
              "ticks": ""
             }
            },
            "type": "scattergeo"
           }
          ],
          "scattergl": [
           {
            "marker": {
             "colorbar": {
              "outlinewidth": 0,
              "ticks": ""
             }
            },
            "type": "scattergl"
           }
          ],
          "scattermapbox": [
           {
            "marker": {
             "colorbar": {
              "outlinewidth": 0,
              "ticks": ""
             }
            },
            "type": "scattermapbox"
           }
          ],
          "scatterpolar": [
           {
            "marker": {
             "colorbar": {
              "outlinewidth": 0,
              "ticks": ""
             }
            },
            "type": "scatterpolar"
           }
          ],
          "scatterpolargl": [
           {
            "marker": {
             "colorbar": {
              "outlinewidth": 0,
              "ticks": ""
             }
            },
            "type": "scatterpolargl"
           }
          ],
          "scatterternary": [
           {
            "marker": {
             "colorbar": {
              "outlinewidth": 0,
              "ticks": ""
             }
            },
            "type": "scatterternary"
           }
          ],
          "surface": [
           {
            "colorbar": {
             "outlinewidth": 0,
             "ticks": ""
            },
            "colorscale": [
             [
              0,
              "#0d0887"
             ],
             [
              0.1111111111111111,
              "#46039f"
             ],
             [
              0.2222222222222222,
              "#7201a8"
             ],
             [
              0.3333333333333333,
              "#9c179e"
             ],
             [
              0.4444444444444444,
              "#bd3786"
             ],
             [
              0.5555555555555556,
              "#d8576b"
             ],
             [
              0.6666666666666666,
              "#ed7953"
             ],
             [
              0.7777777777777778,
              "#fb9f3a"
             ],
             [
              0.8888888888888888,
              "#fdca26"
             ],
             [
              1,
              "#f0f921"
             ]
            ],
            "type": "surface"
           }
          ],
          "table": [
           {
            "cells": {
             "fill": {
              "color": "#EBF0F8"
             },
             "line": {
              "color": "white"
             }
            },
            "header": {
             "fill": {
              "color": "#C8D4E3"
             },
             "line": {
              "color": "white"
             }
            },
            "type": "table"
           }
          ]
         },
         "layout": {
          "annotationdefaults": {
           "arrowcolor": "#2a3f5f",
           "arrowhead": 0,
           "arrowwidth": 1
          },
          "autotypenumbers": "strict",
          "coloraxis": {
           "colorbar": {
            "outlinewidth": 0,
            "ticks": ""
           }
          },
          "colorscale": {
           "diverging": [
            [
             0,
             "#8e0152"
            ],
            [
             0.1,
             "#c51b7d"
            ],
            [
             0.2,
             "#de77ae"
            ],
            [
             0.3,
             "#f1b6da"
            ],
            [
             0.4,
             "#fde0ef"
            ],
            [
             0.5,
             "#f7f7f7"
            ],
            [
             0.6,
             "#e6f5d0"
            ],
            [
             0.7,
             "#b8e186"
            ],
            [
             0.8,
             "#7fbc41"
            ],
            [
             0.9,
             "#4d9221"
            ],
            [
             1,
             "#276419"
            ]
           ],
           "sequential": [
            [
             0,
             "#0d0887"
            ],
            [
             0.1111111111111111,
             "#46039f"
            ],
            [
             0.2222222222222222,
             "#7201a8"
            ],
            [
             0.3333333333333333,
             "#9c179e"
            ],
            [
             0.4444444444444444,
             "#bd3786"
            ],
            [
             0.5555555555555556,
             "#d8576b"
            ],
            [
             0.6666666666666666,
             "#ed7953"
            ],
            [
             0.7777777777777778,
             "#fb9f3a"
            ],
            [
             0.8888888888888888,
             "#fdca26"
            ],
            [
             1,
             "#f0f921"
            ]
           ],
           "sequentialminus": [
            [
             0,
             "#0d0887"
            ],
            [
             0.1111111111111111,
             "#46039f"
            ],
            [
             0.2222222222222222,
             "#7201a8"
            ],
            [
             0.3333333333333333,
             "#9c179e"
            ],
            [
             0.4444444444444444,
             "#bd3786"
            ],
            [
             0.5555555555555556,
             "#d8576b"
            ],
            [
             0.6666666666666666,
             "#ed7953"
            ],
            [
             0.7777777777777778,
             "#fb9f3a"
            ],
            [
             0.8888888888888888,
             "#fdca26"
            ],
            [
             1,
             "#f0f921"
            ]
           ]
          },
          "colorway": [
           "#636efa",
           "#EF553B",
           "#00cc96",
           "#ab63fa",
           "#FFA15A",
           "#19d3f3",
           "#FF6692",
           "#B6E880",
           "#FF97FF",
           "#FECB52"
          ],
          "font": {
           "color": "#2a3f5f"
          },
          "geo": {
           "bgcolor": "white",
           "lakecolor": "white",
           "landcolor": "#E5ECF6",
           "showlakes": true,
           "showland": true,
           "subunitcolor": "white"
          },
          "hoverlabel": {
           "align": "left"
          },
          "hovermode": "closest",
          "mapbox": {
           "style": "light"
          },
          "paper_bgcolor": "white",
          "plot_bgcolor": "#E5ECF6",
          "polar": {
           "angularaxis": {
            "gridcolor": "white",
            "linecolor": "white",
            "ticks": ""
           },
           "bgcolor": "#E5ECF6",
           "radialaxis": {
            "gridcolor": "white",
            "linecolor": "white",
            "ticks": ""
           }
          },
          "scene": {
           "xaxis": {
            "backgroundcolor": "#E5ECF6",
            "gridcolor": "white",
            "gridwidth": 2,
            "linecolor": "white",
            "showbackground": true,
            "ticks": "",
            "zerolinecolor": "white"
           },
           "yaxis": {
            "backgroundcolor": "#E5ECF6",
            "gridcolor": "white",
            "gridwidth": 2,
            "linecolor": "white",
            "showbackground": true,
            "ticks": "",
            "zerolinecolor": "white"
           },
           "zaxis": {
            "backgroundcolor": "#E5ECF6",
            "gridcolor": "white",
            "gridwidth": 2,
            "linecolor": "white",
            "showbackground": true,
            "ticks": "",
            "zerolinecolor": "white"
           }
          },
          "shapedefaults": {
           "line": {
            "color": "#2a3f5f"
           }
          },
          "ternary": {
           "aaxis": {
            "gridcolor": "white",
            "linecolor": "white",
            "ticks": ""
           },
           "baxis": {
            "gridcolor": "white",
            "linecolor": "white",
            "ticks": ""
           },
           "bgcolor": "#E5ECF6",
           "caxis": {
            "gridcolor": "white",
            "linecolor": "white",
            "ticks": ""
           }
          },
          "title": {
           "x": 0.05
          },
          "xaxis": {
           "automargin": true,
           "gridcolor": "white",
           "linecolor": "white",
           "ticks": "",
           "title": {
            "standoff": 15
           },
           "zerolinecolor": "white",
           "zerolinewidth": 2
          },
          "yaxis": {
           "automargin": true,
           "gridcolor": "white",
           "linecolor": "white",
           "ticks": "",
           "title": {
            "standoff": 15
           },
           "zerolinecolor": "white",
           "zerolinewidth": 2
          }
         }
        },
        "title": {
         "text": "Per Acre Values for Employees"
        },
        "xaxis": {
         "anchor": "y",
         "domain": [
          0,
          1
         ],
         "title": {
          "text": "Center Type"
         }
        },
        "yaxis": {
         "anchor": "x",
         "domain": [
          0,
          1
         ],
         "title": {
          "text": "Per Acre Change"
         }
        }
       }
      }
     },
     "metadata": {},
     "output_type": "display_data"
    }
   ],
   "source": [
    "import pandas as pd\n",
    "import plotly.express as px\n",
    "\n",
    "# Create DataFrame\n",
    "df = df_merge_again\n",
    "df['county_name'] = df['CO_FIPS'].apply(_config.lookup_county)\n",
    "df['parameter_label'] = df['parameter'].apply(_config.lookup_parameter_label)\n",
    "\n",
    "# Get unique parameters\n",
    "unique_parameters = df['parameter'].unique()\n",
    "\n",
    "# Loop through each parameter and create a separate figure\n",
    "for parameter in unique_parameters:\n",
    "    df_filtered = df[df['parameter'] == parameter]  # Filter DataFrame for the current parameter\n",
    "    parameter_label = df_filtered['parameter_label'].iloc[0]  # Get the parameter label\n",
    "    fig = px.bar(\n",
    "        df_filtered,\n",
    "        x=\"center_type\",\n",
    "        y=\"perac_ch_final\",\n",
    "        text=\"perac_ch_final\",  # Add perac_ch_final values as text\n",
    "        color=\"county_name\",\n",
    "        barmode=\"group\",\n",
    "        title=f\"Per Acre Values for {parameter_label}\",\n",
    "        labels={\"perac_ch_final\": \"Per Acre Change\", \"center_type\": \"Center Type\"},\n",
    "    )\n",
    "\n",
    "    # Customize the figure\n",
    "    fig.update_traces(text=None)  # Remove value labels if not needed\n",
    "    fig.show()  # Display the figure\n"
   ]
  }
 ],
 "metadata": {
  "kernelspec": {
   "display_name": "base",
   "language": "python",
   "name": "python3"
  },
  "language_info": {
   "codemirror_mode": {
    "name": "ipython",
    "version": 3
   },
   "file_extension": ".py",
   "mimetype": "text/x-python",
   "name": "python",
   "nbconvert_exporter": "python",
   "pygments_lexer": "ipython3",
   "version": "3.9.13"
  }
 },
 "nbformat": 4,
 "nbformat_minor": 2
}
